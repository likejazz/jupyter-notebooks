{
 "cells": [
  {
   "cell_type": "markdown",
   "id": "253204d4",
   "metadata": {},
   "source": [
    "![](https://github.com/ashishpatel26/Rapidsai_Machine_learning_on_GPU/raw/main/images/rapidsailogo.jpg?raw=true)\n",
    "\n",
    "The RAPIDS suite of open source software libraries aim to enable execution of end-to-end data science and analytics pipelines entirely on GPUs. It relies on NVIDIA® CUDA® primitives for low-level compute optimization, but exposing that GPU parallelism and high-bandwidth memory speed through user-friendly Python interfaces.\n",
    "\n",
    "이 노트북은 `CUDA_VISIBLE_DEVICES=2`를 이용해 cuDF는 GPU 3번을 사용하도록 임의로 할당했다.\n",
    "\n",
    "- Pandas: Single CPU\n",
    "- Dask: Multiple CPUs (사실상 Apache Spark와 동일한 역할을 한다)\n",
    "- cuDF: Single GPU\n",
    "- Dask-cuDF: Multiple GPUs\n",
    "- Dask-cuDF: Multiple GPUs in the Cluster\n",
    "\n",
    "Dask Cluster는 다음과 같이 구성할 수 있으나 기존 Dask(CPU 기반)와 충돌하며, 여기서는 Single GPU에서 Dask-cuDF 예제로도 충분하므로 별도 클러스터를 구동하지 않도록 한다.\n",
    "\n",
    "```python\n",
    "from dask_cuda import LocalCUDACluster\n",
    "from dask.distributed import Client\n",
    "\n",
    "# Create a Dask Cluster with one worker per GPU\n",
    "cluster = LocalCUDACluster()\n",
    "client = Client(cluster)\n",
    "```"
   ]
  },
  {
   "cell_type": "code",
   "execution_count": 1,
   "id": "7ee80023",
   "metadata": {},
   "outputs": [
    {
     "name": "stdout",
     "output_type": "stream",
     "text": [
      "1.4.2\n",
      "2022.05.2\n",
      "22.06.00\n",
      "22.06.00\n"
     ]
    }
   ],
   "source": [
    "import os\n",
    "import numpy as np\n",
    "import cupy as cp\n",
    "import pandas as pd\n",
    "import cudf\n",
    "import dask\n",
    "import dask.array as da\n",
    "import dask_cudf\n",
    "import time\n",
    "\n",
    "cp.random.seed(220919)\n",
    "\n",
    "print(pd.__version__)\n",
    "print(dask.__version__)\n",
    "print(cudf.__version__)\n",
    "print(dask_cudf.__version__)"
   ]
  },
  {
   "cell_type": "code",
   "execution_count": 221,
   "id": "241ce247",
   "metadata": {},
   "outputs": [],
   "source": [
    "# 100M 생성\n",
    "pdf = pd.DataFrame({'x': np.random.random(100000000),\n",
    "                    'y': np.random.randint(0, 100000000, size=100000000)})\n",
    "ddf = dask.dataframe.from_pandas(pdf, npartitions=4)\n",
    "cdf = cudf.DataFrame.from_pandas(pdf)\n",
    "dcdf = dask_cudf.from_cudf(cdf, npartitions=1)"
   ]
  },
  {
   "cell_type": "code",
   "execution_count": 36,
   "id": "9ad13fac",
   "metadata": {},
   "outputs": [
    {
     "data": {
      "text/html": [
       "<div>\n",
       "<style scoped>\n",
       "    .dataframe tbody tr th:only-of-type {\n",
       "        vertical-align: middle;\n",
       "    }\n",
       "\n",
       "    .dataframe tbody tr th {\n",
       "        vertical-align: top;\n",
       "    }\n",
       "\n",
       "    .dataframe thead th {\n",
       "        text-align: right;\n",
       "    }\n",
       "</style>\n",
       "<table border=\"1\" class=\"dataframe\">\n",
       "  <thead>\n",
       "    <tr style=\"text-align: right;\">\n",
       "      <th></th>\n",
       "      <th>x</th>\n",
       "      <th>y</th>\n",
       "    </tr>\n",
       "  </thead>\n",
       "  <tbody>\n",
       "    <tr>\n",
       "      <th>0</th>\n",
       "      <td>0.638084</td>\n",
       "      <td>85984516</td>\n",
       "    </tr>\n",
       "    <tr>\n",
       "      <th>1</th>\n",
       "      <td>0.212242</td>\n",
       "      <td>2583148</td>\n",
       "    </tr>\n",
       "    <tr>\n",
       "      <th>2</th>\n",
       "      <td>0.954734</td>\n",
       "      <td>85234516</td>\n",
       "    </tr>\n",
       "    <tr>\n",
       "      <th>3</th>\n",
       "      <td>0.313399</td>\n",
       "      <td>65686761</td>\n",
       "    </tr>\n",
       "    <tr>\n",
       "      <th>4</th>\n",
       "      <td>0.175229</td>\n",
       "      <td>92447388</td>\n",
       "    </tr>\n",
       "    <tr>\n",
       "      <th>...</th>\n",
       "      <td>...</td>\n",
       "      <td>...</td>\n",
       "    </tr>\n",
       "    <tr>\n",
       "      <th>99999995</th>\n",
       "      <td>0.971702</td>\n",
       "      <td>48925664</td>\n",
       "    </tr>\n",
       "    <tr>\n",
       "      <th>99999996</th>\n",
       "      <td>0.195571</td>\n",
       "      <td>14184915</td>\n",
       "    </tr>\n",
       "    <tr>\n",
       "      <th>99999997</th>\n",
       "      <td>0.093529</td>\n",
       "      <td>75506169</td>\n",
       "    </tr>\n",
       "    <tr>\n",
       "      <th>99999998</th>\n",
       "      <td>0.020003</td>\n",
       "      <td>1796415</td>\n",
       "    </tr>\n",
       "    <tr>\n",
       "      <th>99999999</th>\n",
       "      <td>0.888534</td>\n",
       "      <td>68110493</td>\n",
       "    </tr>\n",
       "  </tbody>\n",
       "</table>\n",
       "<p>100000000 rows × 2 columns</p>\n",
       "</div>"
      ],
      "text/plain": [
       "                 x         y\n",
       "0         0.638084  85984516\n",
       "1         0.212242   2583148\n",
       "2         0.954734  85234516\n",
       "3         0.313399  65686761\n",
       "4         0.175229  92447388\n",
       "...            ...       ...\n",
       "99999995  0.971702  48925664\n",
       "99999996  0.195571  14184915\n",
       "99999997  0.093529  75506169\n",
       "99999998  0.020003   1796415\n",
       "99999999  0.888534  68110493\n",
       "\n",
       "[100000000 rows x 2 columns]"
      ]
     },
     "execution_count": 36,
     "metadata": {},
     "output_type": "execute_result"
    }
   ],
   "source": [
    "cdf"
   ]
  },
  {
   "cell_type": "code",
   "execution_count": 37,
   "id": "7c4cbb36",
   "metadata": {},
   "outputs": [
    {
     "name": "stdout",
     "output_type": "stream",
     "text": [
      "<class 'cudf.core.dataframe.DataFrame'>\n",
      "RangeIndex: 100000000 entries, 0 to 99999999\n",
      "Data columns (total 2 columns):\n",
      " #   Column  Dtype\n",
      "---  ------  -----\n",
      " 0   x       float64\n",
      " 1   y       int64\n",
      "dtypes: float64(1), int64(1)\n",
      "memory usage: 1.5 GB\n"
     ]
    }
   ],
   "source": [
    "# 사이즈 1.5 GB\n",
    "cdf.info()"
   ]
  },
  {
   "cell_type": "markdown",
   "id": "073a4733",
   "metadata": {},
   "source": [
    "# 100M Elements Mean\n",
    "\n",
    "- Pandas: 173 ms\n",
    "- Dask: 46.4 ms\n",
    "- cuDF: 1.31 ms\n",
    "- Dask-cuDF: 6.76 ms\n",
    "\n",
    "Dask-cuDF는 별도 클러스터를 구동하지 않았기 때문에 Single GPU로 동작하며, 분산 작업으로 인해 속도 저하가 있다. 하지만 Dask-cuDF는 GPU 메모리 80GB를 초과하는 데이터도 처리할 수 있다."
   ]
  },
  {
   "cell_type": "code",
   "execution_count": 40,
   "id": "ccf04e82",
   "metadata": {},
   "outputs": [
    {
     "data": {
      "text/plain": [
       "0.4999567872380305"
      ]
     },
     "execution_count": 40,
     "metadata": {},
     "output_type": "execute_result"
    }
   ],
   "source": [
    "pdf.x.mean()"
   ]
  },
  {
   "cell_type": "code",
   "execution_count": 10,
   "id": "f4442f75",
   "metadata": {},
   "outputs": [
    {
     "name": "stdout",
     "output_type": "stream",
     "text": [
      "173 ms ± 402 µs per loop (mean ± std. dev. of 7 runs, 10 loops each)\n"
     ]
    }
   ],
   "source": [
    "%timeit pdf.x.mean()"
   ]
  },
  {
   "cell_type": "code",
   "execution_count": 11,
   "id": "88037271",
   "metadata": {},
   "outputs": [
    {
     "name": "stdout",
     "output_type": "stream",
     "text": [
      "46.4 ms ± 221 µs per loop (mean ± std. dev. of 7 runs, 10 loops each)\n"
     ]
    }
   ],
   "source": [
    "%timeit ddf.x.mean().compute()"
   ]
  },
  {
   "cell_type": "code",
   "execution_count": 12,
   "id": "583db8c3",
   "metadata": {},
   "outputs": [
    {
     "name": "stdout",
     "output_type": "stream",
     "text": [
      "1.31 ms ± 10.2 µs per loop (mean ± std. dev. of 7 runs, 1,000 loops each)\n"
     ]
    }
   ],
   "source": [
    "%timeit cdf.x.mean()"
   ]
  },
  {
   "cell_type": "code",
   "execution_count": 13,
   "id": "bf5ed4a2",
   "metadata": {},
   "outputs": [
    {
     "name": "stdout",
     "output_type": "stream",
     "text": [
      "6.76 ms ± 129 µs per loop (mean ± std. dev. of 7 runs, 100 loops each)\n"
     ]
    }
   ],
   "source": [
    "%timeit dcdf.x.mean().compute()"
   ]
  },
  {
   "cell_type": "markdown",
   "id": "dcc7ab1a",
   "metadata": {},
   "source": [
    "여기서부터는 단순 행렬 대신 실제 데이터로 변경해 실험 진행"
   ]
  },
  {
   "cell_type": "code",
   "execution_count": 89,
   "id": "91b5aae9",
   "metadata": {},
   "outputs": [],
   "source": [
    "pdf = pd.read_csv(\"../loan-default-data/SmallSizedData.csv\")\n",
    "ddf = dask.dataframe.read_csv(\"../loan-default-data/SmallSizedData.csv\", blocksize=25e6)  # 25MB chunks\n",
    "cdf = cudf.read_csv(\"../loan-default-data/SmallSizedData.csv\")\n",
    "dcdf = dask_cudf.read_csv(\"../loan-default-data/SmallSizedData.csv\", npartitions=1)"
   ]
  },
  {
   "cell_type": "code",
   "execution_count": 80,
   "id": "a5cce9c4",
   "metadata": {},
   "outputs": [
    {
     "name": "stdout",
     "output_type": "stream",
     "text": [
      "<class 'cudf.core.dataframe.DataFrame'>\n",
      "RangeIndex: 887379 entries, 0 to 887378\n",
      "Data columns (total 22 columns):\n",
      " #   Column             Non-Null Count   Dtype\n",
      "---  ------             --------------   -----\n",
      " 0   cust_id            887379 non-null  int64\n",
      " 1   year               887379 non-null  int64\n",
      " 2   state              887379 non-null  object\n",
      " 3   date_issued        887379 non-null  object\n",
      " 4   date_final         887379 non-null  int64\n",
      " 5   emp_duration       887379 non-null  float64\n",
      " 6   own_type           887379 non-null  object\n",
      " 7   income_type        887379 non-null  object\n",
      " 8   app_type           887379 non-null  object\n",
      " 9   loan_purpose       887379 non-null  object\n",
      " 10  interest_payments  887379 non-null  object\n",
      " 11  grade              887379 non-null  object\n",
      " 12  annual_pay         887379 non-null  int64\n",
      " 13  loan_amount        887379 non-null  int64\n",
      " 14  interest_rate      887379 non-null  float64\n",
      " 15  loan_duration      887379 non-null  object\n",
      " 16  dti                887379 non-null  float64\n",
      " 17  total_pymnt        887379 non-null  float64\n",
      " 18  total_rec_prncp    887379 non-null  float64\n",
      " 19  recoveries         887379 non-null  float64\n",
      " 20  installment        887379 non-null  float64\n",
      " 21  is_default         887379 non-null  int64\n",
      "dtypes: float64(7), int64(6), object(9)\n",
      "memory usage: 176.0+ MB\n"
     ]
    }
   ],
   "source": [
    "# 사이즈 176 MB\n",
    "cdf.info()"
   ]
  },
  {
   "cell_type": "markdown",
   "id": "1e78d1ca",
   "metadata": {},
   "source": [
    "# Selection\n",
    "\n",
    "단순 조회는 Pandas 보다 cuDF가 살짝 더 빠르다. 또한 Dask는 각 파티션 결과를 모두 조회해오기 때문에 매우 느리며, 인덱스 조회의 경우 모든 파티션 결과가 출력된다."
   ]
  },
  {
   "cell_type": "code",
   "execution_count": 90,
   "id": "35ec1621",
   "metadata": {},
   "outputs": [
    {
     "data": {
      "text/html": [
       "<div>\n",
       "<style scoped>\n",
       "    .dataframe tbody tr th:only-of-type {\n",
       "        vertical-align: middle;\n",
       "    }\n",
       "\n",
       "    .dataframe tbody tr th {\n",
       "        vertical-align: top;\n",
       "    }\n",
       "\n",
       "    .dataframe thead th {\n",
       "        text-align: right;\n",
       "    }\n",
       "</style>\n",
       "<table border=\"1\" class=\"dataframe\">\n",
       "  <thead>\n",
       "    <tr style=\"text-align: right;\">\n",
       "      <th></th>\n",
       "      <th>cust_id</th>\n",
       "      <th>year</th>\n",
       "    </tr>\n",
       "  </thead>\n",
       "  <tbody>\n",
       "    <tr>\n",
       "      <th>100004</th>\n",
       "      <td>3006131</td>\n",
       "      <td>2013</td>\n",
       "    </tr>\n",
       "    <tr>\n",
       "      <th>100005</th>\n",
       "      <td>3006168</td>\n",
       "      <td>2013</td>\n",
       "    </tr>\n",
       "    <tr>\n",
       "      <th>100006</th>\n",
       "      <td>3006171</td>\n",
       "      <td>2013</td>\n",
       "    </tr>\n",
       "    <tr>\n",
       "      <th>100007</th>\n",
       "      <td>3006172</td>\n",
       "      <td>2013</td>\n",
       "    </tr>\n",
       "    <tr>\n",
       "      <th>100008</th>\n",
       "      <td>3006181</td>\n",
       "      <td>2013</td>\n",
       "    </tr>\n",
       "  </tbody>\n",
       "</table>\n",
       "</div>"
      ],
      "text/plain": [
       "        cust_id  year\n",
       "100004  3006131  2013\n",
       "100005  3006168  2013\n",
       "100006  3006171  2013\n",
       "100007  3006172  2013\n",
       "100008  3006181  2013"
      ]
     },
     "execution_count": 90,
     "metadata": {},
     "output_type": "execute_result"
    }
   ],
   "source": [
    "pdf.loc[100004:100008, ['cust_id', 'year']]"
   ]
  },
  {
   "cell_type": "code",
   "execution_count": 84,
   "id": "1ebaea53",
   "metadata": {},
   "outputs": [
    {
     "name": "stdout",
     "output_type": "stream",
     "text": [
      "342 µs ± 874 ns per loop (mean ± std. dev. of 7 runs, 1,000 loops each)\n"
     ]
    }
   ],
   "source": [
    "%timeit pdf.loc[200004:200008, ['cust_id', 'year']]"
   ]
  },
  {
   "cell_type": "code",
   "execution_count": 91,
   "id": "32d4e1c7",
   "metadata": {},
   "outputs": [
    {
     "data": {
      "text/html": [
       "<div><strong>Dask DataFrame Structure:</strong></div>\n",
       "<div>\n",
       "<style scoped>\n",
       "    .dataframe tbody tr th:only-of-type {\n",
       "        vertical-align: middle;\n",
       "    }\n",
       "\n",
       "    .dataframe tbody tr th {\n",
       "        vertical-align: top;\n",
       "    }\n",
       "\n",
       "    .dataframe thead th {\n",
       "        text-align: right;\n",
       "    }\n",
       "</style>\n",
       "<table border=\"1\" class=\"dataframe\">\n",
       "  <thead>\n",
       "    <tr style=\"text-align: right;\">\n",
       "      <th></th>\n",
       "      <th>cust_id</th>\n",
       "      <th>year</th>\n",
       "      <th>state</th>\n",
       "      <th>date_issued</th>\n",
       "      <th>date_final</th>\n",
       "      <th>emp_duration</th>\n",
       "      <th>own_type</th>\n",
       "      <th>income_type</th>\n",
       "      <th>app_type</th>\n",
       "      <th>loan_purpose</th>\n",
       "      <th>interest_payments</th>\n",
       "      <th>grade</th>\n",
       "      <th>annual_pay</th>\n",
       "      <th>loan_amount</th>\n",
       "      <th>interest_rate</th>\n",
       "      <th>loan_duration</th>\n",
       "      <th>dti</th>\n",
       "      <th>total_pymnt</th>\n",
       "      <th>total_rec_prncp</th>\n",
       "      <th>recoveries</th>\n",
       "      <th>installment</th>\n",
       "      <th>is_default</th>\n",
       "    </tr>\n",
       "    <tr>\n",
       "      <th>npartitions=5</th>\n",
       "      <th></th>\n",
       "      <th></th>\n",
       "      <th></th>\n",
       "      <th></th>\n",
       "      <th></th>\n",
       "      <th></th>\n",
       "      <th></th>\n",
       "      <th></th>\n",
       "      <th></th>\n",
       "      <th></th>\n",
       "      <th></th>\n",
       "      <th></th>\n",
       "      <th></th>\n",
       "      <th></th>\n",
       "      <th></th>\n",
       "      <th></th>\n",
       "      <th></th>\n",
       "      <th></th>\n",
       "      <th></th>\n",
       "      <th></th>\n",
       "      <th></th>\n",
       "      <th></th>\n",
       "    </tr>\n",
       "  </thead>\n",
       "  <tbody>\n",
       "    <tr>\n",
       "      <th></th>\n",
       "      <td>int64</td>\n",
       "      <td>int64</td>\n",
       "      <td>object</td>\n",
       "      <td>object</td>\n",
       "      <td>int64</td>\n",
       "      <td>float64</td>\n",
       "      <td>object</td>\n",
       "      <td>object</td>\n",
       "      <td>object</td>\n",
       "      <td>object</td>\n",
       "      <td>object</td>\n",
       "      <td>object</td>\n",
       "      <td>int64</td>\n",
       "      <td>int64</td>\n",
       "      <td>float64</td>\n",
       "      <td>object</td>\n",
       "      <td>float64</td>\n",
       "      <td>float64</td>\n",
       "      <td>float64</td>\n",
       "      <td>float64</td>\n",
       "      <td>float64</td>\n",
       "      <td>int64</td>\n",
       "    </tr>\n",
       "    <tr>\n",
       "      <th></th>\n",
       "      <td>...</td>\n",
       "      <td>...</td>\n",
       "      <td>...</td>\n",
       "      <td>...</td>\n",
       "      <td>...</td>\n",
       "      <td>...</td>\n",
       "      <td>...</td>\n",
       "      <td>...</td>\n",
       "      <td>...</td>\n",
       "      <td>...</td>\n",
       "      <td>...</td>\n",
       "      <td>...</td>\n",
       "      <td>...</td>\n",
       "      <td>...</td>\n",
       "      <td>...</td>\n",
       "      <td>...</td>\n",
       "      <td>...</td>\n",
       "      <td>...</td>\n",
       "      <td>...</td>\n",
       "      <td>...</td>\n",
       "      <td>...</td>\n",
       "      <td>...</td>\n",
       "    </tr>\n",
       "    <tr>\n",
       "      <th>...</th>\n",
       "      <td>...</td>\n",
       "      <td>...</td>\n",
       "      <td>...</td>\n",
       "      <td>...</td>\n",
       "      <td>...</td>\n",
       "      <td>...</td>\n",
       "      <td>...</td>\n",
       "      <td>...</td>\n",
       "      <td>...</td>\n",
       "      <td>...</td>\n",
       "      <td>...</td>\n",
       "      <td>...</td>\n",
       "      <td>...</td>\n",
       "      <td>...</td>\n",
       "      <td>...</td>\n",
       "      <td>...</td>\n",
       "      <td>...</td>\n",
       "      <td>...</td>\n",
       "      <td>...</td>\n",
       "      <td>...</td>\n",
       "      <td>...</td>\n",
       "      <td>...</td>\n",
       "    </tr>\n",
       "    <tr>\n",
       "      <th></th>\n",
       "      <td>...</td>\n",
       "      <td>...</td>\n",
       "      <td>...</td>\n",
       "      <td>...</td>\n",
       "      <td>...</td>\n",
       "      <td>...</td>\n",
       "      <td>...</td>\n",
       "      <td>...</td>\n",
       "      <td>...</td>\n",
       "      <td>...</td>\n",
       "      <td>...</td>\n",
       "      <td>...</td>\n",
       "      <td>...</td>\n",
       "      <td>...</td>\n",
       "      <td>...</td>\n",
       "      <td>...</td>\n",
       "      <td>...</td>\n",
       "      <td>...</td>\n",
       "      <td>...</td>\n",
       "      <td>...</td>\n",
       "      <td>...</td>\n",
       "      <td>...</td>\n",
       "    </tr>\n",
       "    <tr>\n",
       "      <th></th>\n",
       "      <td>...</td>\n",
       "      <td>...</td>\n",
       "      <td>...</td>\n",
       "      <td>...</td>\n",
       "      <td>...</td>\n",
       "      <td>...</td>\n",
       "      <td>...</td>\n",
       "      <td>...</td>\n",
       "      <td>...</td>\n",
       "      <td>...</td>\n",
       "      <td>...</td>\n",
       "      <td>...</td>\n",
       "      <td>...</td>\n",
       "      <td>...</td>\n",
       "      <td>...</td>\n",
       "      <td>...</td>\n",
       "      <td>...</td>\n",
       "      <td>...</td>\n",
       "      <td>...</td>\n",
       "      <td>...</td>\n",
       "      <td>...</td>\n",
       "      <td>...</td>\n",
       "    </tr>\n",
       "  </tbody>\n",
       "</table>\n",
       "</div>\n",
       "<div>Dask Name: read-csv, 5 tasks</div>"
      ],
      "text/plain": [
       "Dask DataFrame Structure:\n",
       "              cust_id   year   state date_issued date_final emp_duration own_type income_type app_type loan_purpose interest_payments   grade annual_pay loan_amount interest_rate loan_duration      dti total_pymnt total_rec_prncp recoveries installment is_default\n",
       "npartitions=5                                                                                                                                                                                                                                                          \n",
       "                int64  int64  object      object      int64      float64   object      object   object       object            object  object      int64       int64       float64        object  float64     float64         float64    float64     float64      int64\n",
       "                  ...    ...     ...         ...        ...          ...      ...         ...      ...          ...               ...     ...        ...         ...           ...           ...      ...         ...             ...        ...         ...        ...\n",
       "...               ...    ...     ...         ...        ...          ...      ...         ...      ...          ...               ...     ...        ...         ...           ...           ...      ...         ...             ...        ...         ...        ...\n",
       "                  ...    ...     ...         ...        ...          ...      ...         ...      ...          ...               ...     ...        ...         ...           ...           ...      ...         ...             ...        ...         ...        ...\n",
       "                  ...    ...     ...         ...        ...          ...      ...         ...      ...          ...               ...     ...        ...         ...           ...           ...      ...         ...             ...        ...         ...        ...\n",
       "Dask Name: read-csv, 5 tasks"
      ]
     },
     "execution_count": 91,
     "metadata": {},
     "output_type": "execute_result"
    }
   ],
   "source": [
    "ddf"
   ]
  },
  {
   "cell_type": "code",
   "execution_count": 93,
   "id": "8ad77a71",
   "metadata": {},
   "outputs": [
    {
     "data": {
      "text/html": [
       "<div>\n",
       "<style scoped>\n",
       "    .dataframe tbody tr th:only-of-type {\n",
       "        vertical-align: middle;\n",
       "    }\n",
       "\n",
       "    .dataframe tbody tr th {\n",
       "        vertical-align: top;\n",
       "    }\n",
       "\n",
       "    .dataframe thead th {\n",
       "        text-align: right;\n",
       "    }\n",
       "</style>\n",
       "<table border=\"1\" class=\"dataframe\">\n",
       "  <thead>\n",
       "    <tr style=\"text-align: right;\">\n",
       "      <th></th>\n",
       "      <th>cust_id</th>\n",
       "      <th>year</th>\n",
       "    </tr>\n",
       "  </thead>\n",
       "  <tbody>\n",
       "    <tr>\n",
       "      <th>100004</th>\n",
       "      <td>3006131</td>\n",
       "      <td>2013</td>\n",
       "    </tr>\n",
       "    <tr>\n",
       "      <th>100005</th>\n",
       "      <td>3006168</td>\n",
       "      <td>2013</td>\n",
       "    </tr>\n",
       "    <tr>\n",
       "      <th>100006</th>\n",
       "      <td>3006171</td>\n",
       "      <td>2013</td>\n",
       "    </tr>\n",
       "    <tr>\n",
       "      <th>100007</th>\n",
       "      <td>3006172</td>\n",
       "      <td>2013</td>\n",
       "    </tr>\n",
       "    <tr>\n",
       "      <th>100008</th>\n",
       "      <td>3006181</td>\n",
       "      <td>2013</td>\n",
       "    </tr>\n",
       "    <tr>\n",
       "      <th>100004</th>\n",
       "      <td>12956272</td>\n",
       "      <td>2014</td>\n",
       "    </tr>\n",
       "    <tr>\n",
       "      <th>100005</th>\n",
       "      <td>12956282</td>\n",
       "      <td>2014</td>\n",
       "    </tr>\n",
       "    <tr>\n",
       "      <th>100006</th>\n",
       "      <td>12956288</td>\n",
       "      <td>2014</td>\n",
       "    </tr>\n",
       "    <tr>\n",
       "      <th>100007</th>\n",
       "      <td>12956294</td>\n",
       "      <td>2014</td>\n",
       "    </tr>\n",
       "    <tr>\n",
       "      <th>100008</th>\n",
       "      <td>12956305</td>\n",
       "      <td>2014</td>\n",
       "    </tr>\n",
       "    <tr>\n",
       "      <th>100004</th>\n",
       "      <td>35653759</td>\n",
       "      <td>2014</td>\n",
       "    </tr>\n",
       "    <tr>\n",
       "      <th>100005</th>\n",
       "      <td>35653763</td>\n",
       "      <td>2014</td>\n",
       "    </tr>\n",
       "    <tr>\n",
       "      <th>100006</th>\n",
       "      <td>35653769</td>\n",
       "      <td>2014</td>\n",
       "    </tr>\n",
       "    <tr>\n",
       "      <th>100007</th>\n",
       "      <td>35653770</td>\n",
       "      <td>2014</td>\n",
       "    </tr>\n",
       "    <tr>\n",
       "      <th>100008</th>\n",
       "      <td>35653771</td>\n",
       "      <td>2014</td>\n",
       "    </tr>\n",
       "    <tr>\n",
       "      <th>100004</th>\n",
       "      <td>51115396</td>\n",
       "      <td>2015</td>\n",
       "    </tr>\n",
       "    <tr>\n",
       "      <th>100005</th>\n",
       "      <td>51115126</td>\n",
       "      <td>2015</td>\n",
       "    </tr>\n",
       "    <tr>\n",
       "      <th>100006</th>\n",
       "      <td>51115461</td>\n",
       "      <td>2015</td>\n",
       "    </tr>\n",
       "    <tr>\n",
       "      <th>100007</th>\n",
       "      <td>51115485</td>\n",
       "      <td>2015</td>\n",
       "    </tr>\n",
       "    <tr>\n",
       "      <th>100008</th>\n",
       "      <td>51115684</td>\n",
       "      <td>2015</td>\n",
       "    </tr>\n",
       "    <tr>\n",
       "      <th>100004</th>\n",
       "      <td>63479672</td>\n",
       "      <td>2015</td>\n",
       "    </tr>\n",
       "    <tr>\n",
       "      <th>100005</th>\n",
       "      <td>63479675</td>\n",
       "      <td>2015</td>\n",
       "    </tr>\n",
       "    <tr>\n",
       "      <th>100006</th>\n",
       "      <td>63479680</td>\n",
       "      <td>2015</td>\n",
       "    </tr>\n",
       "    <tr>\n",
       "      <th>100007</th>\n",
       "      <td>63479702</td>\n",
       "      <td>2015</td>\n",
       "    </tr>\n",
       "    <tr>\n",
       "      <th>100008</th>\n",
       "      <td>63479705</td>\n",
       "      <td>2015</td>\n",
       "    </tr>\n",
       "  </tbody>\n",
       "</table>\n",
       "</div>"
      ],
      "text/plain": [
       "         cust_id  year\n",
       "100004   3006131  2013\n",
       "100005   3006168  2013\n",
       "100006   3006171  2013\n",
       "100007   3006172  2013\n",
       "100008   3006181  2013\n",
       "100004  12956272  2014\n",
       "100005  12956282  2014\n",
       "100006  12956288  2014\n",
       "100007  12956294  2014\n",
       "100008  12956305  2014\n",
       "100004  35653759  2014\n",
       "100005  35653763  2014\n",
       "100006  35653769  2014\n",
       "100007  35653770  2014\n",
       "100008  35653771  2014\n",
       "100004  51115396  2015\n",
       "100005  51115126  2015\n",
       "100006  51115461  2015\n",
       "100007  51115485  2015\n",
       "100008  51115684  2015\n",
       "100004  63479672  2015\n",
       "100005  63479675  2015\n",
       "100006  63479680  2015\n",
       "100007  63479702  2015\n",
       "100008  63479705  2015"
      ]
     },
     "execution_count": 93,
     "metadata": {},
     "output_type": "execute_result"
    }
   ],
   "source": [
    "# Dask는 5개의 파티션으로 쪼개져 있기 때문에 인덱스로 추출하면 5개 파티션 결과가 모두 나온다.\n",
    "ddf.loc[100004:100008, ['cust_id', 'year']].compute()"
   ]
  },
  {
   "cell_type": "code",
   "execution_count": 94,
   "id": "9278e304",
   "metadata": {},
   "outputs": [
    {
     "name": "stdout",
     "output_type": "stream",
     "text": [
      "619 ms ± 20.4 ms per loop (mean ± std. dev. of 7 runs, 1 loop each)\n"
     ]
    }
   ],
   "source": [
    "%timeit ddf.loc[100004:100008, ['cust_id', 'year']].compute()"
   ]
  },
  {
   "cell_type": "code",
   "execution_count": 95,
   "id": "5fd7bed7",
   "metadata": {},
   "outputs": [
    {
     "name": "stdout",
     "output_type": "stream",
     "text": [
      "288 µs ± 390 ns per loop (mean ± std. dev. of 7 runs, 1,000 loops each)\n"
     ]
    }
   ],
   "source": [
    "%timeit cdf.loc[200004:200008, ['cust_id', 'year']]"
   ]
  },
  {
   "cell_type": "code",
   "execution_count": 97,
   "id": "bcedd032",
   "metadata": {},
   "outputs": [
    {
     "name": "stdout",
     "output_type": "stream",
     "text": [
      "80.3 ms ± 1.09 ms per loop (mean ± std. dev. of 7 runs, 10 loops each)\n"
     ]
    }
   ],
   "source": [
    "%timeit dcdf.loc[200004:200008, ['cust_id', 'year']].compute()"
   ]
  },
  {
   "cell_type": "markdown",
   "id": "c3df003c",
   "metadata": {},
   "source": [
    "# Sorting Values\n",
    "\n",
    "전체 소팅은 분산 처리시 속도 저하가 크다. Single GPU로 동작하는 cuDF가 가장 좋은 속도를 보인다. 하지만 Dask-cuDF도 Pandas보다는 조금 더 빠른 속도를 보인다."
   ]
  },
  {
   "cell_type": "code",
   "execution_count": 98,
   "id": "1d5535f0",
   "metadata": {},
   "outputs": [
    {
     "data": {
      "text/html": [
       "<div>\n",
       "<style scoped>\n",
       "    .dataframe tbody tr th:only-of-type {\n",
       "        vertical-align: middle;\n",
       "    }\n",
       "\n",
       "    .dataframe tbody tr th {\n",
       "        vertical-align: top;\n",
       "    }\n",
       "\n",
       "    .dataframe thead th {\n",
       "        text-align: right;\n",
       "    }\n",
       "</style>\n",
       "<table border=\"1\" class=\"dataframe\">\n",
       "  <thead>\n",
       "    <tr style=\"text-align: right;\">\n",
       "      <th></th>\n",
       "      <th>cust_id</th>\n",
       "      <th>year</th>\n",
       "      <th>state</th>\n",
       "      <th>date_issued</th>\n",
       "      <th>date_final</th>\n",
       "      <th>emp_duration</th>\n",
       "      <th>own_type</th>\n",
       "      <th>income_type</th>\n",
       "      <th>app_type</th>\n",
       "      <th>loan_purpose</th>\n",
       "      <th>...</th>\n",
       "      <th>annual_pay</th>\n",
       "      <th>loan_amount</th>\n",
       "      <th>interest_rate</th>\n",
       "      <th>loan_duration</th>\n",
       "      <th>dti</th>\n",
       "      <th>total_pymnt</th>\n",
       "      <th>total_rec_prncp</th>\n",
       "      <th>recoveries</th>\n",
       "      <th>installment</th>\n",
       "      <th>is_default</th>\n",
       "    </tr>\n",
       "  </thead>\n",
       "  <tbody>\n",
       "    <tr>\n",
       "      <th>7853</th>\n",
       "      <td>54734</td>\n",
       "      <td>2009</td>\n",
       "      <td>Haryana</td>\n",
       "      <td>01/08/2009</td>\n",
       "      <td>1102011</td>\n",
       "      <td>0.5</td>\n",
       "      <td>RENT</td>\n",
       "      <td>Low</td>\n",
       "      <td>INDIVIDUAL</td>\n",
       "      <td>debt_consolidation</td>\n",
       "      <td>...</td>\n",
       "      <td>85000</td>\n",
       "      <td>25000</td>\n",
       "      <td>11.89</td>\n",
       "      <td>36 months</td>\n",
       "      <td>19.48</td>\n",
       "      <td>29324.32</td>\n",
       "      <td>25000.00</td>\n",
       "      <td>0.00</td>\n",
       "      <td>829.10</td>\n",
       "      <td>0</td>\n",
       "    </tr>\n",
       "    <tr>\n",
       "      <th>614</th>\n",
       "      <td>55521</td>\n",
       "      <td>2008</td>\n",
       "      <td>Karnataka</td>\n",
       "      <td>01/07/2008</td>\n",
       "      <td>1032010</td>\n",
       "      <td>0.5</td>\n",
       "      <td>RENT</td>\n",
       "      <td>Low</td>\n",
       "      <td>INDIVIDUAL</td>\n",
       "      <td>debt_consolidation</td>\n",
       "      <td>...</td>\n",
       "      <td>30000</td>\n",
       "      <td>1000</td>\n",
       "      <td>16.08</td>\n",
       "      <td>36 months</td>\n",
       "      <td>23.84</td>\n",
       "      <td>1207.76</td>\n",
       "      <td>999.99</td>\n",
       "      <td>0.00</td>\n",
       "      <td>35.20</td>\n",
       "      <td>0</td>\n",
       "    </tr>\n",
       "    <tr>\n",
       "      <th>615</th>\n",
       "      <td>55742</td>\n",
       "      <td>2008</td>\n",
       "      <td>West Bengal</td>\n",
       "      <td>01/05/2008</td>\n",
       "      <td>1062011</td>\n",
       "      <td>0.5</td>\n",
       "      <td>RENT</td>\n",
       "      <td>Low</td>\n",
       "      <td>INDIVIDUAL</td>\n",
       "      <td>credit_card</td>\n",
       "      <td>...</td>\n",
       "      <td>65000</td>\n",
       "      <td>7000</td>\n",
       "      <td>10.71</td>\n",
       "      <td>36 months</td>\n",
       "      <td>14.29</td>\n",
       "      <td>8215.45</td>\n",
       "      <td>7000.00</td>\n",
       "      <td>0.00</td>\n",
       "      <td>228.22</td>\n",
       "      <td>0</td>\n",
       "    </tr>\n",
       "    <tr>\n",
       "      <th>636</th>\n",
       "      <td>56413</td>\n",
       "      <td>2008</td>\n",
       "      <td>Nagaland</td>\n",
       "      <td>01/04/2008</td>\n",
       "      <td>1102008</td>\n",
       "      <td>10.0</td>\n",
       "      <td>MORTGAGE</td>\n",
       "      <td>Medium</td>\n",
       "      <td>INDIVIDUAL</td>\n",
       "      <td>debt_consolidation</td>\n",
       "      <td>...</td>\n",
       "      <td>189500</td>\n",
       "      <td>7000</td>\n",
       "      <td>16.08</td>\n",
       "      <td>36 months</td>\n",
       "      <td>22.47</td>\n",
       "      <td>1231.90</td>\n",
       "      <td>783.46</td>\n",
       "      <td>0.25</td>\n",
       "      <td>246.38</td>\n",
       "      <td>1</td>\n",
       "    </tr>\n",
       "    <tr>\n",
       "      <th>470508</th>\n",
       "      <td>56705</td>\n",
       "      <td>2015</td>\n",
       "      <td>Andhra Pradesh</td>\n",
       "      <td>01/11/2015</td>\n",
       "      <td>1012016</td>\n",
       "      <td>10.0</td>\n",
       "      <td>MORTGAGE</td>\n",
       "      <td>Low</td>\n",
       "      <td>INDIVIDUAL</td>\n",
       "      <td>debt_consolidation</td>\n",
       "      <td>...</td>\n",
       "      <td>33500</td>\n",
       "      <td>11000</td>\n",
       "      <td>9.99</td>\n",
       "      <td>36 months</td>\n",
       "      <td>18.38</td>\n",
       "      <td>376.25</td>\n",
       "      <td>263.31</td>\n",
       "      <td>0.00</td>\n",
       "      <td>354.89</td>\n",
       "      <td>0</td>\n",
       "    </tr>\n",
       "  </tbody>\n",
       "</table>\n",
       "<p>5 rows × 22 columns</p>\n",
       "</div>"
      ],
      "text/plain": [
       "        cust_id  year           state date_issued  date_final  emp_duration  \\\n",
       "7853      54734  2009         Haryana  01/08/2009     1102011           0.5   \n",
       "614       55521  2008       Karnataka  01/07/2008     1032010           0.5   \n",
       "615       55742  2008     West Bengal  01/05/2008     1062011           0.5   \n",
       "636       56413  2008        Nagaland  01/04/2008     1102008          10.0   \n",
       "470508    56705  2015  Andhra Pradesh  01/11/2015     1012016          10.0   \n",
       "\n",
       "        own_type income_type    app_type        loan_purpose  ... annual_pay  \\\n",
       "7853        RENT         Low  INDIVIDUAL  debt_consolidation  ...      85000   \n",
       "614         RENT         Low  INDIVIDUAL  debt_consolidation  ...      30000   \n",
       "615         RENT         Low  INDIVIDUAL         credit_card  ...      65000   \n",
       "636     MORTGAGE      Medium  INDIVIDUAL  debt_consolidation  ...     189500   \n",
       "470508  MORTGAGE         Low  INDIVIDUAL  debt_consolidation  ...      33500   \n",
       "\n",
       "       loan_amount  interest_rate  loan_duration    dti total_pymnt  \\\n",
       "7853         25000          11.89      36 months  19.48    29324.32   \n",
       "614           1000          16.08      36 months  23.84     1207.76   \n",
       "615           7000          10.71      36 months  14.29     8215.45   \n",
       "636           7000          16.08      36 months  22.47     1231.90   \n",
       "470508       11000           9.99      36 months  18.38      376.25   \n",
       "\n",
       "        total_rec_prncp  recoveries  installment  is_default  \n",
       "7853           25000.00        0.00       829.10           0  \n",
       "614              999.99        0.00        35.20           0  \n",
       "615             7000.00        0.00       228.22           0  \n",
       "636              783.46        0.25       246.38           1  \n",
       "470508           263.31        0.00       354.89           0  \n",
       "\n",
       "[5 rows x 22 columns]"
      ]
     },
     "execution_count": 98,
     "metadata": {},
     "output_type": "execute_result"
    }
   ],
   "source": [
    "pdf.sort_values('cust_id').head()"
   ]
  },
  {
   "cell_type": "code",
   "execution_count": 99,
   "id": "fa038059",
   "metadata": {},
   "outputs": [
    {
     "name": "stdout",
     "output_type": "stream",
     "text": [
      "166 ms ± 582 µs per loop (mean ± std. dev. of 7 runs, 10 loops each)\n"
     ]
    }
   ],
   "source": [
    "%timeit pdf.sort_values('cust_id').head()"
   ]
  },
  {
   "cell_type": "code",
   "execution_count": 103,
   "id": "2c20fed4",
   "metadata": {},
   "outputs": [
    {
     "name": "stdout",
     "output_type": "stream",
     "text": [
      "2.02 s ± 22.3 ms per loop (mean ± std. dev. of 7 runs, 1 loop each)\n"
     ]
    }
   ],
   "source": [
    "%timeit ddf.sort_values('cust_id').head()"
   ]
  },
  {
   "cell_type": "code",
   "execution_count": 105,
   "id": "5ff1ac57",
   "metadata": {},
   "outputs": [
    {
     "name": "stdout",
     "output_type": "stream",
     "text": [
      "20.4 ms ± 96.2 µs per loop (mean ± std. dev. of 7 runs, 100 loops each)\n"
     ]
    }
   ],
   "source": [
    "%timeit cdf.sort_values('cust_id').head()"
   ]
  },
  {
   "cell_type": "code",
   "execution_count": 107,
   "id": "80754280",
   "metadata": {},
   "outputs": [
    {
     "name": "stdout",
     "output_type": "stream",
     "text": [
      "116 ms ± 670 µs per loop (mean ± std. dev. of 7 runs, 10 loops each)\n"
     ]
    }
   ],
   "source": [
    "%timeit dcdf.sort_values('cust_id').head()"
   ]
  },
  {
   "cell_type": "markdown",
   "id": "5af31368",
   "metadata": {},
   "source": [
    "# Boolean Indexing\n",
    "\n",
    "분산 처리에 잇점이 있을거라 예상했으나 Dask가 Pandas보다 조금 더 늦다. 반면 cuDF는 가장 빠르다."
   ]
  },
  {
   "cell_type": "code",
   "execution_count": 115,
   "id": "3da2aa40",
   "metadata": {},
   "outputs": [
    {
     "data": {
      "text/html": [
       "<div>\n",
       "<style scoped>\n",
       "    .dataframe tbody tr th:only-of-type {\n",
       "        vertical-align: middle;\n",
       "    }\n",
       "\n",
       "    .dataframe tbody tr th {\n",
       "        vertical-align: top;\n",
       "    }\n",
       "\n",
       "    .dataframe thead th {\n",
       "        text-align: right;\n",
       "    }\n",
       "</style>\n",
       "<table border=\"1\" class=\"dataframe\">\n",
       "  <thead>\n",
       "    <tr style=\"text-align: right;\">\n",
       "      <th></th>\n",
       "      <th>cust_id</th>\n",
       "      <th>year</th>\n",
       "      <th>state</th>\n",
       "      <th>date_issued</th>\n",
       "      <th>date_final</th>\n",
       "      <th>emp_duration</th>\n",
       "      <th>own_type</th>\n",
       "      <th>income_type</th>\n",
       "      <th>app_type</th>\n",
       "      <th>loan_purpose</th>\n",
       "      <th>...</th>\n",
       "      <th>annual_pay</th>\n",
       "      <th>loan_amount</th>\n",
       "      <th>interest_rate</th>\n",
       "      <th>loan_duration</th>\n",
       "      <th>dti</th>\n",
       "      <th>total_pymnt</th>\n",
       "      <th>total_rec_prncp</th>\n",
       "      <th>recoveries</th>\n",
       "      <th>installment</th>\n",
       "      <th>is_default</th>\n",
       "    </tr>\n",
       "  </thead>\n",
       "  <tbody>\n",
       "    <tr>\n",
       "      <th>0</th>\n",
       "      <td>180675</td>\n",
       "      <td>2007</td>\n",
       "      <td>Andhra Pradesh</td>\n",
       "      <td>01/12/2007</td>\n",
       "      <td>1032009</td>\n",
       "      <td>10.0</td>\n",
       "      <td>MORTGAGE</td>\n",
       "      <td>Low</td>\n",
       "      <td>INDIVIDUAL</td>\n",
       "      <td>debt_consolidation</td>\n",
       "      <td>...</td>\n",
       "      <td>73000</td>\n",
       "      <td>25000</td>\n",
       "      <td>10.91</td>\n",
       "      <td>36 months</td>\n",
       "      <td>22.13</td>\n",
       "      <td>13650.38</td>\n",
       "      <td>8767.32</td>\n",
       "      <td>2207.65</td>\n",
       "      <td>817.41</td>\n",
       "      <td>1</td>\n",
       "    </tr>\n",
       "    <tr>\n",
       "      <th>1</th>\n",
       "      <td>85781</td>\n",
       "      <td>2007</td>\n",
       "      <td>Rajasthan</td>\n",
       "      <td>01/06/2007</td>\n",
       "      <td>1072010</td>\n",
       "      <td>0.5</td>\n",
       "      <td>RENT</td>\n",
       "      <td>Low</td>\n",
       "      <td>INDIVIDUAL</td>\n",
       "      <td>other</td>\n",
       "      <td>...</td>\n",
       "      <td>40000</td>\n",
       "      <td>1400</td>\n",
       "      <td>10.91</td>\n",
       "      <td>36 months</td>\n",
       "      <td>8.61</td>\n",
       "      <td>1663.04</td>\n",
       "      <td>1400.00</td>\n",
       "      <td>0.00</td>\n",
       "      <td>45.78</td>\n",
       "      <td>0</td>\n",
       "    </tr>\n",
       "    <tr>\n",
       "      <th>2</th>\n",
       "      <td>85675</td>\n",
       "      <td>2007</td>\n",
       "      <td>Manipur</td>\n",
       "      <td>01/06/2007</td>\n",
       "      <td>1062010</td>\n",
       "      <td>10.0</td>\n",
       "      <td>RENT</td>\n",
       "      <td>Low</td>\n",
       "      <td>INDIVIDUAL</td>\n",
       "      <td>other</td>\n",
       "      <td>...</td>\n",
       "      <td>25000</td>\n",
       "      <td>1000</td>\n",
       "      <td>14.07</td>\n",
       "      <td>36 months</td>\n",
       "      <td>16.27</td>\n",
       "      <td>1231.38</td>\n",
       "      <td>1000.00</td>\n",
       "      <td>0.00</td>\n",
       "      <td>34.21</td>\n",
       "      <td>0</td>\n",
       "    </tr>\n",
       "    <tr>\n",
       "      <th>3</th>\n",
       "      <td>84918</td>\n",
       "      <td>2007</td>\n",
       "      <td>Andhra Pradesh</td>\n",
       "      <td>01/09/2007</td>\n",
       "      <td>1042008</td>\n",
       "      <td>10.0</td>\n",
       "      <td>MORTGAGE</td>\n",
       "      <td>Low</td>\n",
       "      <td>INDIVIDUAL</td>\n",
       "      <td>other</td>\n",
       "      <td>...</td>\n",
       "      <td>65000</td>\n",
       "      <td>5000</td>\n",
       "      <td>7.43</td>\n",
       "      <td>36 months</td>\n",
       "      <td>0.28</td>\n",
       "      <td>5200.44</td>\n",
       "      <td>5000.00</td>\n",
       "      <td>0.00</td>\n",
       "      <td>155.38</td>\n",
       "      <td>0</td>\n",
       "    </tr>\n",
       "    <tr>\n",
       "      <th>4</th>\n",
       "      <td>84670</td>\n",
       "      <td>2007</td>\n",
       "      <td>Arunachal Pradesh</td>\n",
       "      <td>01/06/2007</td>\n",
       "      <td>1082009</td>\n",
       "      <td>10.0</td>\n",
       "      <td>MORTGAGE</td>\n",
       "      <td>High</td>\n",
       "      <td>INDIVIDUAL</td>\n",
       "      <td>other</td>\n",
       "      <td>...</td>\n",
       "      <td>300000</td>\n",
       "      <td>5000</td>\n",
       "      <td>7.75</td>\n",
       "      <td>36 months</td>\n",
       "      <td>5.38</td>\n",
       "      <td>5565.65</td>\n",
       "      <td>5000.00</td>\n",
       "      <td>0.00</td>\n",
       "      <td>156.11</td>\n",
       "      <td>0</td>\n",
       "    </tr>\n",
       "  </tbody>\n",
       "</table>\n",
       "<p>5 rows × 22 columns</p>\n",
       "</div>"
      ],
      "text/plain": [
       "   cust_id  year              state date_issued  date_final  emp_duration  \\\n",
       "0   180675  2007     Andhra Pradesh  01/12/2007     1032009          10.0   \n",
       "1    85781  2007          Rajasthan  01/06/2007     1072010           0.5   \n",
       "2    85675  2007            Manipur  01/06/2007     1062010          10.0   \n",
       "3    84918  2007     Andhra Pradesh  01/09/2007     1042008          10.0   \n",
       "4    84670  2007  Arunachal Pradesh  01/06/2007     1082009          10.0   \n",
       "\n",
       "   own_type income_type    app_type        loan_purpose  ... annual_pay  \\\n",
       "0  MORTGAGE         Low  INDIVIDUAL  debt_consolidation  ...      73000   \n",
       "1      RENT         Low  INDIVIDUAL               other  ...      40000   \n",
       "2      RENT         Low  INDIVIDUAL               other  ...      25000   \n",
       "3  MORTGAGE         Low  INDIVIDUAL               other  ...      65000   \n",
       "4  MORTGAGE        High  INDIVIDUAL               other  ...     300000   \n",
       "\n",
       "  loan_amount  interest_rate  loan_duration    dti total_pymnt  \\\n",
       "0       25000          10.91      36 months  22.13    13650.38   \n",
       "1        1400          10.91      36 months   8.61     1663.04   \n",
       "2        1000          14.07      36 months  16.27     1231.38   \n",
       "3        5000           7.43      36 months   0.28     5200.44   \n",
       "4        5000           7.75      36 months   5.38     5565.65   \n",
       "\n",
       "   total_rec_prncp  recoveries  installment  is_default  \n",
       "0          8767.32     2207.65       817.41           1  \n",
       "1          1400.00        0.00        45.78           0  \n",
       "2          1000.00        0.00        34.21           0  \n",
       "3          5000.00        0.00       155.38           0  \n",
       "4          5000.00        0.00       156.11           0  \n",
       "\n",
       "[5 rows x 22 columns]"
      ]
     },
     "execution_count": 115,
     "metadata": {},
     "output_type": "execute_result"
    }
   ],
   "source": [
    "pdf[pdf.cust_id > 83000].head()"
   ]
  },
  {
   "cell_type": "code",
   "execution_count": 114,
   "id": "ef76afa4",
   "metadata": {},
   "outputs": [
    {
     "name": "stdout",
     "output_type": "stream",
     "text": [
      "97.7 ms ± 105 µs per loop (mean ± std. dev. of 7 runs, 10 loops each)\n"
     ]
    }
   ],
   "source": [
    "%timeit pdf[pdf.cust_id > 83000].head()"
   ]
  },
  {
   "cell_type": "code",
   "execution_count": 116,
   "id": "2ed5d993",
   "metadata": {},
   "outputs": [
    {
     "name": "stdout",
     "output_type": "stream",
     "text": [
      "283 ms ± 6.21 ms per loop (mean ± std. dev. of 7 runs, 1 loop each)\n"
     ]
    }
   ],
   "source": [
    "%timeit ddf[ddf.cust_id > 83000].head()"
   ]
  },
  {
   "cell_type": "code",
   "execution_count": 117,
   "id": "04198afd",
   "metadata": {},
   "outputs": [
    {
     "name": "stdout",
     "output_type": "stream",
     "text": [
      "23.1 ms ± 1.27 ms per loop (mean ± std. dev. of 7 runs, 10 loops each)\n"
     ]
    }
   ],
   "source": [
    "%timeit cdf[cdf.cust_id > 83000].head()"
   ]
  },
  {
   "cell_type": "code",
   "execution_count": 118,
   "id": "36ad0393",
   "metadata": {},
   "outputs": [
    {
     "name": "stdout",
     "output_type": "stream",
     "text": [
      "113 ms ± 769 µs per loop (mean ± std. dev. of 7 runs, 10 loops each)\n"
     ]
    }
   ],
   "source": [
    "%timeit dcdf[dcdf.cust_id > 83000].head()"
   ]
  },
  {
   "cell_type": "markdown",
   "id": "8eb20160",
   "metadata": {},
   "source": [
    "# QueryAPI\n",
    "\n",
    "SQL로 조회하는 것은 cuDF가 가장 빠르다."
   ]
  },
  {
   "cell_type": "code",
   "execution_count": 131,
   "id": "5abec7e2",
   "metadata": {},
   "outputs": [
    {
     "data": {
      "text/html": [
       "<div>\n",
       "<style scoped>\n",
       "    .dataframe tbody tr th:only-of-type {\n",
       "        vertical-align: middle;\n",
       "    }\n",
       "\n",
       "    .dataframe tbody tr th {\n",
       "        vertical-align: top;\n",
       "    }\n",
       "\n",
       "    .dataframe thead th {\n",
       "        text-align: right;\n",
       "    }\n",
       "</style>\n",
       "<table border=\"1\" class=\"dataframe\">\n",
       "  <thead>\n",
       "    <tr style=\"text-align: right;\">\n",
       "      <th></th>\n",
       "      <th>cust_id</th>\n",
       "      <th>year</th>\n",
       "      <th>state</th>\n",
       "      <th>date_issued</th>\n",
       "      <th>date_final</th>\n",
       "      <th>emp_duration</th>\n",
       "      <th>own_type</th>\n",
       "      <th>income_type</th>\n",
       "      <th>app_type</th>\n",
       "      <th>loan_purpose</th>\n",
       "      <th>...</th>\n",
       "      <th>annual_pay</th>\n",
       "      <th>loan_amount</th>\n",
       "      <th>interest_rate</th>\n",
       "      <th>loan_duration</th>\n",
       "      <th>dti</th>\n",
       "      <th>total_pymnt</th>\n",
       "      <th>total_rec_prncp</th>\n",
       "      <th>recoveries</th>\n",
       "      <th>installment</th>\n",
       "      <th>is_default</th>\n",
       "    </tr>\n",
       "  </thead>\n",
       "  <tbody>\n",
       "    <tr>\n",
       "      <th>0</th>\n",
       "      <td>180675</td>\n",
       "      <td>2007</td>\n",
       "      <td>Andhra Pradesh</td>\n",
       "      <td>01/12/2007</td>\n",
       "      <td>1032009</td>\n",
       "      <td>10.0</td>\n",
       "      <td>MORTGAGE</td>\n",
       "      <td>Low</td>\n",
       "      <td>INDIVIDUAL</td>\n",
       "      <td>debt_consolidation</td>\n",
       "      <td>...</td>\n",
       "      <td>73000</td>\n",
       "      <td>25000</td>\n",
       "      <td>10.91</td>\n",
       "      <td>36 months</td>\n",
       "      <td>22.13</td>\n",
       "      <td>13650.38</td>\n",
       "      <td>8767.32</td>\n",
       "      <td>2207.65</td>\n",
       "      <td>817.41</td>\n",
       "      <td>1</td>\n",
       "    </tr>\n",
       "    <tr>\n",
       "      <th>1</th>\n",
       "      <td>85781</td>\n",
       "      <td>2007</td>\n",
       "      <td>Rajasthan</td>\n",
       "      <td>01/06/2007</td>\n",
       "      <td>1072010</td>\n",
       "      <td>0.5</td>\n",
       "      <td>RENT</td>\n",
       "      <td>Low</td>\n",
       "      <td>INDIVIDUAL</td>\n",
       "      <td>other</td>\n",
       "      <td>...</td>\n",
       "      <td>40000</td>\n",
       "      <td>1400</td>\n",
       "      <td>10.91</td>\n",
       "      <td>36 months</td>\n",
       "      <td>8.61</td>\n",
       "      <td>1663.04</td>\n",
       "      <td>1400.00</td>\n",
       "      <td>0.00</td>\n",
       "      <td>45.78</td>\n",
       "      <td>0</td>\n",
       "    </tr>\n",
       "    <tr>\n",
       "      <th>2</th>\n",
       "      <td>85675</td>\n",
       "      <td>2007</td>\n",
       "      <td>Manipur</td>\n",
       "      <td>01/06/2007</td>\n",
       "      <td>1062010</td>\n",
       "      <td>10.0</td>\n",
       "      <td>RENT</td>\n",
       "      <td>Low</td>\n",
       "      <td>INDIVIDUAL</td>\n",
       "      <td>other</td>\n",
       "      <td>...</td>\n",
       "      <td>25000</td>\n",
       "      <td>1000</td>\n",
       "      <td>14.07</td>\n",
       "      <td>36 months</td>\n",
       "      <td>16.27</td>\n",
       "      <td>1231.38</td>\n",
       "      <td>1000.00</td>\n",
       "      <td>0.00</td>\n",
       "      <td>34.21</td>\n",
       "      <td>0</td>\n",
       "    </tr>\n",
       "    <tr>\n",
       "      <th>3</th>\n",
       "      <td>84918</td>\n",
       "      <td>2007</td>\n",
       "      <td>Andhra Pradesh</td>\n",
       "      <td>01/09/2007</td>\n",
       "      <td>1042008</td>\n",
       "      <td>10.0</td>\n",
       "      <td>MORTGAGE</td>\n",
       "      <td>Low</td>\n",
       "      <td>INDIVIDUAL</td>\n",
       "      <td>other</td>\n",
       "      <td>...</td>\n",
       "      <td>65000</td>\n",
       "      <td>5000</td>\n",
       "      <td>7.43</td>\n",
       "      <td>36 months</td>\n",
       "      <td>0.28</td>\n",
       "      <td>5200.44</td>\n",
       "      <td>5000.00</td>\n",
       "      <td>0.00</td>\n",
       "      <td>155.38</td>\n",
       "      <td>0</td>\n",
       "    </tr>\n",
       "    <tr>\n",
       "      <th>4</th>\n",
       "      <td>84670</td>\n",
       "      <td>2007</td>\n",
       "      <td>Arunachal Pradesh</td>\n",
       "      <td>01/06/2007</td>\n",
       "      <td>1082009</td>\n",
       "      <td>10.0</td>\n",
       "      <td>MORTGAGE</td>\n",
       "      <td>High</td>\n",
       "      <td>INDIVIDUAL</td>\n",
       "      <td>other</td>\n",
       "      <td>...</td>\n",
       "      <td>300000</td>\n",
       "      <td>5000</td>\n",
       "      <td>7.75</td>\n",
       "      <td>36 months</td>\n",
       "      <td>5.38</td>\n",
       "      <td>5565.65</td>\n",
       "      <td>5000.00</td>\n",
       "      <td>0.00</td>\n",
       "      <td>156.11</td>\n",
       "      <td>0</td>\n",
       "    </tr>\n",
       "  </tbody>\n",
       "</table>\n",
       "<p>5 rows × 22 columns</p>\n",
       "</div>"
      ],
      "text/plain": [
       "   cust_id  year              state date_issued  date_final  emp_duration  \\\n",
       "0   180675  2007     Andhra Pradesh  01/12/2007     1032009          10.0   \n",
       "1    85781  2007          Rajasthan  01/06/2007     1072010           0.5   \n",
       "2    85675  2007            Manipur  01/06/2007     1062010          10.0   \n",
       "3    84918  2007     Andhra Pradesh  01/09/2007     1042008          10.0   \n",
       "4    84670  2007  Arunachal Pradesh  01/06/2007     1082009          10.0   \n",
       "\n",
       "   own_type income_type    app_type        loan_purpose  ... annual_pay  \\\n",
       "0  MORTGAGE         Low  INDIVIDUAL  debt_consolidation  ...      73000   \n",
       "1      RENT         Low  INDIVIDUAL               other  ...      40000   \n",
       "2      RENT         Low  INDIVIDUAL               other  ...      25000   \n",
       "3  MORTGAGE         Low  INDIVIDUAL               other  ...      65000   \n",
       "4  MORTGAGE        High  INDIVIDUAL               other  ...     300000   \n",
       "\n",
       "  loan_amount  interest_rate  loan_duration    dti total_pymnt  \\\n",
       "0       25000          10.91      36 months  22.13    13650.38   \n",
       "1        1400          10.91      36 months   8.61     1663.04   \n",
       "2        1000          14.07      36 months  16.27     1231.38   \n",
       "3        5000           7.43      36 months   0.28     5200.44   \n",
       "4        5000           7.75      36 months   5.38     5565.65   \n",
       "\n",
       "   total_rec_prncp  recoveries  installment  is_default  \n",
       "0          8767.32     2207.65       817.41           1  \n",
       "1          1400.00        0.00        45.78           0  \n",
       "2          1000.00        0.00        34.21           0  \n",
       "3          5000.00        0.00       155.38           0  \n",
       "4          5000.00        0.00       156.11           0  \n",
       "\n",
       "[5 rows x 22 columns]"
      ]
     },
     "execution_count": 131,
     "metadata": {},
     "output_type": "execute_result"
    }
   ],
   "source": [
    "pdf.query('cust_id > 83000').head()"
   ]
  },
  {
   "cell_type": "code",
   "execution_count": 122,
   "id": "7ec1648b",
   "metadata": {},
   "outputs": [
    {
     "name": "stdout",
     "output_type": "stream",
     "text": [
      "108 ms ± 305 µs per loop (mean ± std. dev. of 7 runs, 10 loops each)\n"
     ]
    }
   ],
   "source": [
    "%timeit pdf.query('cust_id > 83000').head()"
   ]
  },
  {
   "cell_type": "code",
   "execution_count": 128,
   "id": "b61aa9da",
   "metadata": {},
   "outputs": [
    {
     "name": "stdout",
     "output_type": "stream",
     "text": [
      "288 ms ± 5.49 ms per loop (mean ± std. dev. of 7 runs, 1 loop each)\n"
     ]
    }
   ],
   "source": [
    "%timeit ddf.query('cust_id > 83000').head()"
   ]
  },
  {
   "cell_type": "code",
   "execution_count": 129,
   "id": "5caa2496",
   "metadata": {},
   "outputs": [
    {
     "name": "stdout",
     "output_type": "stream",
     "text": [
      "23.6 ms ± 1.45 ms per loop (mean ± std. dev. of 7 runs, 10 loops each)\n"
     ]
    }
   ],
   "source": [
    "%timeit cdf.query('cust_id > 83000').head()"
   ]
  },
  {
   "cell_type": "code",
   "execution_count": 130,
   "id": "0359790e",
   "metadata": {},
   "outputs": [
    {
     "name": "stdout",
     "output_type": "stream",
     "text": [
      "120 ms ± 839 µs per loop (mean ± std. dev. of 7 runs, 10 loops each)\n"
     ]
    }
   ],
   "source": [
    "%timeit dcdf.query('cust_id > 83000').head()"
   ]
  },
  {
   "cell_type": "markdown",
   "id": "b71b7ee8",
   "metadata": {},
   "source": [
    "# Applymap\n",
    "\n",
    "함수를 끼워넣어 데이터를 조작하는 것은 cuDF가 압도적으로 빠르다. 분산 처리가 필요한 Dask-cuDF의 속도 저하가 생각보다 크다."
   ]
  },
  {
   "cell_type": "code",
   "execution_count": 146,
   "id": "071092b8",
   "metadata": {},
   "outputs": [
    {
     "name": "stdout",
     "output_type": "stream",
     "text": [
      "174 ms ± 385 µs per loop (mean ± std. dev. of 7 runs, 10 loops each)\n"
     ]
    }
   ],
   "source": [
    "def add(x):\n",
    "  return x + 5\n",
    "%timeit pdf['total_pymnt'].apply(add)"
   ]
  },
  {
   "cell_type": "code",
   "execution_count": 149,
   "id": "73a5128b",
   "metadata": {},
   "outputs": [
    {
     "name": "stdout",
     "output_type": "stream",
     "text": [
      "330 ms ± 5.02 ms per loop (mean ± std. dev. of 7 runs, 1 loop each)\n"
     ]
    }
   ],
   "source": [
    "%timeit ddf['total_pymnt'].compute().apply(add)"
   ]
  },
  {
   "cell_type": "code",
   "execution_count": 150,
   "id": "06067eb2",
   "metadata": {},
   "outputs": [
    {
     "name": "stdout",
     "output_type": "stream",
     "text": [
      "1.68 ms ± 22.5 µs per loop (mean ± std. dev. of 7 runs, 1,000 loops each)\n"
     ]
    }
   ],
   "source": [
    "%timeit cdf['total_pymnt'].apply(add)"
   ]
  },
  {
   "cell_type": "code",
   "execution_count": 151,
   "id": "38aea0fc",
   "metadata": {},
   "outputs": [
    {
     "name": "stdout",
     "output_type": "stream",
     "text": [
      "90 ms ± 1.28 ms per loop (mean ± std. dev. of 7 runs, 10 loops each)\n"
     ]
    }
   ],
   "source": [
    "%timeit dcdf['total_pymnt'].compute().apply(add)"
   ]
  },
  {
   "cell_type": "markdown",
   "id": "fe25c479",
   "metadata": {},
   "source": [
    "# String Manipulation"
   ]
  },
  {
   "cell_type": "code",
   "execution_count": 33,
   "id": "3801bdd8",
   "metadata": {},
   "outputs": [
    {
     "data": {
      "text/plain": [
       "'andhra pradesh'"
      ]
     },
     "execution_count": 33,
     "metadata": {},
     "output_type": "execute_result"
    }
   ],
   "source": [
    "pdf['state'].unique()[0].lower()"
   ]
  },
  {
   "cell_type": "code",
   "execution_count": 203,
   "id": "567813fe",
   "metadata": {},
   "outputs": [
    {
     "name": "stdout",
     "output_type": "stream",
     "text": [
      "44.2 ms ± 113 µs per loop (mean ± std. dev. of 7 runs, 10 loops each)\n"
     ]
    }
   ],
   "source": [
    "%timeit pdf['state'].unique()[0].lower()"
   ]
  },
  {
   "cell_type": "code",
   "execution_count": 204,
   "id": "d506ec05",
   "metadata": {},
   "outputs": [
    {
     "name": "stdout",
     "output_type": "stream",
     "text": [
      "202 ms ± 861 µs per loop (mean ± std. dev. of 7 runs, 10 loops each)\n"
     ]
    }
   ],
   "source": [
    "%timeit ddf['state'].unique().compute()[0].lower()"
   ]
  },
  {
   "cell_type": "code",
   "execution_count": 205,
   "id": "ef1441fa",
   "metadata": {},
   "outputs": [
    {
     "name": "stdout",
     "output_type": "stream",
     "text": [
      "11.1 ms ± 102 µs per loop (mean ± std. dev. of 7 runs, 100 loops each)\n"
     ]
    }
   ],
   "source": [
    "%timeit cdf['state'].unique()[0].lower()"
   ]
  },
  {
   "cell_type": "code",
   "execution_count": 206,
   "id": "604a566d",
   "metadata": {},
   "outputs": [
    {
     "name": "stdout",
     "output_type": "stream",
     "text": [
      "99.1 ms ± 681 µs per loop (mean ± std. dev. of 7 runs, 10 loops each)\n"
     ]
    }
   ],
   "source": [
    "%timeit dcdf['state'].unique().compute()[0].lower()"
   ]
  },
  {
   "cell_type": "markdown",
   "id": "6b92c86f",
   "metadata": {},
   "source": [
    "# Conclusion\n",
    "\n",
    "분산 처리를 지원하는 Dask로 속도를 더 높일 수 있는 부분이 많지 않다. 하지만 GPU를 사용하는 cuDF는 Pandas는 물론 Dask 보다도 월등히 더 빠른 속도를 보임을 알 수 있다. GPU 메모리 이내 데이터(A100의 경우 80G)의 경우 cuDF로 데이터 전처리를 하는 것이 가장 좋은 선택이다. 또한 NVIDIA에서는 다음과 같이 cuDF를 이용해 전처리 한 데이터를 Apache Arrow 포맷으로 동일한 GPU 메모리를 통해 바로 학습할 수 있도록 권장하고 있다.\n",
    "\n",
    "![](https://github.com/rapidsai/cudf/raw/branch-21.08/img/rapids_arrow.png)"
   ]
  }
 ],
 "metadata": {
  "kernelspec": {
   "display_name": "Python 3 (ipykernel)",
   "language": "python",
   "name": "python3"
  },
  "language_info": {
   "codemirror_mode": {
    "name": "ipython",
    "version": 3
   },
   "file_extension": ".py",
   "mimetype": "text/x-python",
   "name": "python",
   "nbconvert_exporter": "python",
   "pygments_lexer": "ipython3",
   "version": "3.9.13"
  }
 },
 "nbformat": 4,
 "nbformat_minor": 5
}
