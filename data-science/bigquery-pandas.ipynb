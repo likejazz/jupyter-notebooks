{
 "cells": [
  {
   "cell_type": "markdown",
   "metadata": {
    "pycharm": {
     "name": "#%% md\n"
    }
   },
   "source": [
    "# BigQuery, Pandas 예제  \n",
    "노트북 작성: 박상길 <skpark1224@hyundai.com>  \n",
    "inspired by a book called  \n",
    "『Google BigQuery: The Definitive Guide: Data Warehousing, Analytics, and Machine Learning at Scale』"
   ]
  },
  {
   "cell_type": "markdown",
   "metadata": {
    "pycharm": {
     "name": "#%% md\n"
    }
   },
   "source": [
    "런던의 전체 자전거 대여소의 사용 횟수와 평균 사용 시간을 추출해보자."
   ]
  },
  {
   "cell_type": "code",
   "execution_count": 4,
   "metadata": {
    "pycharm": {
     "name": "#%%\n"
    }
   },
   "outputs": [],
   "source": [
    "%%bigquery df\n",
    "SELECT \n",
    "  start_station_name \n",
    "  , AVG(duration) as duration\n",
    "  , COUNT(duration) as num_trips\n",
    "FROM `bigquery-public-data`.london_bicycles.cycle_hire \n",
    "GROUP BY start_station_name\n",
    "ORDER BY num_trips DESC"
   ]
  },
  {
   "cell_type": "code",
   "execution_count": 5,
   "metadata": {
    "pycharm": {
     "name": "#%%\n"
    }
   },
   "outputs": [
    {
     "data": {
      "text/html": [
       "<div>\n",
       "<style scoped>\n",
       "    .dataframe tbody tr th:only-of-type {\n",
       "        vertical-align: middle;\n",
       "    }\n",
       "\n",
       "    .dataframe tbody tr th {\n",
       "        vertical-align: top;\n",
       "    }\n",
       "\n",
       "    .dataframe thead th {\n",
       "        text-align: right;\n",
       "    }\n",
       "</style>\n",
       "<table border=\"1\" class=\"dataframe\">\n",
       "  <thead>\n",
       "    <tr style=\"text-align: right;\">\n",
       "      <th></th>\n",
       "      <th>start_station_name</th>\n",
       "      <th>duration</th>\n",
       "      <th>num_trips</th>\n",
       "    </tr>\n",
       "  </thead>\n",
       "  <tbody>\n",
       "    <tr>\n",
       "      <th>0</th>\n",
       "      <td>Belgrove Street , King's Cross</td>\n",
       "      <td>1011.076696</td>\n",
       "      <td>234458</td>\n",
       "    </tr>\n",
       "    <tr>\n",
       "      <th>1</th>\n",
       "      <td>Hyde Park Corner, Hyde Park</td>\n",
       "      <td>2782.730709</td>\n",
       "      <td>215629</td>\n",
       "    </tr>\n",
       "    <tr>\n",
       "      <th>2</th>\n",
       "      <td>Waterloo Station 3, Waterloo</td>\n",
       "      <td>866.376135</td>\n",
       "      <td>201630</td>\n",
       "    </tr>\n",
       "    <tr>\n",
       "      <th>3</th>\n",
       "      <td>Black Lion Gate, Kensington Gardens</td>\n",
       "      <td>3588.012004</td>\n",
       "      <td>161952</td>\n",
       "    </tr>\n",
       "    <tr>\n",
       "      <th>4</th>\n",
       "      <td>Albert Gate, Hyde Park</td>\n",
       "      <td>2359.413930</td>\n",
       "      <td>155647</td>\n",
       "    </tr>\n",
       "    <tr>\n",
       "      <th>...</th>\n",
       "      <td>...</td>\n",
       "      <td>...</td>\n",
       "      <td>...</td>\n",
       "    </tr>\n",
       "    <tr>\n",
       "      <th>875</th>\n",
       "      <td>Monier Road</td>\n",
       "      <td>1576.363636</td>\n",
       "      <td>11</td>\n",
       "    </tr>\n",
       "    <tr>\n",
       "      <th>876</th>\n",
       "      <td>Blackfriars road, Southwark</td>\n",
       "      <td>96.000000</td>\n",
       "      <td>5</td>\n",
       "    </tr>\n",
       "    <tr>\n",
       "      <th>877</th>\n",
       "      <td>LSP2</td>\n",
       "      <td>105.000000</td>\n",
       "      <td>4</td>\n",
       "    </tr>\n",
       "    <tr>\n",
       "      <th>878</th>\n",
       "      <td>PENTON STREET COMMS TEST TERMINAL _ CONTACT MA...</td>\n",
       "      <td>0.000000</td>\n",
       "      <td>1</td>\n",
       "    </tr>\n",
       "    <tr>\n",
       "      <th>879</th>\n",
       "      <td>LSP1</td>\n",
       "      <td>840.000000</td>\n",
       "      <td>1</td>\n",
       "    </tr>\n",
       "  </tbody>\n",
       "</table>\n",
       "<p>880 rows × 3 columns</p>\n",
       "</div>"
      ],
      "text/plain": [
       "                                    start_station_name     duration  num_trips\n",
       "0                       Belgrove Street , King's Cross  1011.076696     234458\n",
       "1                          Hyde Park Corner, Hyde Park  2782.730709     215629\n",
       "2                         Waterloo Station 3, Waterloo   866.376135     201630\n",
       "3                  Black Lion Gate, Kensington Gardens  3588.012004     161952\n",
       "4                               Albert Gate, Hyde Park  2359.413930     155647\n",
       "..                                                 ...          ...        ...\n",
       "875                                        Monier Road  1576.363636         11\n",
       "876                        Blackfriars road, Southwark    96.000000          5\n",
       "877                                               LSP2   105.000000          4\n",
       "878  PENTON STREET COMMS TEST TERMINAL _ CONTACT MA...     0.000000          1\n",
       "879                                               LSP1   840.000000          1\n",
       "\n",
       "[880 rows x 3 columns]"
      ]
     },
     "execution_count": 5,
     "metadata": {},
     "output_type": "execute_result"
    }
   ],
   "source": [
    "df"
   ]
  },
  {
   "cell_type": "code",
   "execution_count": 6,
   "metadata": {
    "pycharm": {
     "name": "#%%\n"
    }
   },
   "outputs": [
    {
     "data": {
      "text/html": [
       "<div>\n",
       "<style scoped>\n",
       "    .dataframe tbody tr th:only-of-type {\n",
       "        vertical-align: middle;\n",
       "    }\n",
       "\n",
       "    .dataframe tbody tr th {\n",
       "        vertical-align: top;\n",
       "    }\n",
       "\n",
       "    .dataframe thead th {\n",
       "        text-align: right;\n",
       "    }\n",
       "</style>\n",
       "<table border=\"1\" class=\"dataframe\">\n",
       "  <thead>\n",
       "    <tr style=\"text-align: right;\">\n",
       "      <th></th>\n",
       "      <th>duration</th>\n",
       "      <th>num_trips</th>\n",
       "    </tr>\n",
       "  </thead>\n",
       "  <tbody>\n",
       "    <tr>\n",
       "      <th>count</th>\n",
       "      <td>880.000000</td>\n",
       "      <td>880.000000</td>\n",
       "    </tr>\n",
       "    <tr>\n",
       "      <th>mean</th>\n",
       "      <td>1348.351153</td>\n",
       "      <td>27692.273864</td>\n",
       "    </tr>\n",
       "    <tr>\n",
       "      <th>std</th>\n",
       "      <td>434.057829</td>\n",
       "      <td>23733.621289</td>\n",
       "    </tr>\n",
       "    <tr>\n",
       "      <th>min</th>\n",
       "      <td>0.000000</td>\n",
       "      <td>1.000000</td>\n",
       "    </tr>\n",
       "    <tr>\n",
       "      <th>25%</th>\n",
       "      <td>1078.684974</td>\n",
       "      <td>13033.500000</td>\n",
       "    </tr>\n",
       "    <tr>\n",
       "      <th>50%</th>\n",
       "      <td>1255.889223</td>\n",
       "      <td>23658.500000</td>\n",
       "    </tr>\n",
       "    <tr>\n",
       "      <th>75%</th>\n",
       "      <td>1520.504055</td>\n",
       "      <td>35450.500000</td>\n",
       "    </tr>\n",
       "    <tr>\n",
       "      <th>max</th>\n",
       "      <td>4836.380090</td>\n",
       "      <td>234458.000000</td>\n",
       "    </tr>\n",
       "  </tbody>\n",
       "</table>\n",
       "</div>"
      ],
      "text/plain": [
       "          duration      num_trips\n",
       "count   880.000000     880.000000\n",
       "mean   1348.351153   27692.273864\n",
       "std     434.057829   23733.621289\n",
       "min       0.000000       1.000000\n",
       "25%    1078.684974   13033.500000\n",
       "50%    1255.889223   23658.500000\n",
       "75%    1520.504055   35450.500000\n",
       "max    4836.380090  234458.000000"
      ]
     },
     "execution_count": 6,
     "metadata": {},
     "output_type": "execute_result"
    }
   ],
   "source": [
    "df.describe()"
   ]
  },
  {
   "cell_type": "markdown",
   "metadata": {
    "pycharm": {
     "name": "#%% md\n"
    }
   },
   "source": [
    "다음과 같이 산점도(scatter plot)로 표현할 수 있다."
   ]
  },
  {
   "cell_type": "code",
   "execution_count": 7,
   "metadata": {
    "pycharm": {
     "name": "#%%\n"
    }
   },
   "outputs": [
    {
     "data": {
      "text/plain": [
       "<matplotlib.axes._subplots.AxesSubplot at 0x7f4585f20490>"
      ]
     },
     "execution_count": 7,
     "metadata": {},
     "output_type": "execute_result"
    },
    {
     "data": {
      "image/png": "[encoded data removed]",
      "text/plain": [
       "<Figure size 432x288 with 1 Axes>"
      ]
     },
     "metadata": {
      "needs_background": "light"
     },
     "output_type": "display_data"
    }
   ],
   "source": [
    "df.plot.scatter('duration', 'num_trips')"
   ]
  },
  {
   "cell_type": "markdown",
   "metadata": {
    "pycharm": {
     "name": "#%% md\n"
    }
   },
   "source": [
    "만일 누군가 어떤 대여소에서 자전거를 빌린 지 10분도 채 되지 않아 다시 원래 대여소로 되돌려 놓았다면 아마도 그 자전거에 문제가 있었기 때문이라고 추정할 수 있다. 이런 상황을 망친 나들이(bad trips)라 부르기로 하고 추출을 시도해보자."
   ]
  },
  {
   "cell_type": "code",
   "execution_count": 10,
   "metadata": {
    "pycharm": {
     "name": "#%%\n"
    }
   },
   "outputs": [],
   "source": [
    "%%bigquery badtrips\n",
    "WITH all_bad_trips AS (\n",
    "    SELECT \n",
    "      start_station_name\n",
    "      , COUNTIF(duration < 600 AND start_station_name = end_station_name) AS bad_trips\n",
    "      , COUNT(*) as num_trips\n",
    "    FROM `bigquery-public-data`.london_bicycles.cycle_hire\n",
    "    WHERE EXTRACT(YEAR FROM start_date) = 2015\n",
    "    GROUP BY start_station_name\n",
    "    HAVING num_trips > 10\n",
    ")\n",
    "SELECT *, bad_trips / num_trips AS fraction_bad FROM all_bad_trips\n",
    "ORDER BY fraction_bad DESC"
   ]
  },
  {
   "cell_type": "code",
   "execution_count": 11,
   "metadata": {
    "pycharm": {
     "name": "#%%\n"
    }
   },
   "outputs": [
    {
     "data": {
      "text/html": [
       "<div>\n",
       "<style scoped>\n",
       "    .dataframe tbody tr th:only-of-type {\n",
       "        vertical-align: middle;\n",
       "    }\n",
       "\n",
       "    .dataframe tbody tr th {\n",
       "        vertical-align: top;\n",
       "    }\n",
       "\n",
       "    .dataframe thead th {\n",
       "        text-align: right;\n",
       "    }\n",
       "</style>\n",
       "<table border=\"1\" class=\"dataframe\">\n",
       "  <thead>\n",
       "    <tr style=\"text-align: right;\">\n",
       "      <th></th>\n",
       "      <th>start_station_name</th>\n",
       "      <th>bad_trips</th>\n",
       "      <th>num_trips</th>\n",
       "      <th>fraction_bad</th>\n",
       "    </tr>\n",
       "  </thead>\n",
       "  <tbody>\n",
       "    <tr>\n",
       "      <th>0</th>\n",
       "      <td>Contact Centre, Southbury House</td>\n",
       "      <td>20</td>\n",
       "      <td>48</td>\n",
       "      <td>0.416667</td>\n",
       "    </tr>\n",
       "    <tr>\n",
       "      <th>1</th>\n",
       "      <td>Monier Road, Newham</td>\n",
       "      <td>1</td>\n",
       "      <td>25</td>\n",
       "      <td>0.040000</td>\n",
       "    </tr>\n",
       "    <tr>\n",
       "      <th>2</th>\n",
       "      <td>Aberfeldy Street, Poplar</td>\n",
       "      <td>35</td>\n",
       "      <td>955</td>\n",
       "      <td>0.036649</td>\n",
       "    </tr>\n",
       "    <tr>\n",
       "      <th>3</th>\n",
       "      <td>Ormonde Gate, Chelsea</td>\n",
       "      <td>315</td>\n",
       "      <td>8932</td>\n",
       "      <td>0.035266</td>\n",
       "    </tr>\n",
       "    <tr>\n",
       "      <th>4</th>\n",
       "      <td>Thornfield House, Poplar</td>\n",
       "      <td>28</td>\n",
       "      <td>947</td>\n",
       "      <td>0.029567</td>\n",
       "    </tr>\n",
       "    <tr>\n",
       "      <th>...</th>\n",
       "      <td>...</td>\n",
       "      <td>...</td>\n",
       "      <td>...</td>\n",
       "      <td>...</td>\n",
       "    </tr>\n",
       "    <tr>\n",
       "      <th>818</th>\n",
       "      <td>Sun Street, Liverpool Street</td>\n",
       "      <td>70</td>\n",
       "      <td>28787</td>\n",
       "      <td>0.002432</td>\n",
       "    </tr>\n",
       "    <tr>\n",
       "      <th>819</th>\n",
       "      <td>Finsbury Circus, Liverpool Street</td>\n",
       "      <td>100</td>\n",
       "      <td>44822</td>\n",
       "      <td>0.002231</td>\n",
       "    </tr>\n",
       "    <tr>\n",
       "      <th>820</th>\n",
       "      <td>Waterloo Station 3, Waterloo</td>\n",
       "      <td>151</td>\n",
       "      <td>80916</td>\n",
       "      <td>0.001866</td>\n",
       "    </tr>\n",
       "    <tr>\n",
       "      <th>821</th>\n",
       "      <td>Waterloo Roundabout, Waterloo</td>\n",
       "      <td>3</td>\n",
       "      <td>1678</td>\n",
       "      <td>0.001788</td>\n",
       "    </tr>\n",
       "    <tr>\n",
       "      <th>822</th>\n",
       "      <td>Monier Road</td>\n",
       "      <td>0</td>\n",
       "      <td>11</td>\n",
       "      <td>0.000000</td>\n",
       "    </tr>\n",
       "  </tbody>\n",
       "</table>\n",
       "<p>823 rows × 4 columns</p>\n",
       "</div>"
      ],
      "text/plain": [
       "                    start_station_name  bad_trips  num_trips  fraction_bad\n",
       "0      Contact Centre, Southbury House         20         48      0.416667\n",
       "1                  Monier Road, Newham          1         25      0.040000\n",
       "2             Aberfeldy Street, Poplar         35        955      0.036649\n",
       "3                Ormonde Gate, Chelsea        315       8932      0.035266\n",
       "4             Thornfield House, Poplar         28        947      0.029567\n",
       "..                                 ...        ...        ...           ...\n",
       "818       Sun Street, Liverpool Street         70      28787      0.002432\n",
       "819  Finsbury Circus, Liverpool Street        100      44822      0.002231\n",
       "820       Waterloo Station 3, Waterloo        151      80916      0.001866\n",
       "821      Waterloo Roundabout, Waterloo          3       1678      0.001788\n",
       "822                        Monier Road          0         11      0.000000\n",
       "\n",
       "[823 rows x 4 columns]"
      ]
     },
     "execution_count": 11,
     "metadata": {},
     "output_type": "execute_result"
    }
   ],
   "source": [
    "badtrips"
   ]
  },
  {
   "cell_type": "code",
   "execution_count": 12,
   "metadata": {
    "pycharm": {
     "name": "#%%\n"
    }
   },
   "outputs": [
    {
     "data": {
      "text/plain": [
       "<matplotlib.axes._subplots.AxesSubplot at 0x7f4585de3e10>"
      ]
     },
     "execution_count": 12,
     "metadata": {},
     "output_type": "execute_result"
    },
    {
     "data": {
      "image/png": "[encoded data removed]",
      "text/plain": [
       "<Figure size 432x288 with 1 Axes>"
      ]
     },
     "metadata": {
      "needs_background": "light"
     },
     "output_type": "display_data"
    }
   ],
   "source": [
    "badtrips.plot.scatter('num_trips', 'fraction_bad')"
   ]
  },
  {
   "cell_type": "markdown",
   "metadata": {
    "pycharm": {
     "name": "#%% md\n"
    }
   },
   "source": [
    "이 그래프를 보면 fraction_bad 컬럼의 값이 높을수록 관련된 대여소의 num_trips 컬럼 값이 낮다는 점을 알 수 있지만 0.4라는 예외 때문에 그 트렌드가 명확하게 보이지 않는다. 다음 seaborn 패키지를 이용해서 데이터를 조금 더 자세히 들여다보자.\n",
    "\n",
    "`regplot` do Plot the data and draw a linear regression model."
   ]
  },
  {
   "cell_type": "code",
   "execution_count": 13,
   "metadata": {
    "pycharm": {
     "name": "#%%\n"
    }
   },
   "outputs": [
    {
     "data": {
      "text/plain": [
       "(0.0, 0.05)"
      ]
     },
     "execution_count": 13,
     "metadata": {},
     "output_type": "execute_result"
    },
    {
     "data": {
      "image/png": "[encoded data removed]",
      "text/plain": [
       "<Figure size 432x288 with 1 Axes>"
      ]
     },
     "metadata": {
      "needs_background": "light"
     },
     "output_type": "display_data"
    }
   ],
   "source": [
    "import seaborn as sns\n",
    "ax = sns.regplot(badtrips['num_trips'],badtrips['fraction_bad'])\n",
    "ax.set_ylim(0, 0.05)"
   ]
  },
  {
   "cell_type": "markdown",
   "metadata": {
    "pycharm": {
     "name": "#%% md\n"
    }
   },
   "source": [
    "이제 num_trips 컬럼 값이 낮은 대여소일수록 fraction_bad 컬럼 값이 높다는 점이 명확해졌다."
   ]
  },
  {
   "cell_type": "markdown",
   "metadata": {
    "pycharm": {
     "name": "#%% md\n"
    }
   },
   "source": [
    "그런데, fraction_bad 값이 높을수록 num_trips 값이 낮으므로 단순히 fraction_bad 값이 높은 대여소로 직원을 보내서는 안된다. 그렇다면 임의 조사를 수행할 대여소를 어떻게 골라야 할까?\n",
    "\n",
    "한 가지 방법은 사용 빈도가 높은 대여소 중에서 상황이 좋지 않은 5곳을 선택하고, 그 다음으로 사용 빈도가 높은 대여소 중 5곳을 선택해 나가는 방법이다. 그러려면 num_trips 컬럼 값을 기준으로 대여소의 변위치(quantile)을 구해 4개의 묶음(band)을 만들고, 각 묶음 안에서 망친 나들이 비율이 가장 높은 5개의 대여소를 찾으면 된다."
   ]
  },
  {
   "cell_type": "code",
   "execution_count": 29,
   "metadata": {
    "pycharm": {
     "name": "#%%\n"
    }
   },
   "outputs": [
    {
     "name": "stdout",
     "output_type": "stream",
     "text": [
      "num_trips >= 4826.4 and num_trips < 8511.8\n",
      "                 start_station_name  bad_trips  num_trips  fraction_bad\n",
      "6        River Street , Clerkenwell        221       8279      0.026694\n",
      "9   Courland Grove, Wandsworth Road        105       5369      0.019557\n",
      "10         Stanley Grove, Battersea         92       4882      0.018845\n",
      "12              Southern Grove, Bow        112       6152      0.018205\n",
      "18    Richmond Way, Shepherd's Bush        126       8149      0.015462\n",
      "\n",
      "num_trips >= 8511.8 and num_trips < 11502.6\n",
      "                  start_station_name  bad_trips  num_trips  fraction_bad\n",
      "3              Ormonde Gate, Chelsea        315       8932      0.035266\n",
      "41  Emperor's Gate, South Kensington        136      10554      0.012886\n",
      "53     Chepstow Villas, Notting Hill        135      11038      0.012230\n",
      "57            Salmon Lane, Limehouse        113       9345      0.012092\n",
      "63       Greyhound Road, Hammersmith        118       9998      0.011802\n",
      "\n",
      "num_trips >= 11502.6 and num_trips < 16509.2\n",
      "                           start_station_name  bad_trips  num_trips  \\\n",
      "35            Hertford Road, De Beauvoir Town        195      14188   \n",
      "39              Bramham Gardens, Earl's Court        212      16178   \n",
      "62                 Lancaster Gate , Bayswater        172      14554   \n",
      "75               Ilchester Gardens, Bayswater        159      14137   \n",
      "80  Westfield Library Corner, Shepherd's Bush        126      11517   \n",
      "\n",
      "    fraction_bad  \n",
      "35      0.013744  \n",
      "39      0.013104  \n",
      "62      0.011818  \n",
      "75      0.011247  \n",
      "80      0.010940  \n",
      "\n",
      "num_trips >= 16509.2 and num_trips < 95740.0\n",
      "                  start_station_name  bad_trips  num_trips  fraction_bad\n",
      "25  Queen's Gate, Kensington Gardens        396      27457      0.014423\n",
      "74     Speakers' Corner 2, Hyde Park        468      41107      0.011385\n",
      "76        Cumberland Gate, Hyde Park        303      26981      0.011230\n",
      "77            Albert Gate, Hyde Park        729      66547      0.010955\n",
      "82      Triangle Car Park, Hyde Park        454      41675      0.010894\n",
      "\n"
     ]
    }
   ],
   "source": [
    "stations_to_examine = []\n",
    "for band in range(1,5):\n",
    "  min_trips = badtrips['num_trips'].quantile(0.2*(band))\n",
    "  max_trips = badtrips['num_trips'].quantile(0.2*(band+1))\n",
    "  query = 'num_trips >= {} and num_trips < {}'.format(\n",
    "                                     min_trips, max_trips)\n",
    "  print(query) # band\n",
    "  stations = badtrips.query(query)\n",
    "  stations = stations.sort_values(\n",
    "                  by=['fraction_bad'], ascending=False)[:5] \n",
    "  print(stations) # 5 worst\n",
    "  stations_to_examine.append(stations)\n",
    "  print()"
   ]
  },
  {
   "cell_type": "code",
   "execution_count": 30,
   "metadata": {
    "pycharm": {
     "name": "#%%\n"
    }
   },
   "outputs": [
    {
     "data": {
      "text/html": [
       "<div>\n",
       "<style scoped>\n",
       "    .dataframe tbody tr th:only-of-type {\n",
       "        vertical-align: middle;\n",
       "    }\n",
       "\n",
       "    .dataframe tbody tr th {\n",
       "        vertical-align: top;\n",
       "    }\n",
       "\n",
       "    .dataframe thead th {\n",
       "        text-align: right;\n",
       "    }\n",
       "</style>\n",
       "<table border=\"1\" class=\"dataframe\">\n",
       "  <thead>\n",
       "    <tr style=\"text-align: right;\">\n",
       "      <th></th>\n",
       "      <th>start_station_name</th>\n",
       "      <th>bad_trips</th>\n",
       "      <th>num_trips</th>\n",
       "      <th>fraction_bad</th>\n",
       "    </tr>\n",
       "  </thead>\n",
       "  <tbody>\n",
       "    <tr>\n",
       "      <th>6</th>\n",
       "      <td>River Street , Clerkenwell</td>\n",
       "      <td>221</td>\n",
       "      <td>8279</td>\n",
       "      <td>0.026694</td>\n",
       "    </tr>\n",
       "    <tr>\n",
       "      <th>9</th>\n",
       "      <td>Courland Grove, Wandsworth Road</td>\n",
       "      <td>105</td>\n",
       "      <td>5369</td>\n",
       "      <td>0.019557</td>\n",
       "    </tr>\n",
       "    <tr>\n",
       "      <th>10</th>\n",
       "      <td>Stanley Grove, Battersea</td>\n",
       "      <td>92</td>\n",
       "      <td>4882</td>\n",
       "      <td>0.018845</td>\n",
       "    </tr>\n",
       "    <tr>\n",
       "      <th>12</th>\n",
       "      <td>Southern Grove, Bow</td>\n",
       "      <td>112</td>\n",
       "      <td>6152</td>\n",
       "      <td>0.018205</td>\n",
       "    </tr>\n",
       "    <tr>\n",
       "      <th>18</th>\n",
       "      <td>Richmond Way, Shepherd's Bush</td>\n",
       "      <td>126</td>\n",
       "      <td>8149</td>\n",
       "      <td>0.015462</td>\n",
       "    </tr>\n",
       "  </tbody>\n",
       "</table>\n",
       "</div>"
      ],
      "text/plain": [
       "                 start_station_name  bad_trips  num_trips  fraction_bad\n",
       "6        River Street , Clerkenwell        221       8279      0.026694\n",
       "9   Courland Grove, Wandsworth Road        105       5369      0.019557\n",
       "10         Stanley Grove, Battersea         92       4882      0.018845\n",
       "12              Southern Grove, Bow        112       6152      0.018205\n",
       "18    Richmond Way, Shepherd's Bush        126       8149      0.015462"
      ]
     },
     "execution_count": 30,
     "metadata": {},
     "output_type": "execute_result"
    }
   ],
   "source": [
    "import pandas as pd\n",
    "\n",
    "stations_to_examine = pd.concat(stations_to_examine)\n",
    "stations_to_examine.head(5)"
   ]
  },
  {
   "cell_type": "markdown",
   "metadata": {
    "pycharm": {
     "name": "#%% md\n"
    }
   },
   "source": [
    "이 데이터를 추후 보고서 작성을 위해 별도 테이블로 저장한다."
   ]
  },
  {
   "cell_type": "code",
   "execution_count": 31,
   "metadata": {
    "pycharm": {
     "name": "#%%\n"
    }
   },
   "outputs": [
    {
     "name": "stdout",
     "output_type": "stream",
     "text": [
      "Loaded 20 rows into myhyundai20.experiments.bad_bikes\n"
     ]
    }
   ],
   "source": [
    "from google.cloud import bigquery\n",
    "\n",
    "PROJECT='myhyundai20'\n",
    "bq = bigquery.Client(project=PROJECT)\n",
    "\n",
    "table_id = '{}.experiments.bad_bikes'.format(PROJECT)\n",
    "job = bq.load_table_from_dataframe(stations_to_examine, table_id)\n",
    "job.result() # blocks and waits\n",
    "print(\"Loaded {} rows into {}\".format(job.output_rows, table_id))"
   ]
  },
  {
   "cell_type": "markdown",
   "metadata": {
    "pycharm": {
     "name": "#%% md\n"
    }
   },
   "source": [
    "이제 저장한 대여소 위치를 위경도를 지닌 테이블과 조인하여 지도에 표현해본다."
   ]
  },
  {
   "cell_type": "code",
   "execution_count": 35,
   "metadata": {
    "pycharm": {
     "name": "#%%\n"
    }
   },
   "outputs": [],
   "source": [
    "%%bigquery stations_to_examine\n",
    "SELECT \n",
    "  start_station_name AS station_name\n",
    "  , num_trips\n",
    "  , fraction_bad\n",
    "  , latitude\n",
    "  , longitude\n",
    "FROM `myhyundai20`.experiments.bad_bikes AS bad\n",
    "JOIN `myhyundai20`.experiments.cycle_stations AS s\n",
    "ON bad.start_station_name = s.name"
   ]
  },
  {
   "cell_type": "code",
   "execution_count": 38,
   "metadata": {
    "pycharm": {
     "name": "#%%\n"
    }
   },
   "outputs": [
    {
     "data": {
      "text/html": [
       "<div>\n",
       "<style scoped>\n",
       "    .dataframe tbody tr th:only-of-type {\n",
       "        vertical-align: middle;\n",
       "    }\n",
       "\n",
       "    .dataframe tbody tr th {\n",
       "        vertical-align: top;\n",
       "    }\n",
       "\n",
       "    .dataframe thead th {\n",
       "        text-align: right;\n",
       "    }\n",
       "</style>\n",
       "<table border=\"1\" class=\"dataframe\">\n",
       "  <thead>\n",
       "    <tr style=\"text-align: right;\">\n",
       "      <th></th>\n",
       "      <th>station_name</th>\n",
       "      <th>num_trips</th>\n",
       "      <th>fraction_bad</th>\n",
       "      <th>latitude</th>\n",
       "      <th>longitude</th>\n",
       "    </tr>\n",
       "  </thead>\n",
       "  <tbody>\n",
       "    <tr>\n",
       "      <th>0</th>\n",
       "      <td>Ormonde Gate, Chelsea</td>\n",
       "      <td>8932</td>\n",
       "      <td>0.035266</td>\n",
       "      <td>51.487964</td>\n",
       "      <td>-0.161765</td>\n",
       "    </tr>\n",
       "    <tr>\n",
       "      <th>1</th>\n",
       "      <td>Stanley Grove, Battersea</td>\n",
       "      <td>4882</td>\n",
       "      <td>0.018845</td>\n",
       "      <td>51.470475</td>\n",
       "      <td>-0.152130</td>\n",
       "    </tr>\n",
       "    <tr>\n",
       "      <th>2</th>\n",
       "      <td>Courland Grove, Wandsworth Road</td>\n",
       "      <td>5369</td>\n",
       "      <td>0.019557</td>\n",
       "      <td>51.472918</td>\n",
       "      <td>-0.132103</td>\n",
       "    </tr>\n",
       "    <tr>\n",
       "      <th>3</th>\n",
       "      <td>Southern Grove, Bow</td>\n",
       "      <td>6152</td>\n",
       "      <td>0.018205</td>\n",
       "      <td>51.523538</td>\n",
       "      <td>-0.030556</td>\n",
       "    </tr>\n",
       "    <tr>\n",
       "      <th>4</th>\n",
       "      <td>Salmon Lane, Limehouse</td>\n",
       "      <td>9345</td>\n",
       "      <td>0.012092</td>\n",
       "      <td>51.514115</td>\n",
       "      <td>-0.033828</td>\n",
       "    </tr>\n",
       "  </tbody>\n",
       "</table>\n",
       "</div>"
      ],
      "text/plain": [
       "                      station_name  num_trips  fraction_bad   latitude  \\\n",
       "0            Ormonde Gate, Chelsea       8932      0.035266  51.487964   \n",
       "1         Stanley Grove, Battersea       4882      0.018845  51.470475   \n",
       "2  Courland Grove, Wandsworth Road       5369      0.019557  51.472918   \n",
       "3              Southern Grove, Bow       6152      0.018205  51.523538   \n",
       "4           Salmon Lane, Limehouse       9345      0.012092  51.514115   \n",
       "\n",
       "   longitude  \n",
       "0  -0.161765  \n",
       "1  -0.152130  \n",
       "2  -0.132103  \n",
       "3  -0.030556  \n",
       "4  -0.033828  "
      ]
     },
     "execution_count": 38,
     "metadata": {},
     "output_type": "execute_result"
    }
   ],
   "source": [
    "stations_to_examine.head(5)"
   ]
  },
  {
   "cell_type": "markdown",
   "metadata": {
    "pycharm": {
     "name": "#%% md\n"
    }
   },
   "source": [
    "folium 패키지를 이용해 지도에 표현해보자."
   ]
  },
  {
   "cell_type": "code",
   "execution_count": 39,
   "metadata": {
    "pycharm": {
     "name": "#%%\n"
    }
   },
   "outputs": [
    {
     "data": {
      "text/html": [
       "<div style=\"width:100%;\"><div style=\"position:relative;width:100%;height:0;padding-bottom:60%;\"><span style=\"color:#565656\">Make this Notebook Trusted to load map: File -> Trust Notebook</span><iframe src=\"about:blank\" style=\"position:absolute;width:100%;height:100%;left:0;top:0;border:none !important;\" data-html=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 onload=\"this.contentDocument.open();this.contentDocument.write(atob(this.getAttribute('data-html')));this.contentDocument.close();\" allowfullscreen webkitallowfullscreen mozallowfullscreen></iframe></div></div>"
      ],
      "text/plain": [
       "<folium.folium.Map at 0x7f457ac44f50>"
      ]
     },
     "execution_count": 39,
     "metadata": {},
     "output_type": "execute_result"
    }
   ],
   "source": [
    "import folium\n",
    "map_pts = folium.Map(location=[51.5, -0.15], zoom_start=12)\n",
    "for idx, row in stations_to_examine.iterrows():\n",
    "  folium.Marker( location=[row['latitude'], row['longitude']], popup=row['station_name'] ).add_to(map_pts)\n",
    "map_pts"
   ]
  },
  {
   "cell_type": "markdown",
   "metadata": {
    "pycharm": {
     "name": "#%% md\n"
    }
   },
   "source": [
    "이제 이 대여소 위치에 직원을 보내서 대여소를 점검하자."
   ]
  }
 ],
 "metadata": {
  "kernelspec": {
   "display_name": "Python 3",
   "language": "python",
   "name": "python3"
  },
  "language_info": {
   "codemirror_mode": {
    "name": "ipython",
    "version": 3
   },
   "file_extension": ".py",
   "mimetype": "text/x-python",
   "name": "python",
   "nbconvert_exporter": "python",
   "pygments_lexer": "ipython3",
   "version": "3.7.6"
  }
 },
 "nbformat": 4,
 "nbformat_minor": 4
}