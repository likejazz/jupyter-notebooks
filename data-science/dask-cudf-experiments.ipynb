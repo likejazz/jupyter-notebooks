{
 "cells": [
  {
   "cell_type": "markdown",
   "id": "c464626d",
   "metadata": {},
   "source": [
    "![](https://opengraph.githubassets.com/88c66bdae373dffd1f339f2ed0436ef24278f269e20351f1977dfac2f17ff713/rapidsai/dask-cudf)\n",
    "\n",
    "Dask-cuDF는 별도 프로젝트로 진행되다 현재는 cuDF 프로젝트에 통합되었다."
   ]
  },
  {
   "cell_type": "code",
   "execution_count": 1,
   "id": "5f20d18d",
   "metadata": {},
   "outputs": [
    {
     "name": "stdout",
     "output_type": "stream",
     "text": [
      "1.4.2\n",
      "2022.05.2\n",
      "22.06.00\n",
      "22.06.00\n"
     ]
    }
   ],
   "source": [
    "import os\n",
    "import numpy as np\n",
    "import cupy as cp\n",
    "import pandas as pd\n",
    "import cudf\n",
    "import dask\n",
    "import dask.array as da\n",
    "import dask.dataframe as dd\n",
    "import dask_cudf\n",
    "import time\n",
    "\n",
    "from dask.diagnostics import ProgressBar\n",
    "\n",
    "cp.random.seed(220919)\n",
    "\n",
    "print(pd.__version__)\n",
    "print(dask.__version__)\n",
    "print(cudf.__version__)\n",
    "print(dask_cudf.__version__)"
   ]
  },
  {
   "cell_type": "code",
   "execution_count": 2,
   "id": "ef2e18fe",
   "metadata": {},
   "outputs": [
    {
     "name": "stdout",
     "output_type": "stream",
     "text": [
      "CPU times: user 25.8 s, sys: 3.15 s, total: 29 s\n",
      "Wall time: 29 s\n"
     ]
    }
   ],
   "source": [
    "%%time\n",
    "# 실제로 2.9 GB 파일을 메모리에 읽어들이기 때문에 오랜 시간 소요\n",
    "pdf = pd.read_csv(\"../loan-default-data/MidSizedData.csv\")"
   ]
  },
  {
   "cell_type": "code",
   "execution_count": 4,
   "id": "82cd24c2",
   "metadata": {},
   "outputs": [
    {
     "name": "stdout",
     "output_type": "stream",
     "text": [
      "CPU times: user 695 ms, sys: 301 ms, total: 996 ms\n",
      "Wall time: 1.01 s\n"
     ]
    }
   ],
   "source": [
    "%%time\n",
    "# GPU로 읽어들이는 것은 매우 빠르다.\n",
    "cdf = cudf.read_csv(\"../loan-default-data/MidSizedData.csv\")"
   ]
  },
  {
   "cell_type": "code",
   "execution_count": 5,
   "id": "ca3fe13e",
   "metadata": {
    "scrolled": true
   },
   "outputs": [
    {
     "name": "stdout",
     "output_type": "stream",
     "text": [
      "CPU times: user 14.4 ms, sys: 7.1 ms, total: 21.5 ms\n",
      "Wall time: 20.7 ms\n"
     ]
    }
   ],
   "source": [
    "%%time\n",
    "# 계산 그래프만 생성하는 Lazy Operation이기 때문에 Dask-cuDF는 더 빠르다. 바로 실행 완료\n",
    "dcdf = dask_cudf.read_csv(\"../loan-default-data/MidSizedData.csv\", npartitions=64)  # 25MB chunks"
   ]
  },
  {
   "cell_type": "code",
   "execution_count": 8,
   "id": "8a1ce3d3",
   "metadata": {},
   "outputs": [
    {
     "name": "stdout",
     "output_type": "stream",
     "text": [
      "CPU times: user 3.69 s, sys: 440 ms, total: 4.13 s\n",
      "Wall time: 4.12 s\n",
      "CPU times: user 43.2 ms, sys: 27.6 ms, total: 70.8 ms\n",
      "Wall time: 72.4 ms\n",
      "CPU times: user 1.96 s, sys: 2.04 s, total: 4 s\n",
      "Wall time: 4.16 s\n"
     ]
    },
    {
     "data": {
      "text/html": [
       "<div>\n",
       "<style scoped>\n",
       "    .dataframe tbody tr th:only-of-type {\n",
       "        vertical-align: middle;\n",
       "    }\n",
       "\n",
       "    .dataframe tbody tr th {\n",
       "        vertical-align: top;\n",
       "    }\n",
       "\n",
       "    .dataframe thead th {\n",
       "        text-align: right;\n",
       "    }\n",
       "</style>\n",
       "<table border=\"1\" class=\"dataframe\">\n",
       "  <thead>\n",
       "    <tr style=\"text-align: right;\">\n",
       "      <th></th>\n",
       "      <th>cust_id</th>\n",
       "      <th>year</th>\n",
       "      <th>state</th>\n",
       "      <th>date_issued</th>\n",
       "      <th>date_final</th>\n",
       "      <th>emp_duration</th>\n",
       "      <th>own_type</th>\n",
       "      <th>income_type</th>\n",
       "      <th>app_type</th>\n",
       "      <th>loan_purpose</th>\n",
       "      <th>...</th>\n",
       "      <th>annual_pay</th>\n",
       "      <th>loan_amount</th>\n",
       "      <th>interest_rate</th>\n",
       "      <th>loan_duration</th>\n",
       "      <th>dti</th>\n",
       "      <th>total_pymnt</th>\n",
       "      <th>total_rec_prncp</th>\n",
       "      <th>recoveries</th>\n",
       "      <th>installment</th>\n",
       "      <th>is_default</th>\n",
       "    </tr>\n",
       "  </thead>\n",
       "  <tbody>\n",
       "    <tr>\n",
       "      <th>7853</th>\n",
       "      <td>54734</td>\n",
       "      <td>2009</td>\n",
       "      <td>Haryana</td>\n",
       "      <td>01/08/2009</td>\n",
       "      <td>1102011</td>\n",
       "      <td>0.5</td>\n",
       "      <td>RENT</td>\n",
       "      <td>Low</td>\n",
       "      <td>INDIVIDUAL</td>\n",
       "      <td>debt_consolidation</td>\n",
       "      <td>...</td>\n",
       "      <td>85000</td>\n",
       "      <td>25000</td>\n",
       "      <td>11.89</td>\n",
       "      <td>36 months</td>\n",
       "      <td>19.48</td>\n",
       "      <td>29324.32</td>\n",
       "      <td>25000.0</td>\n",
       "      <td>0.0</td>\n",
       "      <td>829.1</td>\n",
       "      <td>0</td>\n",
       "    </tr>\n",
       "    <tr>\n",
       "      <th>895232</th>\n",
       "      <td>54734</td>\n",
       "      <td>2009</td>\n",
       "      <td>Haryana</td>\n",
       "      <td>01/08/2009</td>\n",
       "      <td>1102011</td>\n",
       "      <td>0.5</td>\n",
       "      <td>RENT</td>\n",
       "      <td>Low</td>\n",
       "      <td>INDIVIDUAL</td>\n",
       "      <td>debt_consolidation</td>\n",
       "      <td>...</td>\n",
       "      <td>85000</td>\n",
       "      <td>25000</td>\n",
       "      <td>11.89</td>\n",
       "      <td>36 months</td>\n",
       "      <td>19.48</td>\n",
       "      <td>29324.32</td>\n",
       "      <td>25000.0</td>\n",
       "      <td>0.0</td>\n",
       "      <td>829.1</td>\n",
       "      <td>0</td>\n",
       "    </tr>\n",
       "    <tr>\n",
       "      <th>54869</th>\n",
       "      <td>54734</td>\n",
       "      <td>2009</td>\n",
       "      <td>Haryana</td>\n",
       "      <td>01/08/2009</td>\n",
       "      <td>1102011</td>\n",
       "      <td>0.5</td>\n",
       "      <td>RENT</td>\n",
       "      <td>Low</td>\n",
       "      <td>INDIVIDUAL</td>\n",
       "      <td>debt_consolidation</td>\n",
       "      <td>...</td>\n",
       "      <td>85000</td>\n",
       "      <td>25000</td>\n",
       "      <td>11.89</td>\n",
       "      <td>36 months</td>\n",
       "      <td>19.48</td>\n",
       "      <td>29324.32</td>\n",
       "      <td>25000.0</td>\n",
       "      <td>0.0</td>\n",
       "      <td>829.1</td>\n",
       "      <td>0</td>\n",
       "    </tr>\n",
       "    <tr>\n",
       "      <th>942248</th>\n",
       "      <td>54734</td>\n",
       "      <td>2009</td>\n",
       "      <td>Haryana</td>\n",
       "      <td>01/08/2009</td>\n",
       "      <td>1102011</td>\n",
       "      <td>0.5</td>\n",
       "      <td>RENT</td>\n",
       "      <td>Low</td>\n",
       "      <td>INDIVIDUAL</td>\n",
       "      <td>debt_consolidation</td>\n",
       "      <td>...</td>\n",
       "      <td>85000</td>\n",
       "      <td>25000</td>\n",
       "      <td>11.89</td>\n",
       "      <td>36 months</td>\n",
       "      <td>19.48</td>\n",
       "      <td>29324.32</td>\n",
       "      <td>25000.0</td>\n",
       "      <td>0.0</td>\n",
       "      <td>829.1</td>\n",
       "      <td>0</td>\n",
       "    </tr>\n",
       "    <tr>\n",
       "      <th>101105</th>\n",
       "      <td>54734</td>\n",
       "      <td>2009</td>\n",
       "      <td>Haryana</td>\n",
       "      <td>01/08/2009</td>\n",
       "      <td>1102011</td>\n",
       "      <td>0.5</td>\n",
       "      <td>RENT</td>\n",
       "      <td>Low</td>\n",
       "      <td>INDIVIDUAL</td>\n",
       "      <td>debt_consolidation</td>\n",
       "      <td>...</td>\n",
       "      <td>85000</td>\n",
       "      <td>25000</td>\n",
       "      <td>11.89</td>\n",
       "      <td>36 months</td>\n",
       "      <td>19.48</td>\n",
       "      <td>29324.32</td>\n",
       "      <td>25000.0</td>\n",
       "      <td>0.0</td>\n",
       "      <td>829.1</td>\n",
       "      <td>0</td>\n",
       "    </tr>\n",
       "  </tbody>\n",
       "</table>\n",
       "<p>5 rows × 22 columns</p>\n",
       "</div>"
      ],
      "text/plain": [
       "        cust_id  year    state date_issued  date_final  emp_duration own_type  \\\n",
       "7853      54734  2009  Haryana  01/08/2009     1102011           0.5     RENT   \n",
       "895232    54734  2009  Haryana  01/08/2009     1102011           0.5     RENT   \n",
       "54869     54734  2009  Haryana  01/08/2009     1102011           0.5     RENT   \n",
       "942248    54734  2009  Haryana  01/08/2009     1102011           0.5     RENT   \n",
       "101105    54734  2009  Haryana  01/08/2009     1102011           0.5     RENT   \n",
       "\n",
       "       income_type    app_type        loan_purpose  ... annual_pay  \\\n",
       "7853           Low  INDIVIDUAL  debt_consolidation  ...      85000   \n",
       "895232         Low  INDIVIDUAL  debt_consolidation  ...      85000   \n",
       "54869          Low  INDIVIDUAL  debt_consolidation  ...      85000   \n",
       "942248         Low  INDIVIDUAL  debt_consolidation  ...      85000   \n",
       "101105         Low  INDIVIDUAL  debt_consolidation  ...      85000   \n",
       "\n",
       "        loan_amount  interest_rate  loan_duration    dti  total_pymnt  \\\n",
       "7853          25000          11.89      36 months  19.48     29324.32   \n",
       "895232        25000          11.89      36 months  19.48     29324.32   \n",
       "54869         25000          11.89      36 months  19.48     29324.32   \n",
       "942248        25000          11.89      36 months  19.48     29324.32   \n",
       "101105        25000          11.89      36 months  19.48     29324.32   \n",
       "\n",
       "        total_rec_prncp  recoveries  installment  is_default  \n",
       "7853            25000.0         0.0        829.1           0  \n",
       "895232          25000.0         0.0        829.1           0  \n",
       "54869           25000.0         0.0        829.1           0  \n",
       "942248          25000.0         0.0        829.1           0  \n",
       "101105          25000.0         0.0        829.1           0  \n",
       "\n",
       "[5 rows x 22 columns]"
      ]
     },
     "execution_count": 8,
     "metadata": {},
     "output_type": "execute_result"
    }
   ],
   "source": [
    "%time pdf.sort_values('cust_id').head()\n",
    "%time cdf.sort_values('cust_id').head()\n",
    "%time dcdf.sort_values('cust_id').head()"
   ]
  },
  {
   "cell_type": "code",
   "execution_count": 11,
   "id": "07f39e86",
   "metadata": {},
   "outputs": [
    {
     "name": "stdout",
     "output_type": "stream",
     "text": [
      "CPU times: user 1.09 s, sys: 2.1 ms, total: 1.1 s\n",
      "Wall time: 1.09 s\n",
      "CPU times: user 14.3 ms, sys: 5.12 ms, total: 19.4 ms\n",
      "Wall time: 18.2 ms\n",
      "CPU times: user 885 ms, sys: 741 ms, total: 1.63 s\n",
      "Wall time: 1.65 s\n"
     ]
    },
    {
     "data": {
      "text/plain": [
       "Chhattisgarh         708642\n",
       "Sikkim               706860\n",
       "Haryana              703978\n",
       "Punjab               700766\n",
       "Assam                699424\n",
       "Goa                  699292\n",
       "Madhya Pradesh       698544\n",
       "Uttar Pradesh        698500\n",
       "Maharashtra          698104\n",
       "Himachal Pradesh     698060\n",
       "Arunachal Pradesh    697466\n",
       "Nagaland             697422\n",
       "Andhra Pradesh       697136\n",
       "Kerala               697114\n",
       "Tripura              696718\n",
       "Rajasthan            696718\n",
       "Karnataka            695618\n",
       "Manipur              695266\n",
       "West Bengal          695112\n",
       "Odisha               694914\n",
       "Telangana            694892\n",
       "Bihar                694694\n",
       "Jharkhand            694100\n",
       "Mizoram              693792\n",
       "Uttarakhand          693792\n",
       "Gujarat              693792\n",
       "Tamil Nadu           693374\n",
       "Meghalaya            688248\n",
       "Name: state, dtype: int64"
      ]
     },
     "execution_count": 11,
     "metadata": {},
     "output_type": "execute_result"
    }
   ],
   "source": [
    "%time pdf.state.value_counts()\n",
    "%time cdf.state.value_counts()\n",
    "%time dcdf.state.value_counts().compute()"
   ]
  },
  {
   "cell_type": "code",
   "execution_count": 12,
   "id": "49289bc6",
   "metadata": {},
   "outputs": [
    {
     "data": {
      "text/html": [
       "<div><strong>Dask DataFrame Structure:</strong></div>\n",
       "<div>\n",
       "<style scoped>\n",
       "    .dataframe tbody tr th:only-of-type {\n",
       "        vertical-align: middle;\n",
       "    }\n",
       "\n",
       "    .dataframe tbody tr th {\n",
       "        vertical-align: top;\n",
       "    }\n",
       "\n",
       "    .dataframe thead th {\n",
       "        text-align: right;\n",
       "    }\n",
       "</style>\n",
       "<table border=\"1\" class=\"dataframe\">\n",
       "  <thead>\n",
       "    <tr style=\"text-align: right;\">\n",
       "      <th></th>\n",
       "      <th>cust_id</th>\n",
       "      <th>year</th>\n",
       "      <th>state</th>\n",
       "      <th>date_issued</th>\n",
       "      <th>date_final</th>\n",
       "      <th>emp_duration</th>\n",
       "      <th>own_type</th>\n",
       "      <th>income_type</th>\n",
       "      <th>app_type</th>\n",
       "      <th>loan_purpose</th>\n",
       "      <th>interest_payments</th>\n",
       "      <th>grade</th>\n",
       "      <th>annual_pay</th>\n",
       "      <th>loan_amount</th>\n",
       "      <th>interest_rate</th>\n",
       "      <th>loan_duration</th>\n",
       "      <th>dti</th>\n",
       "      <th>total_pymnt</th>\n",
       "      <th>total_rec_prncp</th>\n",
       "      <th>recoveries</th>\n",
       "      <th>installment</th>\n",
       "      <th>is_default</th>\n",
       "    </tr>\n",
       "    <tr>\n",
       "      <th>npartitions=12</th>\n",
       "      <th></th>\n",
       "      <th></th>\n",
       "      <th></th>\n",
       "      <th></th>\n",
       "      <th></th>\n",
       "      <th></th>\n",
       "      <th></th>\n",
       "      <th></th>\n",
       "      <th></th>\n",
       "      <th></th>\n",
       "      <th></th>\n",
       "      <th></th>\n",
       "      <th></th>\n",
       "      <th></th>\n",
       "      <th></th>\n",
       "      <th></th>\n",
       "      <th></th>\n",
       "      <th></th>\n",
       "      <th></th>\n",
       "      <th></th>\n",
       "      <th></th>\n",
       "      <th></th>\n",
       "    </tr>\n",
       "  </thead>\n",
       "  <tbody>\n",
       "    <tr>\n",
       "      <th></th>\n",
       "      <td>int64</td>\n",
       "      <td>int64</td>\n",
       "      <td>object</td>\n",
       "      <td>object</td>\n",
       "      <td>int64</td>\n",
       "      <td>float64</td>\n",
       "      <td>object</td>\n",
       "      <td>object</td>\n",
       "      <td>object</td>\n",
       "      <td>object</td>\n",
       "      <td>object</td>\n",
       "      <td>object</td>\n",
       "      <td>int64</td>\n",
       "      <td>int64</td>\n",
       "      <td>float64</td>\n",
       "      <td>object</td>\n",
       "      <td>float64</td>\n",
       "      <td>float64</td>\n",
       "      <td>float64</td>\n",
       "      <td>float64</td>\n",
       "      <td>float64</td>\n",
       "      <td>int64</td>\n",
       "    </tr>\n",
       "    <tr>\n",
       "      <th></th>\n",
       "      <td>...</td>\n",
       "      <td>...</td>\n",
       "      <td>...</td>\n",
       "      <td>...</td>\n",
       "      <td>...</td>\n",
       "      <td>...</td>\n",
       "      <td>...</td>\n",
       "      <td>...</td>\n",
       "      <td>...</td>\n",
       "      <td>...</td>\n",
       "      <td>...</td>\n",
       "      <td>...</td>\n",
       "      <td>...</td>\n",
       "      <td>...</td>\n",
       "      <td>...</td>\n",
       "      <td>...</td>\n",
       "      <td>...</td>\n",
       "      <td>...</td>\n",
       "      <td>...</td>\n",
       "      <td>...</td>\n",
       "      <td>...</td>\n",
       "      <td>...</td>\n",
       "    </tr>\n",
       "    <tr>\n",
       "      <th>...</th>\n",
       "      <td>...</td>\n",
       "      <td>...</td>\n",
       "      <td>...</td>\n",
       "      <td>...</td>\n",
       "      <td>...</td>\n",
       "      <td>...</td>\n",
       "      <td>...</td>\n",
       "      <td>...</td>\n",
       "      <td>...</td>\n",
       "      <td>...</td>\n",
       "      <td>...</td>\n",
       "      <td>...</td>\n",
       "      <td>...</td>\n",
       "      <td>...</td>\n",
       "      <td>...</td>\n",
       "      <td>...</td>\n",
       "      <td>...</td>\n",
       "      <td>...</td>\n",
       "      <td>...</td>\n",
       "      <td>...</td>\n",
       "      <td>...</td>\n",
       "      <td>...</td>\n",
       "    </tr>\n",
       "    <tr>\n",
       "      <th></th>\n",
       "      <td>...</td>\n",
       "      <td>...</td>\n",
       "      <td>...</td>\n",
       "      <td>...</td>\n",
       "      <td>...</td>\n",
       "      <td>...</td>\n",
       "      <td>...</td>\n",
       "      <td>...</td>\n",
       "      <td>...</td>\n",
       "      <td>...</td>\n",
       "      <td>...</td>\n",
       "      <td>...</td>\n",
       "      <td>...</td>\n",
       "      <td>...</td>\n",
       "      <td>...</td>\n",
       "      <td>...</td>\n",
       "      <td>...</td>\n",
       "      <td>...</td>\n",
       "      <td>...</td>\n",
       "      <td>...</td>\n",
       "      <td>...</td>\n",
       "      <td>...</td>\n",
       "    </tr>\n",
       "    <tr>\n",
       "      <th></th>\n",
       "      <td>...</td>\n",
       "      <td>...</td>\n",
       "      <td>...</td>\n",
       "      <td>...</td>\n",
       "      <td>...</td>\n",
       "      <td>...</td>\n",
       "      <td>...</td>\n",
       "      <td>...</td>\n",
       "      <td>...</td>\n",
       "      <td>...</td>\n",
       "      <td>...</td>\n",
       "      <td>...</td>\n",
       "      <td>...</td>\n",
       "      <td>...</td>\n",
       "      <td>...</td>\n",
       "      <td>...</td>\n",
       "      <td>...</td>\n",
       "      <td>...</td>\n",
       "      <td>...</td>\n",
       "      <td>...</td>\n",
       "      <td>...</td>\n",
       "      <td>...</td>\n",
       "    </tr>\n",
       "  </tbody>\n",
       "</table>\n",
       "</div>\n",
       "<div>Dask Name: read-csv, 12 tasks</div>"
      ],
      "text/plain": [
       "<dask_cudf.DataFrame | 12 tasks | 12 npartitions>"
      ]
     },
     "execution_count": 12,
     "metadata": {},
     "output_type": "execute_result"
    }
   ],
   "source": [
    "# `persist()`로 Dask DataFrame을 메모리에 고정시켜서 속도가 더 빨라지는지 확인한다.\n",
    "# Dask-cuDF는 `persist()` 결과를 받지 않아도 해당 변수가 in-place로 적용된다.\n",
    "dcdf.persist()"
   ]
  },
  {
   "cell_type": "code",
   "execution_count": 14,
   "id": "b1690605",
   "metadata": {},
   "outputs": [
    {
     "name": "stdout",
     "output_type": "stream",
     "text": [
      "CPU times: user 1.02 s, sys: 4.75 ms, total: 1.02 s\n",
      "Wall time: 1.01 s\n",
      "CPU times: user 21.4 ms, sys: 6.73 ms, total: 28.1 ms\n",
      "Wall time: 27.2 ms\n",
      "CPU times: user 923 ms, sys: 760 ms, total: 1.68 s\n",
      "Wall time: 1.73 s\n"
     ]
    },
    {
     "data": {
      "text/plain": [
       "Chhattisgarh         708642\n",
       "Sikkim               706860\n",
       "Haryana              703978\n",
       "Punjab               700766\n",
       "Assam                699424\n",
       "Goa                  699292\n",
       "Madhya Pradesh       698544\n",
       "Uttar Pradesh        698500\n",
       "Maharashtra          698104\n",
       "Himachal Pradesh     698060\n",
       "Arunachal Pradesh    697466\n",
       "Nagaland             697422\n",
       "Andhra Pradesh       697136\n",
       "Kerala               697114\n",
       "Tripura              696718\n",
       "Rajasthan            696718\n",
       "Karnataka            695618\n",
       "Manipur              695266\n",
       "West Bengal          695112\n",
       "Odisha               694914\n",
       "Telangana            694892\n",
       "Bihar                694694\n",
       "Jharkhand            694100\n",
       "Mizoram              693792\n",
       "Uttarakhand          693792\n",
       "Gujarat              693792\n",
       "Tamil Nadu           693374\n",
       "Meghalaya            688248\n",
       "Name: state, dtype: int64"
      ]
     },
     "execution_count": 14,
     "metadata": {},
     "output_type": "execute_result"
    }
   ],
   "source": [
    "%time pdf.state.value_counts()\n",
    "%time cdf.state.value_counts()\n",
    "%time dcdf.state.value_counts().compute()"
   ]
  },
  {
   "cell_type": "markdown",
   "id": "f796a6f2",
   "metadata": {},
   "source": [
    "`persist()`로 메모리에 고정해도 속도가 빨라지지 않는다.  \n",
    "`LocalCUDACluster`를 구동해본다. GPU 갯수만큼 4개가 자동으로 실행된다."
   ]
  },
  {
   "cell_type": "code",
   "execution_count": 2,
   "id": "4e58ca74",
   "metadata": {},
   "outputs": [
    {
     "name": "stderr",
     "output_type": "stream",
     "text": [
      "2022-11-01 09:22:24,058 - distributed.preloading - INFO - Import preload module: dask_cuda.initialize\n",
      "2022-11-01 09:22:24,107 - distributed.preloading - INFO - Import preload module: dask_cuda.initialize\n",
      "2022-11-01 09:22:24,163 - distributed.preloading - INFO - Import preload module: dask_cuda.initialize\n",
      "2022-11-01 09:22:24,165 - distributed.preloading - INFO - Import preload module: dask_cuda.initialize\n"
     ]
    }
   ],
   "source": [
    "import time\n",
    "\n",
    "from dask.distributed import Client, wait\n",
    "from dask_cuda import LocalCUDACluster\n",
    "\n",
    "cluster = LocalCUDACluster(ip='0.0.0.0')\n",
    "client = Client(cluster)"
   ]
  },
  {
   "cell_type": "code",
   "execution_count": 20,
   "id": "f6b4534e",
   "metadata": {},
   "outputs": [
    {
     "name": "stdout",
     "output_type": "stream",
     "text": [
      "CPU times: user 1.01 s, sys: 5.63 ms, total: 1.02 s\n",
      "Wall time: 1 s\n",
      "CPU times: user 33.8 ms, sys: 6.99 ms, total: 40.8 ms\n",
      "Wall time: 30.9 ms\n",
      "CPU times: user 53.4 ms, sys: 14.3 ms, total: 67.7 ms\n",
      "Wall time: 763 ms\n"
     ]
    },
    {
     "data": {
      "text/plain": [
       "Chhattisgarh         708642\n",
       "Sikkim               706860\n",
       "Haryana              703978\n",
       "Punjab               700766\n",
       "Assam                699424\n",
       "Goa                  699292\n",
       "Madhya Pradesh       698544\n",
       "Uttar Pradesh        698500\n",
       "Maharashtra          698104\n",
       "Himachal Pradesh     698060\n",
       "Arunachal Pradesh    697466\n",
       "Nagaland             697422\n",
       "Andhra Pradesh       697136\n",
       "Kerala               697114\n",
       "Tripura              696718\n",
       "Rajasthan            696718\n",
       "Karnataka            695618\n",
       "Manipur              695266\n",
       "West Bengal          695112\n",
       "Odisha               694914\n",
       "Telangana            694892\n",
       "Bihar                694694\n",
       "Jharkhand            694100\n",
       "Mizoram              693792\n",
       "Uttarakhand          693792\n",
       "Gujarat              693792\n",
       "Tamil Nadu           693374\n",
       "Meghalaya            688248\n",
       "Name: state, dtype: int64"
      ]
     },
     "execution_count": 20,
     "metadata": {},
     "output_type": "execute_result"
    }
   ],
   "source": [
    "%time pdf.state.value_counts()\n",
    "%time cdf.state.value_counts()\n",
    "%time dcdf.state.value_counts().compute()"
   ]
  },
  {
   "cell_type": "markdown",
   "id": "12dad425",
   "metadata": {},
   "source": [
    "LocalCUDACluster 구동 후 2배 이상 속도가 빨라졌으나 그래도 기대에 미치지 못한다. 대시보드에서 프로파일링 해보면 read-csv 태스크가 대부분을 차지한다. \n",
    "\n",
    "![](https://user-images.githubusercontent.com/1250095/198995247-bfc9571e-627e-43d2-aecd-d71292597b95.png)\n",
    "\n",
    "그렇다면 `persist()`로 메모리에 고정시켜 read-csv가 필요 없도록 하면 속도를 더 높일 수 있을 것 같다. 마찬가지로 `persist()`가 Dask와 달리 리턴 없이도 in-place로 바로 적용된다. 먼저 실행하기 전 메모리 현황은 다음과 같다.\n",
    "\n",
    "![](https://user-images.githubusercontent.com/1250095/198998857-f96b8cf1-6bb5-4860-a076-b555a2f4d8a5.png)\n",
    "\n",
    "이제 `persist()`를 다음과 같이 실행한다."
   ]
  },
  {
   "cell_type": "code",
   "execution_count": null,
   "id": "4ae513cd",
   "metadata": {},
   "outputs": [],
   "source": [
    "dcdf.persist()"
   ]
  },
  {
   "cell_type": "code",
   "execution_count": 23,
   "id": "0eae6452",
   "metadata": {},
   "outputs": [
    {
     "name": "stdout",
     "output_type": "stream",
     "text": [
      "CPU times: user 1.12 s, sys: 14.9 ms, total: 1.13 s\n",
      "Wall time: 1.12 s\n",
      "CPU times: user 34.6 ms, sys: 3.52 ms, total: 38.1 ms\n",
      "Wall time: 33.3 ms\n",
      "CPU times: user 22.9 ms, sys: 953 µs, total: 23.8 ms\n",
      "Wall time: 77.4 ms\n"
     ]
    },
    {
     "data": {
      "text/plain": [
       "Chhattisgarh         708642\n",
       "Sikkim               706860\n",
       "Haryana              703978\n",
       "Punjab               700766\n",
       "Assam                699424\n",
       "Goa                  699292\n",
       "Madhya Pradesh       698544\n",
       "Uttar Pradesh        698500\n",
       "Maharashtra          698104\n",
       "Himachal Pradesh     698060\n",
       "Arunachal Pradesh    697466\n",
       "Nagaland             697422\n",
       "Andhra Pradesh       697136\n",
       "Kerala               697114\n",
       "Tripura              696718\n",
       "Rajasthan            696718\n",
       "Karnataka            695618\n",
       "Manipur              695266\n",
       "West Bengal          695112\n",
       "Odisha               694914\n",
       "Telangana            694892\n",
       "Bihar                694694\n",
       "Jharkhand            694100\n",
       "Mizoram              693792\n",
       "Uttarakhand          693792\n",
       "Gujarat              693792\n",
       "Tamil Nadu           693374\n",
       "Meghalaya            688248\n",
       "Name: state, dtype: int64"
      ]
     },
     "execution_count": 23,
     "metadata": {},
     "output_type": "execute_result"
    }
   ],
   "source": [
    "%time pdf.state.value_counts()\n",
    "%time cdf.state.value_counts()\n",
    "%time dcdf.state.value_counts().compute()"
   ]
  },
  {
   "cell_type": "markdown",
   "id": "aa61b83e",
   "metadata": {},
   "source": [
    "Dask-cuDF의 속도가 10배 이상 증가했다. 대신 GPU 메모리는 고정적으로 점유하는 걸 확인할 수 있다.\n",
    "![](https://user-images.githubusercontent.com/1250095/198998819-74ff1ac1-0dfb-43f1-88ba-7a5c2511543e.png)"
   ]
  },
  {
   "cell_type": "code",
   "execution_count": 24,
   "id": "7c6a2506",
   "metadata": {},
   "outputs": [
    {
     "name": "stdout",
     "output_type": "stream",
     "text": [
      "CPU times: user 996 ms, sys: 12.9 ms, total: 1.01 s\n",
      "Wall time: 976 ms\n",
      "CPU times: user 9.11 ms, sys: 2.92 ms, total: 12 ms\n",
      "Wall time: 11.7 ms\n",
      "CPU times: user 27.8 ms, sys: 5.55 ms, total: 33.4 ms\n",
      "Wall time: 128 ms\n"
     ]
    },
    {
     "data": {
      "text/plain": [
       "28"
      ]
     },
     "execution_count": 24,
     "metadata": {},
     "output_type": "execute_result"
    }
   ],
   "source": [
    "%time pdf.state.nunique()\n",
    "%time cdf.state.nunique()\n",
    "%time dcdf.state.nunique().compute()"
   ]
  },
  {
   "cell_type": "code",
   "execution_count": 25,
   "id": "32652657",
   "metadata": {},
   "outputs": [
    {
     "name": "stdout",
     "output_type": "stream",
     "text": [
      "CPU times: user 1.23 s, sys: 40 ms, total: 1.27 s\n",
      "Wall time: 1.23 s\n",
      "CPU times: user 28.1 ms, sys: 3.21 ms, total: 31.3 ms\n",
      "Wall time: 30.2 ms\n",
      "CPU times: user 29.3 ms, sys: 4.73 ms, total: 34 ms\n",
      "Wall time: 96.9 ms\n"
     ]
    },
    {
     "data": {
      "text/plain": [
       "state\n",
       "Mizoram              7563.220400\n",
       "Odisha               7617.385990\n",
       "Karnataka            7499.055526\n",
       "Uttarakhand          7595.781252\n",
       "Tamil Nadu           7547.376405\n",
       "Jharkhand            7528.867289\n",
       "Meghalaya            7626.587164\n",
       "Himachal Pradesh     7532.032232\n",
       "Andhra Pradesh       7539.887278\n",
       "Telangana            7539.608749\n",
       "Punjab               7551.748058\n",
       "Goa                  7567.639128\n",
       "Maharashtra          7595.657335\n",
       "Tripura              7560.031309\n",
       "Chhattisgarh         7555.550607\n",
       "Kerala               7605.894841\n",
       "Assam                7483.791068\n",
       "Arunachal Pradesh    7571.114449\n",
       "Nagaland             7685.616803\n",
       "Haryana              7508.253666\n",
       "Uttar Pradesh        7545.473138\n",
       "Sikkim               7587.741911\n",
       "Gujarat              7530.040670\n",
       "Madhya Pradesh       7542.526326\n",
       "Bihar                7542.281996\n",
       "West Bengal          7554.332179\n",
       "Rajasthan            7541.678963\n",
       "Manipur              7528.928218\n",
       "Name: total_pymnt, dtype: float64"
      ]
     },
     "execution_count": 25,
     "metadata": {},
     "output_type": "execute_result"
    }
   ],
   "source": [
    "%time pdf.groupby('state').total_pymnt.mean()\n",
    "%time cdf.groupby('state').total_pymnt.mean()\n",
    "%time dcdf.groupby('state').total_pymnt.mean().compute()"
   ]
  },
  {
   "cell_type": "code",
   "execution_count": 26,
   "id": "5396b05f",
   "metadata": {},
   "outputs": [
    {
     "name": "stdout",
     "output_type": "stream",
     "text": [
      "CPU times: user 3.58 s, sys: 386 ms, total: 3.97 s\n",
      "Wall time: 3.92 s\n",
      "CPU times: user 387 ms, sys: 22 ms, total: 409 ms\n",
      "Wall time: 394 ms\n",
      "CPU times: user 114 ms, sys: 113 ms, total: 227 ms\n",
      "Wall time: 355 ms\n"
     ]
    },
    {
     "data": {
      "text/plain": [
       "0         13655.38\n",
       "1          1668.04\n",
       "2          1236.38\n",
       "3          5205.44\n",
       "4          5570.65\n",
       "            ...   \n",
       "504483        5.00\n",
       "504484        5.00\n",
       "504485      252.39\n",
       "504486        5.00\n",
       "504487        5.00\n",
       "Name: total_pymnt, Length: 19522338, dtype: float64"
      ]
     },
     "execution_count": 26,
     "metadata": {},
     "output_type": "execute_result"
    }
   ],
   "source": [
    "def add(x):\n",
    "  return x + 5\n",
    "%time pdf['total_pymnt'].apply(add)\n",
    "%time cdf['total_pymnt'].apply(add)\n",
    "%time dcdf['total_pymnt'].compute().apply(add)"
   ]
  },
  {
   "cell_type": "code",
   "execution_count": 27,
   "id": "60715fef",
   "metadata": {},
   "outputs": [
    {
     "name": "stdout",
     "output_type": "stream",
     "text": [
      "CPU times: user 990 ms, sys: 21.3 ms, total: 1.01 s\n",
      "Wall time: 975 ms\n",
      "CPU times: user 168 ms, sys: 6.94 ms, total: 175 ms\n",
      "Wall time: 170 ms\n",
      "CPU times: user 28.2 ms, sys: 4.19 ms, total: 32.4 ms\n",
      "Wall time: 106 ms\n"
     ]
    },
    {
     "data": {
      "text/plain": [
       "'andhra pradesh'"
      ]
     },
     "execution_count": 27,
     "metadata": {},
     "output_type": "execute_result"
    }
   ],
   "source": [
    "%time pdf['state'].unique()[0].lower()\n",
    "%time cdf['state'].unique()[0].lower()\n",
    "%time dcdf['state'].unique().compute()[0].lower()"
   ]
  },
  {
   "cell_type": "markdown",
   "id": "3973544d",
   "metadata": {},
   "source": [
    "# Super-Sized Data 테스트\n",
    "\n",
    "Dask와 달리 Dask-cuDF는 항상 `persist()`한 결과가 월등히 뛰어나다."
   ]
  },
  {
   "cell_type": "code",
   "execution_count": 6,
   "id": "eadba535",
   "metadata": {},
   "outputs": [],
   "source": [
    "# 129 GB\n",
    "dcdf = dask_cudf.read_csv(\"../loan-default-data/SuperSizedData.csv\", blocksize=25e6)  # 25MB chunks"
   ]
  },
  {
   "cell_type": "code",
   "execution_count": 9,
   "id": "7e5fd661",
   "metadata": {},
   "outputs": [
    {
     "name": "stdout",
     "output_type": "stream",
     "text": [
      "CPU times: user 3.59 s, sys: 607 ms, total: 4.19 s\n",
      "Wall time: 29.2 s\n",
      "CPU times: user 3.63 s, sys: 555 ms, total: 4.18 s\n",
      "Wall time: 31.8 s\n",
      "CPU times: user 540 ms, sys: 71.7 ms, total: 612 ms\n",
      "Wall time: 1.2 s\n",
      "CPU times: user 4.12 s, sys: 531 ms, total: 4.65 s\n",
      "Wall time: 30.7 s\n",
      "CPU times: user 3.81 s, sys: 483 ms, total: 4.3 s\n",
      "Wall time: 31.5 s\n"
     ]
    },
    {
     "data": {
      "text/plain": [
       "'andhra pradesh'"
      ]
     },
     "execution_count": 9,
     "metadata": {},
     "output_type": "execute_result"
    }
   ],
   "source": [
    "%time dcdf.state.value_counts().compute()\n",
    "%time dcdf.state.nunique().compute()\n",
    "%time dcdf.query('cust_id > 83000').head()\n",
    "%time dcdf.groupby('state').total_pymnt.mean().compute()\n",
    "%time dcdf['state'].unique().compute()[0].lower()"
   ]
  },
  {
   "cell_type": "code",
   "execution_count": 11,
   "id": "b7d03f1c",
   "metadata": {},
   "outputs": [
    {
     "data": {
      "text/html": [
       "<div><strong>Dask DataFrame Structure:</strong></div>\n",
       "<div>\n",
       "<style scoped>\n",
       "    .dataframe tbody tr th:only-of-type {\n",
       "        vertical-align: middle;\n",
       "    }\n",
       "\n",
       "    .dataframe tbody tr th {\n",
       "        vertical-align: top;\n",
       "    }\n",
       "\n",
       "    .dataframe thead th {\n",
       "        text-align: right;\n",
       "    }\n",
       "</style>\n",
       "<table border=\"1\" class=\"dataframe\">\n",
       "  <thead>\n",
       "    <tr style=\"text-align: right;\">\n",
       "      <th></th>\n",
       "      <th>cust_id</th>\n",
       "      <th>year</th>\n",
       "      <th>state</th>\n",
       "      <th>date_issued</th>\n",
       "      <th>date_final</th>\n",
       "      <th>emp_duration</th>\n",
       "      <th>own_type</th>\n",
       "      <th>income_type</th>\n",
       "      <th>app_type</th>\n",
       "      <th>loan_purpose</th>\n",
       "      <th>interest_payments</th>\n",
       "      <th>grade</th>\n",
       "      <th>annual_pay</th>\n",
       "      <th>loan_amount</th>\n",
       "      <th>interest_rate</th>\n",
       "      <th>loan_duration</th>\n",
       "      <th>dti</th>\n",
       "      <th>total_pymnt</th>\n",
       "      <th>total_rec_prncp</th>\n",
       "      <th>recoveries</th>\n",
       "      <th>installment</th>\n",
       "      <th>is_default</th>\n",
       "    </tr>\n",
       "    <tr>\n",
       "      <th>npartitions=514</th>\n",
       "      <th></th>\n",
       "      <th></th>\n",
       "      <th></th>\n",
       "      <th></th>\n",
       "      <th></th>\n",
       "      <th></th>\n",
       "      <th></th>\n",
       "      <th></th>\n",
       "      <th></th>\n",
       "      <th></th>\n",
       "      <th></th>\n",
       "      <th></th>\n",
       "      <th></th>\n",
       "      <th></th>\n",
       "      <th></th>\n",
       "      <th></th>\n",
       "      <th></th>\n",
       "      <th></th>\n",
       "      <th></th>\n",
       "      <th></th>\n",
       "      <th></th>\n",
       "      <th></th>\n",
       "    </tr>\n",
       "  </thead>\n",
       "  <tbody>\n",
       "    <tr>\n",
       "      <th></th>\n",
       "      <td>int64</td>\n",
       "      <td>int64</td>\n",
       "      <td>object</td>\n",
       "      <td>object</td>\n",
       "      <td>int64</td>\n",
       "      <td>float64</td>\n",
       "      <td>object</td>\n",
       "      <td>object</td>\n",
       "      <td>object</td>\n",
       "      <td>object</td>\n",
       "      <td>object</td>\n",
       "      <td>object</td>\n",
       "      <td>int64</td>\n",
       "      <td>int64</td>\n",
       "      <td>float64</td>\n",
       "      <td>object</td>\n",
       "      <td>float64</td>\n",
       "      <td>float64</td>\n",
       "      <td>float64</td>\n",
       "      <td>float64</td>\n",
       "      <td>float64</td>\n",
       "      <td>int64</td>\n",
       "    </tr>\n",
       "    <tr>\n",
       "      <th></th>\n",
       "      <td>...</td>\n",
       "      <td>...</td>\n",
       "      <td>...</td>\n",
       "      <td>...</td>\n",
       "      <td>...</td>\n",
       "      <td>...</td>\n",
       "      <td>...</td>\n",
       "      <td>...</td>\n",
       "      <td>...</td>\n",
       "      <td>...</td>\n",
       "      <td>...</td>\n",
       "      <td>...</td>\n",
       "      <td>...</td>\n",
       "      <td>...</td>\n",
       "      <td>...</td>\n",
       "      <td>...</td>\n",
       "      <td>...</td>\n",
       "      <td>...</td>\n",
       "      <td>...</td>\n",
       "      <td>...</td>\n",
       "      <td>...</td>\n",
       "      <td>...</td>\n",
       "    </tr>\n",
       "    <tr>\n",
       "      <th>...</th>\n",
       "      <td>...</td>\n",
       "      <td>...</td>\n",
       "      <td>...</td>\n",
       "      <td>...</td>\n",
       "      <td>...</td>\n",
       "      <td>...</td>\n",
       "      <td>...</td>\n",
       "      <td>...</td>\n",
       "      <td>...</td>\n",
       "      <td>...</td>\n",
       "      <td>...</td>\n",
       "      <td>...</td>\n",
       "      <td>...</td>\n",
       "      <td>...</td>\n",
       "      <td>...</td>\n",
       "      <td>...</td>\n",
       "      <td>...</td>\n",
       "      <td>...</td>\n",
       "      <td>...</td>\n",
       "      <td>...</td>\n",
       "      <td>...</td>\n",
       "      <td>...</td>\n",
       "    </tr>\n",
       "    <tr>\n",
       "      <th></th>\n",
       "      <td>...</td>\n",
       "      <td>...</td>\n",
       "      <td>...</td>\n",
       "      <td>...</td>\n",
       "      <td>...</td>\n",
       "      <td>...</td>\n",
       "      <td>...</td>\n",
       "      <td>...</td>\n",
       "      <td>...</td>\n",
       "      <td>...</td>\n",
       "      <td>...</td>\n",
       "      <td>...</td>\n",
       "      <td>...</td>\n",
       "      <td>...</td>\n",
       "      <td>...</td>\n",
       "      <td>...</td>\n",
       "      <td>...</td>\n",
       "      <td>...</td>\n",
       "      <td>...</td>\n",
       "      <td>...</td>\n",
       "      <td>...</td>\n",
       "      <td>...</td>\n",
       "    </tr>\n",
       "    <tr>\n",
       "      <th></th>\n",
       "      <td>...</td>\n",
       "      <td>...</td>\n",
       "      <td>...</td>\n",
       "      <td>...</td>\n",
       "      <td>...</td>\n",
       "      <td>...</td>\n",
       "      <td>...</td>\n",
       "      <td>...</td>\n",
       "      <td>...</td>\n",
       "      <td>...</td>\n",
       "      <td>...</td>\n",
       "      <td>...</td>\n",
       "      <td>...</td>\n",
       "      <td>...</td>\n",
       "      <td>...</td>\n",
       "      <td>...</td>\n",
       "      <td>...</td>\n",
       "      <td>...</td>\n",
       "      <td>...</td>\n",
       "      <td>...</td>\n",
       "      <td>...</td>\n",
       "      <td>...</td>\n",
       "    </tr>\n",
       "  </tbody>\n",
       "</table>\n",
       "</div>\n",
       "<div>Dask Name: read-csv, 514 tasks</div>"
      ],
      "text/plain": [
       "<dask_cudf.DataFrame | 514 tasks | 514 npartitions>"
      ]
     },
     "execution_count": 11,
     "metadata": {},
     "output_type": "execute_result"
    }
   ],
   "source": [
    "dcdf.persist()"
   ]
  },
  {
   "cell_type": "code",
   "execution_count": 12,
   "id": "da196238",
   "metadata": {},
   "outputs": [
    {
     "name": "stdout",
     "output_type": "stream",
     "text": [
      "CPU times: user 420 ms, sys: 48.2 ms, total: 468 ms\n",
      "Wall time: 1.73 s\n",
      "CPU times: user 877 ms, sys: 77.5 ms, total: 955 ms\n",
      "Wall time: 3.45 s\n",
      "CPU times: user 39.7 ms, sys: 0 ns, total: 39.7 ms\n",
      "Wall time: 73.3 ms\n",
      "CPU times: user 1.1 s, sys: 108 ms, total: 1.21 s\n",
      "Wall time: 2.74 s\n",
      "CPU times: user 698 ms, sys: 89.7 ms, total: 787 ms\n",
      "Wall time: 2.77 s\n"
     ]
    },
    {
     "data": {
      "text/plain": [
       "'andhra pradesh'"
      ]
     },
     "execution_count": 12,
     "metadata": {},
     "output_type": "execute_result"
    }
   ],
   "source": [
    "%time dcdf.state.value_counts().compute()\n",
    "%time dcdf.state.nunique().compute()\n",
    "%time dcdf.query('cust_id > 83000').head()\n",
    "%time dcdf.groupby('state').total_pymnt.mean().compute()\n",
    "%time dcdf['state'].unique().compute()[0].lower()"
   ]
  },
  {
   "cell_type": "markdown",
   "id": "77f6e781",
   "metadata": {},
   "source": [
    "# Hyper-Sized Data 테스트\n",
    "\n",
    "전체 메모리에 다 올라가지 않을 만큼 큰 데이터는 `persist()` 이후에도 속도 개선 효과가 거의 없다. 그래도 OOM 에러가 나지 않고(자동으로 일부 비율만큼만 올리는 것으로 보임) 2-3배 이상의 속도를 보인다."
   ]
  },
  {
   "cell_type": "code",
   "execution_count": 3,
   "id": "6832886c",
   "metadata": {},
   "outputs": [],
   "source": [
    "# 296 GB\n",
    "dcdf = dask_cudf.read_csv(\"../loan-default-data/HyperSizedData.csv\", blocksize=25e6)  # 25MB chunks"
   ]
  },
  {
   "cell_type": "code",
   "execution_count": 4,
   "id": "903fbbee",
   "metadata": {},
   "outputs": [
    {
     "name": "stdout",
     "output_type": "stream",
     "text": [
      "CPU times: user 17.1 s, sys: 3.09 s, total: 20.2 s\n",
      "Wall time: 2min 59s\n"
     ]
    },
    {
     "data": {
      "text/plain": [
       "Chhattisgarh         74117511\n",
       "Sikkim               73931130\n",
       "Haryana              73629699\n",
       "Punjab               73293753\n",
       "Assam                73153392\n",
       "Goa                  73139586\n",
       "Madhya Pradesh       73061352\n",
       "Uttar Pradesh        73056750\n",
       "Maharashtra          73015332\n",
       "Himachal Pradesh     73010730\n",
       "Arunachal Pradesh    72948603\n",
       "Nagaland             72944001\n",
       "Andhra Pradesh       72914088\n",
       "Kerala               72911787\n",
       "Rajasthan            72870369\n",
       "Tripura              72870369\n",
       "Karnataka            72755319\n",
       "Manipur              72718503\n",
       "West Bengal          72702396\n",
       "Odisha               72681687\n",
       "Telangana            72679386\n",
       "Bihar                72658677\n",
       "Jharkhand            72596550\n",
       "Mizoram              72564336\n",
       "Uttarakhand          72564336\n",
       "Gujarat              72564336\n",
       "Tamil Nadu           72520617\n",
       "Meghalaya            71984484\n",
       "Name: state, dtype: int64"
      ]
     },
     "execution_count": 4,
     "metadata": {},
     "output_type": "execute_result"
    }
   ],
   "source": [
    "%time dcdf.state.value_counts().compute()"
   ]
  },
  {
   "cell_type": "code",
   "execution_count": 5,
   "id": "3960e8f0",
   "metadata": {},
   "outputs": [
    {
     "data": {
      "text/html": [
       "<div><strong>Dask DataFrame Structure:</strong></div>\n",
       "<div>\n",
       "<style scoped>\n",
       "    .dataframe tbody tr th:only-of-type {\n",
       "        vertical-align: middle;\n",
       "    }\n",
       "\n",
       "    .dataframe tbody tr th {\n",
       "        vertical-align: top;\n",
       "    }\n",
       "\n",
       "    .dataframe thead th {\n",
       "        text-align: right;\n",
       "    }\n",
       "</style>\n",
       "<table border=\"1\" class=\"dataframe\">\n",
       "  <thead>\n",
       "    <tr style=\"text-align: right;\">\n",
       "      <th></th>\n",
       "      <th>cust_id</th>\n",
       "      <th>year</th>\n",
       "      <th>state</th>\n",
       "      <th>date_issued</th>\n",
       "      <th>date_final</th>\n",
       "      <th>emp_duration</th>\n",
       "      <th>own_type</th>\n",
       "      <th>income_type</th>\n",
       "      <th>app_type</th>\n",
       "      <th>loan_purpose</th>\n",
       "      <th>interest_payments</th>\n",
       "      <th>grade</th>\n",
       "      <th>annual_pay</th>\n",
       "      <th>loan_amount</th>\n",
       "      <th>interest_rate</th>\n",
       "      <th>loan_duration</th>\n",
       "      <th>dti</th>\n",
       "      <th>total_pymnt</th>\n",
       "      <th>total_rec_prncp</th>\n",
       "      <th>recoveries</th>\n",
       "      <th>installment</th>\n",
       "      <th>is_default</th>\n",
       "    </tr>\n",
       "    <tr>\n",
       "      <th>npartitions=1181</th>\n",
       "      <th></th>\n",
       "      <th></th>\n",
       "      <th></th>\n",
       "      <th></th>\n",
       "      <th></th>\n",
       "      <th></th>\n",
       "      <th></th>\n",
       "      <th></th>\n",
       "      <th></th>\n",
       "      <th></th>\n",
       "      <th></th>\n",
       "      <th></th>\n",
       "      <th></th>\n",
       "      <th></th>\n",
       "      <th></th>\n",
       "      <th></th>\n",
       "      <th></th>\n",
       "      <th></th>\n",
       "      <th></th>\n",
       "      <th></th>\n",
       "      <th></th>\n",
       "      <th></th>\n",
       "    </tr>\n",
       "  </thead>\n",
       "  <tbody>\n",
       "    <tr>\n",
       "      <th></th>\n",
       "      <td>int64</td>\n",
       "      <td>int64</td>\n",
       "      <td>object</td>\n",
       "      <td>object</td>\n",
       "      <td>int64</td>\n",
       "      <td>float64</td>\n",
       "      <td>object</td>\n",
       "      <td>object</td>\n",
       "      <td>object</td>\n",
       "      <td>object</td>\n",
       "      <td>object</td>\n",
       "      <td>object</td>\n",
       "      <td>int64</td>\n",
       "      <td>int64</td>\n",
       "      <td>float64</td>\n",
       "      <td>object</td>\n",
       "      <td>float64</td>\n",
       "      <td>float64</td>\n",
       "      <td>float64</td>\n",
       "      <td>float64</td>\n",
       "      <td>float64</td>\n",
       "      <td>int64</td>\n",
       "    </tr>\n",
       "    <tr>\n",
       "      <th></th>\n",
       "      <td>...</td>\n",
       "      <td>...</td>\n",
       "      <td>...</td>\n",
       "      <td>...</td>\n",
       "      <td>...</td>\n",
       "      <td>...</td>\n",
       "      <td>...</td>\n",
       "      <td>...</td>\n",
       "      <td>...</td>\n",
       "      <td>...</td>\n",
       "      <td>...</td>\n",
       "      <td>...</td>\n",
       "      <td>...</td>\n",
       "      <td>...</td>\n",
       "      <td>...</td>\n",
       "      <td>...</td>\n",
       "      <td>...</td>\n",
       "      <td>...</td>\n",
       "      <td>...</td>\n",
       "      <td>...</td>\n",
       "      <td>...</td>\n",
       "      <td>...</td>\n",
       "    </tr>\n",
       "    <tr>\n",
       "      <th>...</th>\n",
       "      <td>...</td>\n",
       "      <td>...</td>\n",
       "      <td>...</td>\n",
       "      <td>...</td>\n",
       "      <td>...</td>\n",
       "      <td>...</td>\n",
       "      <td>...</td>\n",
       "      <td>...</td>\n",
       "      <td>...</td>\n",
       "      <td>...</td>\n",
       "      <td>...</td>\n",
       "      <td>...</td>\n",
       "      <td>...</td>\n",
       "      <td>...</td>\n",
       "      <td>...</td>\n",
       "      <td>...</td>\n",
       "      <td>...</td>\n",
       "      <td>...</td>\n",
       "      <td>...</td>\n",
       "      <td>...</td>\n",
       "      <td>...</td>\n",
       "      <td>...</td>\n",
       "    </tr>\n",
       "    <tr>\n",
       "      <th></th>\n",
       "      <td>...</td>\n",
       "      <td>...</td>\n",
       "      <td>...</td>\n",
       "      <td>...</td>\n",
       "      <td>...</td>\n",
       "      <td>...</td>\n",
       "      <td>...</td>\n",
       "      <td>...</td>\n",
       "      <td>...</td>\n",
       "      <td>...</td>\n",
       "      <td>...</td>\n",
       "      <td>...</td>\n",
       "      <td>...</td>\n",
       "      <td>...</td>\n",
       "      <td>...</td>\n",
       "      <td>...</td>\n",
       "      <td>...</td>\n",
       "      <td>...</td>\n",
       "      <td>...</td>\n",
       "      <td>...</td>\n",
       "      <td>...</td>\n",
       "      <td>...</td>\n",
       "    </tr>\n",
       "    <tr>\n",
       "      <th></th>\n",
       "      <td>...</td>\n",
       "      <td>...</td>\n",
       "      <td>...</td>\n",
       "      <td>...</td>\n",
       "      <td>...</td>\n",
       "      <td>...</td>\n",
       "      <td>...</td>\n",
       "      <td>...</td>\n",
       "      <td>...</td>\n",
       "      <td>...</td>\n",
       "      <td>...</td>\n",
       "      <td>...</td>\n",
       "      <td>...</td>\n",
       "      <td>...</td>\n",
       "      <td>...</td>\n",
       "      <td>...</td>\n",
       "      <td>...</td>\n",
       "      <td>...</td>\n",
       "      <td>...</td>\n",
       "      <td>...</td>\n",
       "      <td>...</td>\n",
       "      <td>...</td>\n",
       "    </tr>\n",
       "  </tbody>\n",
       "</table>\n",
       "</div>\n",
       "<div>Dask Name: read-csv, 1181 tasks</div>"
      ],
      "text/plain": [
       "<dask_cudf.DataFrame | 1181 tasks | 1181 npartitions>"
      ]
     },
     "execution_count": 5,
     "metadata": {},
     "output_type": "execute_result"
    }
   ],
   "source": [
    "dcdf.persist()"
   ]
  },
  {
   "cell_type": "code",
   "execution_count": 7,
   "id": "a57e52ff",
   "metadata": {},
   "outputs": [
    {
     "name": "stdout",
     "output_type": "stream",
     "text": [
      "CPU times: user 12.3 s, sys: 492 ms, total: 12.8 s\n",
      "Wall time: 54.9 s\n",
      "CPU times: user 12.8 s, sys: 557 ms, total: 13.3 s\n",
      "Wall time: 57.2 s\n",
      "CPU times: user 574 ms, sys: 66.9 ms, total: 640 ms\n",
      "Wall time: 1.41 s\n",
      "CPU times: user 13 s, sys: 617 ms, total: 13.6 s\n",
      "Wall time: 55.4 s\n",
      "CPU times: user 11.4 s, sys: 551 ms, total: 12 s\n",
      "Wall time: 52.4 s\n"
     ]
    },
    {
     "data": {
      "text/plain": [
       "'andhra pradesh'"
      ]
     },
     "execution_count": 7,
     "metadata": {},
     "output_type": "execute_result"
    }
   ],
   "source": [
    "%time dcdf.state.value_counts().compute()\n",
    "%time dcdf.state.nunique().compute()\n",
    "%time dcdf.query('cust_id > 83000').head()\n",
    "%time dcdf.groupby('state').total_pymnt.mean().compute()\n",
    "%time dcdf['state'].unique().compute()[0].lower()"
   ]
  },
  {
   "cell_type": "markdown",
   "id": "f41bee48",
   "metadata": {},
   "source": [
    "# Conclusion\n",
    "\n",
    "Dask는 LocalCluster를 구성하면 대부분의 Operation에서 Pandas보다 더 빠른 속도를 보인다. 그러나 Dask-cuDF는 LocalCUDACluster를 구동해도 Single GPU만 사용하는 cuDF에 비해 항상 빠르지는 않다. 하나의 GPU에도 코어가 충분히 많다 보니 분산에 한계가 있어 현재 파일 크기 정도로는 더 이상 속도를 높이지 못하는듯 하다. 대신 Dask-cuDF는 단일 메모리 최대 한계인 80 GB를 극복할 수 있으며, 매우 큰 파일도 `persist()`로 메모리에 고정이 가능하며, CPU에 비해서는 월등히 빠른 속도를 보인다."
   ]
  }
 ],
 "metadata": {
  "kernelspec": {
   "display_name": "Python 3 (ipykernel)",
   "language": "python",
   "name": "python3"
  },
  "language_info": {
   "codemirror_mode": {
    "name": "ipython",
    "version": 3
   },
   "file_extension": ".py",
   "mimetype": "text/x-python",
   "name": "python",
   "nbconvert_exporter": "python",
   "pygments_lexer": "ipython3",
   "version": "3.9.13"
  }
 },
 "nbformat": 4,
 "nbformat_minor": 5
}
