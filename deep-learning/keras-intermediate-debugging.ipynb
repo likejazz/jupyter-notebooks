{
 "cells": [
  {
   "cell_type": "code",
   "execution_count": 1,
   "metadata": {
    "pycharm": {
     "name": "#%%\n"
    }
   },
   "outputs": [
    {
     "name": "stderr",
     "output_type": "stream",
     "text": [
      "Using TensorFlow backend.\n"
     ]
    },
    {
     "name": "stdout",
     "output_type": "stream",
     "text": [
      "Loading data...\n",
      "25000 train sequences\n",
      "25000 test sequences\n",
      "Pad sequences (samples x time)\n",
      "x_train shape: (10, 5)\n",
      "x_test shape: (10, 5)\n",
      "Build model...\n",
      "_________________________________________________________________\n",
      "Layer (type)                 Output Shape              Param #   \n",
      "=================================================================\n",
      "input_1 (InputLayer)         (None, 5)                 0         \n",
      "_________________________________________________________________\n",
      "embedding_1 (Embedding)      (None, 5, 3)              60        \n",
      "_________________________________________________________________\n",
      "flatten_1 (Flatten)          (None, 15)                0         \n",
      "_________________________________________________________________\n",
      "dense_1 (Dense)              (None, 1)                 16        \n",
      "=================================================================\n",
      "Total params: 76\n",
      "Trainable params: 16\n",
      "Non-trainable params: 60\n",
      "_________________________________________________________________\n",
      "Train...\n",
      "Train on 10 samples, validate on 10 samples\n",
      "Epoch 1/2\n",
      "10/10 [==============================] - 0s 13ms/step - loss: 0.6900 - acc: 0.6000 - val_loss: 0.6933 - val_acc: 0.6000\n",
      "Epoch 2/2\n",
      "10/10 [==============================] - 0s 237us/step - loss: 0.6898 - acc: 0.6000 - val_loss: 0.6934 - val_acc: 0.5000\n",
      "embedding_1/embeddings:0 (20, 3)\n",
      "[[ 0.03710604  0.0447267   0.01845541]\n",
      " [ 0.02056861 -0.00752139  0.04584632]\n",
      " [ 0.02605296 -0.03791744 -0.032538  ]\n",
      " [ 0.04944486  0.02518579 -0.03178279]\n",
      " [ 0.03725732 -0.01928098  0.03238809]\n",
      " [ 0.00917146  0.00534006 -0.00904445]\n",
      " [ 0.00471218  0.00747512 -0.00115185]\n",
      " [-0.03455156  0.02233679  0.02515448]\n",
      " [-0.03276616 -0.02064025  0.0246176 ]\n",
      " [-0.02794037  0.02399851  0.02930913]\n",
      " [ 0.02345468  0.01916173 -0.04229976]\n",
      " [-0.03585964  0.03904844 -0.0273299 ]\n",
      " [-0.02466786 -0.03819505  0.00927155]\n",
      " [-0.03251936  0.03960699 -0.0251536 ]\n",
      " [-0.04313273  0.045066   -0.00468619]\n",
      " [-0.01276302 -0.04676872  0.00260699]\n",
      " [-0.01385712 -0.00873871 -0.02249327]\n",
      " [ 0.00373733 -0.04424334 -0.04431904]\n",
      " [-0.02187735 -0.01782734  0.03866576]\n",
      " [ 0.00147777  0.03964208 -0.01970644]]\n",
      "dense_1/kernel:0 (15, 1)\n",
      "[[-0.5859396 ]\n",
      " [-0.33103675]\n",
      " [-0.6103033 ]\n",
      " [-0.1878556 ]\n",
      " [ 0.25851333]\n",
      " [ 0.60678446]\n",
      " [-0.41208446]\n",
      " [ 0.14432031]\n",
      " [-0.6075742 ]\n",
      " [-0.3771886 ]\n",
      " [-0.5140718 ]\n",
      " [-0.56113195]\n",
      " [ 0.39510807]\n",
      " [ 0.590024  ]\n",
      " [-0.1833529 ]]\n",
      "dense_1/bias:0 (1,)\n",
      "[-0.00199986]\n",
      "Input: [[ 2  2 14  6  2]]\n",
      "Intermediate output: [[[ 0.02605296 -0.03791744 -0.032538  ]\n",
      "  [ 0.02605296 -0.03791744 -0.032538  ]\n",
      "  [-0.04313273  0.045066   -0.00468619]\n",
      "  [ 0.00471218  0.00747512 -0.00115185]\n",
      "  [ 0.02605296 -0.03791744 -0.032538  ]]]\n",
      "Predict value: [[0.49918607]]\n"
     ]
    }
   ],
   "source": [
    "from keras.preprocessing import sequence\n",
    "from keras.models import Sequential, Model\n",
    "from keras.layers import Dense, Embedding, Input\n",
    "from keras.layers import LSTM, GlobalMaxPooling1D, Flatten\n",
    "from keras.datasets import imdb\n",
    "\n",
    "import numpy as np\n",
    "\n",
    "max_features = 20\n",
    "maxlen = 5  # cut texts after this number of words (among top max_features most common words)\n",
    "batch_size = 128\n",
    "epochs = 2\n",
    "\n",
    "print('Loading data...')\n",
    "(x_train, y_train), (x_test, y_test) = imdb.load_data(num_words=max_features)\n",
    "print(len(x_train), 'train sequences')\n",
    "print(len(x_test), 'test sequences')\n",
    "\n",
    "i = 10\n",
    "x_train = x_train[:i]\n",
    "y_train = y_train[:i]\n",
    "x_test = x_test[:i]\n",
    "y_test = y_test[:i]\n",
    "\n",
    "print('Pad sequences (samples x time)')\n",
    "x_train = sequence.pad_sequences(x_train, maxlen=maxlen)\n",
    "x_test = sequence.pad_sequences(x_test, maxlen=maxlen)\n",
    "print('x_train shape:', x_train.shape)\n",
    "print('x_test shape:', x_test.shape)\n",
    "\n",
    "print('Build model...')\n",
    "inputs = Input(shape=(maxlen,), dtype='int32')\n",
    "x = Embedding(max_features, output_dim=3, trainable=False)(inputs)\n",
    "# x = LSTM(1, dropout=0.2)(x)\n",
    "x = Flatten()(x)\n",
    "outputs = Dense(1, activation='sigmoid')(x)\n",
    "\n",
    "model = Model(inputs=inputs, outputs=outputs)\n",
    "model.compile(loss='binary_crossentropy',\n",
    "              optimizer='adam',\n",
    "              metrics=['accuracy'])\n",
    "model.summary()\n",
    "\n",
    "print('Train...')\n",
    "model.fit(x_train, y_train,\n",
    "          batch_size=batch_size,\n",
    "          epochs=epochs,\n",
    "          validation_data=(x_test, y_test))\n",
    "\n",
    "# print weights\n",
    "names = [weight.name for layer in model.layers for weight in layer.weights]\n",
    "weights = model.get_weights()\n",
    "\n",
    "# suppress scientific notation\n",
    "np.set_printoptions(suppress=True)\n",
    "for name, weight in zip(names, weights):\n",
    "    print(name, weight.shape)\n",
    "    print(weight)\n",
    "\n",
    "# obtain the output of an intermediate layer\n",
    "intermediate_layer_model = Model(inputs=model.input,\n",
    "                                 outputs=model.get_layer('embedding_1').output)\n",
    "intermediate_output = intermediate_layer_model.predict(x_test[:1])\n",
    "\n",
    "print(\"Input:\", x_test[:1])\n",
    "print(\"Intermediate output:\", intermediate_output)\n",
    "print('Predict value:', model.predict(x_test[:1]))\n"
   ]
  },
  {
   "cell_type": "code",
   "execution_count": 2,
   "metadata": {
    "pycharm": {
     "name": "#%%\n"
    }
   },
   "outputs": [
    {
     "data": {
      "text/plain": [
       "array([[[ 0.02605296, -0.03791744, -0.032538  ],\n",
       "        [ 0.02605296, -0.03791744, -0.032538  ],\n",
       "        [-0.04313273,  0.045066  , -0.00468619],\n",
       "        [ 0.00471218,  0.00747512, -0.00115185],\n",
       "        [ 0.02605296, -0.03791744, -0.032538  ]]], dtype=float32)"
      ]
     },
     "execution_count": 2,
     "metadata": {},
     "output_type": "execute_result"
    }
   ],
   "source": [
    "intermediate_output"
   ]
  },
  {
   "cell_type": "code",
   "execution_count": 3,
   "metadata": {
    "pycharm": {
     "name": "#%%\n"
    }
   },
   "outputs": [
    {
     "data": {
      "text/plain": [
       "(array([[ 0.02605296, -0.03791744, -0.032538  ,  0.02605296, -0.03791744,\n",
       "         -0.032538  , -0.04313273,  0.045066  , -0.00468619,  0.00471218,\n",
       "          0.00747512, -0.00115185,  0.02605296, -0.03791744, -0.032538  ]],\n",
       "       dtype=float32), (1, 15))"
      ]
     },
     "execution_count": 3,
     "metadata": {},
     "output_type": "execute_result"
    }
   ],
   "source": [
    "# obtain the output of an intermediate layer\n",
    "intermediate_layer_model = Model(inputs=model.input,\n",
    "                                 outputs=model.get_layer('flatten_1').output)\n",
    "intermediate_output = intermediate_layer_model.predict(x_test[:1])\n",
    "\n",
    "intermediate_output, intermediate_output.shape"
   ]
  },
  {
   "cell_type": "code",
   "execution_count": 4,
   "metadata": {
    "collapsed": true,
    "pycharm": {
     "name": "#%%\n"
    }
   },
   "outputs": [],
   "source": [
    "# dense_1 layer weights\n",
    "w = np.array([[-0.5859396 ],\n",
    " [-0.33103675],\n",
    " [-0.6103033 ],\n",
    " [-0.1878556 ],\n",
    " [ 0.25851333],\n",
    " [ 0.60678446],\n",
    " [-0.41208446],\n",
    " [ 0.14432031],\n",
    " [-0.6075742 ],\n",
    " [-0.3771886 ],\n",
    " [-0.5140718 ],\n",
    " [-0.56113195],\n",
    " [ 0.39510807],\n",
    " [ 0.590024  ],\n",
    " [-0.1833529 ]])"
   ]
  },
  {
   "cell_type": "code",
   "execution_count": 5,
   "metadata": {
    "pycharm": {
     "name": "#%%\n"
    }
   },
   "outputs": [
    {
     "data": {
      "text/plain": [
       "array([[-0.00325595]])"
      ]
     },
     "execution_count": 5,
     "metadata": {},
     "output_type": "execute_result"
    }
   ],
   "source": [
    "# matrix multiplication\n",
    "o = np.dot(intermediate_output, w) + -0.00199986\n",
    "o"
   ]
  },
  {
   "cell_type": "code",
   "execution_count": 6,
   "metadata": {
    "pycharm": {
     "name": "#%%\n"
    }
   },
   "outputs": [
    {
     "data": {
      "text/plain": [
       "0.4991860120498202"
      ]
     },
     "execution_count": 6,
     "metadata": {},
     "output_type": "execute_result"
    }
   ],
   "source": [
    "# sigmoid output\n",
    "import math\n",
    "1 / (1 + math.exp(-o))"
   ]
  }
 ],
 "metadata": {
  "kernelspec": {
   "display_name": "Python 3",
   "language": "python",
   "name": "python3"
  },
  "language_info": {
   "codemirror_mode": {
    "name": "ipython",
    "version": 3
   },
   "file_extension": ".py",
   "mimetype": "text/x-python",
   "name": "python",
   "nbconvert_exporter": "python",
   "pygments_lexer": "ipython3",
   "version": "3.6.4"
  }
 },
 "nbformat": 4,
 "nbformat_minor": 2
}