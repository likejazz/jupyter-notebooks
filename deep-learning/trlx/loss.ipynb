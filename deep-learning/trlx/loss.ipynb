{
 "cells": [
  {
   "cell_type": "code",
   "execution_count": 1,
   "id": "dc197eb6-b664-481b-a17c-7e74e01de244",
   "metadata": {
    "tags": []
   },
   "outputs": [
    {
     "name": "stderr",
     "output_type": "stream",
     "text": [
      "/home/sshuser/.local/lib/python3.10/site-packages/tqdm/auto.py:21: TqdmWarning: IProgress not found. Please update jupyter and ipywidgets. See https://ipywidgets.readthedocs.io/en/stable/user_install.html\n",
      "  from .autonotebook import tqdm as notebook_tqdm\n"
     ]
    }
   ],
   "source": [
    "import json\n",
    "import os\n",
    "import sys\n",
    "from typing import List\n",
    "\n",
    "import torch\n",
    "from datasets import load_dataset\n",
    "from transformers import pipeline\n",
    "\n",
    "import trlx\n",
    "from trlx.data.default_configs import TRLConfig, default_ppo_config\n",
    "from trlx.utils.loading import get_pipeline, get_trainer\n",
    "from trlx.utils import set_seed"
   ]
  },
  {
   "cell_type": "code",
   "execution_count": 2,
   "id": "682ea650-d14e-4270-8ba4-f52bad2c31a3",
   "metadata": {
    "tags": []
   },
   "outputs": [],
   "source": [
    "default_config = default_ppo_config().to_dict()\n",
    "default_config['train']['total_steps'] = 1\n",
    "default_config['train']['tracker'] = 'tensorboard'\n",
    "default_config['method']['num_rollouts'] = 2\n",
    "default_config['method']['chunk_size'] = 2\n",
    "\n",
    "config = TRLConfig.update(default_config, {})"
   ]
  },
  {
   "cell_type": "code",
   "execution_count": 3,
   "id": "ad7937f0-dd17-4c5e-9796-91ec48766097",
   "metadata": {
    "tags": []
   },
   "outputs": [
    {
     "name": "stderr",
     "output_type": "stream",
     "text": [
      "Found cached dataset imdb (/home/sshuser/.cache/huggingface/datasets/imdb/plain_text/1.0.0/d613c88cf8fa3bab83b4ded3713f1f74830d1100e171db75bbddb80b3345c9c0)\n"
     ]
    }
   ],
   "source": [
    "# Take few words off of movies reviews as prompts\n",
    "imdb = load_dataset(\"imdb\", split=\"train+test\")\n",
    "prompts = [\" \".join(review.split()[:4]) for review in imdb[\"text\"]]\n",
    "\n",
    "sentiment_fn = pipeline(\n",
    "    \"sentiment-analysis\",\n",
    "    \"lvwerra/distilbert-imdb\",\n",
    "    top_k=2,\n",
    "    truncation=True,\n",
    "    batch_size=256,\n",
    "    device=0 if int(os.environ.get(\"LOCAL_RANK\", 0)) == 0 else -1,\n",
    ")\n",
    "\n",
    "\n",
    "def get_positive_score(scores):\n",
    "    # Extract value associated with a positive sentiment from pipeline's output\n",
    "    return dict(map(lambda x: tuple(x.values()), scores))[\"POSITIVE\"]\n",
    "\n",
    "\n",
    "def reward_fn(samples: List[str], **kwargs) -> List[float]:\n",
    "    sentiments = list(map(get_positive_score, sentiment_fn(samples)))\n",
    "    return sentiments"
   ]
  },
  {
   "cell_type": "code",
   "execution_count": 4,
   "id": "142b1c11-3dc3-409d-8ff2-24fcc12c9a91",
   "metadata": {
    "tags": []
   },
   "outputs": [
    {
     "name": "stderr",
     "output_type": "stream",
     "text": [
      "/home/sshuser/.local/lib/python3.10/site-packages/accelerate/accelerator.py:353: UserWarning: `log_with=tensorboard` was passed but no supported trackers are currently installed.\n",
      "  warnings.warn(f\"`log_with={log_with}` was passed but no supported trackers are currently installed.\")\n",
      "[RANK 0] Initializing model: lvwerra/gpt2-imdb\n"
     ]
    },
    {
     "name": "stdout",
     "output_type": "stream",
     "text": [
      "{\n",
      "    \"method\": {\n",
      "        \"name\": \"PPOConfig\",\n",
      "        \"ppo_epochs\": 4,\n",
      "        \"num_rollouts\": 2,\n",
      "        \"chunk_size\": 2,\n",
      "        \"init_kl_coef\": 0.05,\n",
      "        \"target\": 6,\n",
      "        \"horizon\": 10000,\n",
      "        \"gamma\": 1,\n",
      "        \"lam\": 0.95,\n",
      "        \"cliprange\": 0.2,\n",
      "        \"cliprange_value\": 0.2,\n",
      "        \"vf_coef\": 1,\n",
      "        \"scale_reward\": \"ignored\",\n",
      "        \"ref_mean\": null,\n",
      "        \"ref_std\": null,\n",
      "        \"cliprange_reward\": 10,\n",
      "        \"gen_kwargs\": {\n",
      "            \"max_new_tokens\": 40,\n",
      "            \"top_k\": 0,\n",
      "            \"top_p\": 1.0,\n",
      "            \"do_sample\": true\n",
      "        },\n",
      "        \"gen_experience_kwargs\": null\n",
      "    },\n",
      "    \"model\": {\n",
      "        \"model_path\": \"lvwerra/gpt2-imdb\",\n",
      "        \"model_arch_type\": \"causal\",\n",
      "        \"num_layers_unfrozen\": 2,\n",
      "        \"delta_kwargs\": null\n",
      "    },\n",
      "    \"optimizer\": {\n",
      "        \"name\": \"adamw\",\n",
      "        \"kwargs\": {\n",
      "            \"lr\": 0.0001,\n",
      "            \"betas\": [\n",
      "                0.9,\n",
      "                0.95\n",
      "            ],\n",
      "            \"eps\": 1e-08,\n",
      "            \"weight_decay\": 1e-06\n",
      "        }\n",
      "    },\n",
      "    \"scheduler\": {\n",
      "        \"name\": \"cosine_annealing\",\n",
      "        \"kwargs\": {\n",
      "            \"T_max\": 10000,\n",
      "            \"eta_min\": 0.0001\n",
      "        }\n",
      "    },\n",
      "    \"tokenizer\": {\n",
      "        \"tokenizer_path\": \"gpt2\",\n",
      "        \"padding_side\": \"left\",\n",
      "        \"truncation_side\": \"right\"\n",
      "    },\n",
      "    \"train\": {\n",
      "        \"total_steps\": 1,\n",
      "        \"seq_length\": 1024,\n",
      "        \"epochs\": 100,\n",
      "        \"batch_size\": 32,\n",
      "        \"checkpoint_interval\": 10000,\n",
      "        \"eval_interval\": 100,\n",
      "        \"pipeline\": \"PromptPipeline\",\n",
      "        \"trainer\": \"AcceleratePPOTrainer\",\n",
      "        \"trainer_kwargs\": {},\n",
      "        \"project_name\": \"trlx\",\n",
      "        \"entity_name\": null,\n",
      "        \"group_name\": null,\n",
      "        \"checkpoint_dir\": \"ckpts\",\n",
      "        \"rollout_logging_dir\": null,\n",
      "        \"save_best\": true,\n",
      "        \"tracker\": \"tensorboard\",\n",
      "        \"logging_dir\": null,\n",
      "        \"seed\": 1000\n",
      "    }\n",
      "}\n"
     ]
    }
   ],
   "source": [
    "set_seed(config.train.seed)\n",
    "\n",
    "trainer = get_trainer(config.train.trainer)(\n",
    "    config=config,\n",
    "    reward_fn=reward_fn,\n",
    "    **config.train.trainer_kwargs,\n",
    ")"
   ]
  },
  {
   "cell_type": "code",
   "execution_count": 5,
   "id": "9520acc1-872f-4bc0-911e-35aa45c254dd",
   "metadata": {
    "tags": []
   },
   "outputs": [
    {
     "data": {
      "text/plain": [
       "(32, 984)"
      ]
     },
     "execution_count": 5,
     "metadata": {},
     "output_type": "execute_result"
    }
   ],
   "source": [
    "batch_size = config.train.batch_size * int(os.environ.get(\"WORLD_SIZE\", 1))\n",
    "max_prompt_length = config.train.seq_length - config.method.gen_kwargs[\"max_new_tokens\"]\n",
    "batch_size, max_prompt_length"
   ]
  },
  {
   "cell_type": "code",
   "execution_count": 6,
   "id": "c73fe1bf-191b-40f7-a7ca-277c6734ed2b",
   "metadata": {
    "tags": []
   },
   "outputs": [
    {
     "data": {
      "text/plain": [
       "50000"
      ]
     },
     "execution_count": 6,
     "metadata": {},
     "output_type": "execute_result"
    }
   ],
   "source": [
    "prompts = prompts or [trainer.tokenizer.bos_token] * batch_size\n",
    "len(prompts)"
   ]
  },
  {
   "cell_type": "code",
   "execution_count": 7,
   "id": "d869ac41-0bd5-4d50-81e2-02b9e2396c1d",
   "metadata": {
    "tags": []
   },
   "outputs": [],
   "source": [
    "pipeline = get_pipeline(config.train.pipeline)(prompts, max_prompt_length, trainer.tokenizer)\n",
    "trainer.add_prompt_pipeline(pipeline)"
   ]
  },
  {
   "cell_type": "code",
   "execution_count": 8,
   "id": "6302a36f-e575-48e8-850c-d9736bae133a",
   "metadata": {
    "tags": []
   },
   "outputs": [
    {
     "name": "stderr",
     "output_type": "stream",
     "text": [
      "[RANK 0] Collecting rollouts\n",
      "You're using a GPT2TokenizerFast tokenizer. Please note that with a fast tokenizer, using the `__call__` method is faster than using a method to encode the text followed by a call to the `pad` method to get a padded encoding.\n"
     ]
    }
   ],
   "source": [
    "trainer.make_experience(config.method.num_rollouts)"
   ]
  },
  {
   "cell_type": "code",
   "execution_count": 9,
   "id": "e6d1bc7e-8aa9-45eb-a251-19eb871c6598",
   "metadata": {
    "tags": []
   },
   "outputs": [],
   "source": [
    "eval_prompts=[\"It's a bad movie but \"] * 64\n",
    "eval_pipeline = get_pipeline(config.train.pipeline)(eval_prompts, max_prompt_length, trainer.tokenizer)\n",
    "trainer.add_eval_pipeline(eval_pipeline)"
   ]
  },
  {
   "cell_type": "code",
   "execution_count": 10,
   "id": "2546ff8d-fcf2-48dc-92e8-4090370deb84",
   "metadata": {
    "tags": []
   },
   "outputs": [
    {
     "data": {
      "text/plain": [
       "{'basepipeline': trlx.pipeline.BasePipeline,\n",
       " 'promptpipeline': trlx.pipeline.offline_pipeline.PromptPipeline}"
      ]
     },
     "execution_count": 10,
     "metadata": {},
     "output_type": "execute_result"
    }
   ],
   "source": [
    "from trlx.pipeline import _DATAPIPELINE\n",
    "_DATAPIPELINE"
   ]
  },
  {
   "cell_type": "code",
   "execution_count": 11,
   "id": "d0ccebe6-e61f-43a1-9263-3e3d5410bc1b",
   "metadata": {
    "tags": []
   },
   "outputs": [
    {
     "data": {
      "text/plain": [
       "<trlx.pipeline.offline_pipeline.PromptPipeline at 0x7f72d41b9630>"
      ]
     },
     "execution_count": 11,
     "metadata": {},
     "output_type": "execute_result"
    }
   ],
   "source": [
    "trainer.eval_pipeline"
   ]
  },
  {
   "cell_type": "code",
   "execution_count": 12,
   "id": "50c68f91-8526-48e1-b525-7201d6bc9436",
   "metadata": {
    "tags": []
   },
   "outputs": [
    {
     "name": "stderr",
     "output_type": "stream",
     "text": [
      "[RANK 0] Evaluating model\n",
      "[generation sweep 1/1 | eval batch 2/2]: 100%|██████████████████████| 2/2 [00:00<00:00,  2.74it/s]\n",
      "[RANK 0] Computing rewards\n",
      "[RANK 0] Summarizing evaluation\n"
     ]
    },
    {
     "data": {
      "text/html": [
       "<pre style=\"white-space:pre;overflow-x:auto;line-height:normal;font-family:Menlo,'DejaVu Sans Mono',consolas,'Courier New',monospace\"><span style=\"font-style: italic\">                                         Evaluation #0 reward/mean: 0.288                                          </span>\n",
       "┏━━━━━━━━━━━━━━━━━━━━━━━┳━━━━━━━━━━━━━━━━━━━━━━━━━━━━━━━━━━━━━━━━━━━━━━━━━━━━━━━━━━━━━━━━━━━━━━━━━━━━━━━━┳━━━━━━━━┓\n",
       "┃<span style=\"font-weight: bold\"> prompt                </span>┃<span style=\"font-weight: bold\"> output                                                                         </span>┃<span style=\"font-weight: bold\"> reward </span>┃\n",
       "┡━━━━━━━━━━━━━━━━━━━━━━━╇━━━━━━━━━━━━━━━━━━━━━━━━━━━━━━━━━━━━━━━━━━━━━━━━━━━━━━━━━━━━━━━━━━━━━━━━━━━━━━━━╇━━━━━━━━┩\n",
       "│ It's a bad movie but  │ ive just gotta enjoy this 70 min. movie for a pretend scare. A lot of jokes:   │ 0.123  │\n",
       "│                       │ some chuckling dog ( spend mean money to make it this worse ) and some violent │        │\n",
       "│                       │ lunacy involving employees                                                     │        │\n",
       "├───────────────────────┼────────────────────────────────────────────────────────────────────────────────┼────────┤\n",
       "│ It's a bad movie but  │ ive just watched it some more!!the storyline isn't that good with just AC      │ 0.966  │\n",
       "│                       │ called.and even the second half of the movie is dated but everything is great  │        │\n",
       "│                       │ too and the ending are terrific!!!stay                                         │        │\n",
       "├───────────────────────┼────────────────────────────────────────────────────────────────────────────────┼────────┤\n",
       "│ It's a bad movie but  │ ive not seen any such terrible crap before. Don't see this as a horror film,   │ 0.601  │\n",
       "│                       │ or even if you do. Even still, it was finally worth watching.                  │        │\n",
       "└───────────────────────┴────────────────────────────────────────────────────────────────────────────────┴────────┘\n",
       "</pre>\n"
      ],
      "text/plain": [
       "\u001b[3m                                         Evaluation #0 reward/mean: 0.288                                          \u001b[0m\n",
       "┏━━━━━━━━━━━━━━━━━━━━━━━┳━━━━━━━━━━━━━━━━━━━━━━━━━━━━━━━━━━━━━━━━━━━━━━━━━━━━━━━━━━━━━━━━━━━━━━━━━━━━━━━━┳━━━━━━━━┓\n",
       "┃\u001b[1m \u001b[0m\u001b[1mprompt               \u001b[0m\u001b[1m \u001b[0m┃\u001b[1m \u001b[0m\u001b[1moutput                                                                        \u001b[0m\u001b[1m \u001b[0m┃\u001b[1m \u001b[0m\u001b[1mreward\u001b[0m\u001b[1m \u001b[0m┃\n",
       "┡━━━━━━━━━━━━━━━━━━━━━━━╇━━━━━━━━━━━━━━━━━━━━━━━━━━━━━━━━━━━━━━━━━━━━━━━━━━━━━━━━━━━━━━━━━━━━━━━━━━━━━━━━╇━━━━━━━━┩\n",
       "│ It's a bad movie but  │ ive just gotta enjoy this 70 min. movie for a pretend scare. A lot of jokes:   │ 0.123  │\n",
       "│                       │ some chuckling dog ( spend mean money to make it this worse ) and some violent │        │\n",
       "│                       │ lunacy involving employees                                                     │        │\n",
       "├───────────────────────┼────────────────────────────────────────────────────────────────────────────────┼────────┤\n",
       "│ It's a bad movie but  │ ive just watched it some more!!the storyline isn't that good with just AC      │ 0.966  │\n",
       "│                       │ called.and even the second half of the movie is dated but everything is great  │        │\n",
       "│                       │ too and the ending are terrific!!!stay                                         │        │\n",
       "├───────────────────────┼────────────────────────────────────────────────────────────────────────────────┼────────┤\n",
       "│ It's a bad movie but  │ ive not seen any such terrible crap before. Don't see this as a horror film,   │ 0.601  │\n",
       "│                       │ or even if you do. Even still, it was finally worth watching.                  │        │\n",
       "└───────────────────────┴────────────────────────────────────────────────────────────────────────────────┴────────┘\n"
      ]
     },
     "metadata": {},
     "output_type": "display_data"
    }
   ],
   "source": [
    "trainer.prepare_learning()\n",
    "trainer.iter_count = 0\n",
    "trainer.nth_evaluation = 0\n",
    "\n",
    "results = trainer.evaluate()"
   ]
  },
  {
   "cell_type": "code",
   "execution_count": 13,
   "id": "89485658-ec8f-467d-9473-c97e04eb3e38",
   "metadata": {
    "tags": []
   },
   "outputs": [],
   "source": [
    "best_reward = -float(\"inf\")"
   ]
  },
  {
   "cell_type": "code",
   "execution_count": 14,
   "id": "03c7b591-0bfd-4de5-916a-b2e001f816d0",
   "metadata": {
    "tags": []
   },
   "outputs": [
    {
     "data": {
      "text/plain": [
       "PPORLBatch(query_tensors=tensor([[20670,   257,  1256,   286],\n",
       "        [18357,   257,  1200,   286]]), response_tensors=tensor([[  670,  1816,   656,   262,  7110,    11,   475,   356,   991,  1392,\n",
       "           257,  4735,  2126,   644,   284,  1607,   422,   617, 28201,   582,\n",
       "           492, 11246,  3307,  1234,   287,   257,   264, 16406, 26951,   422,\n",
       "           597,   640,   329, 42402,   492, 11246,  6877,  4190,  8188,   492],\n",
       "        [  257,  1218,  1363,   290,   262,  3173,   286,   262,  2975,  1422,\n",
       "           470,  1107,  4174,   284,   502,  7620,    11,   314,   750,   281,\n",
       "          6672, 16835,   371,  2470,   284,   257,  1295,   884,   355,   428,\n",
       "            11, 19167,  4152,   287,  9131,   357,    40,   423,   281,  6565]]), logprobs=tensor([[-4.6365e+00, -1.3491e+00, -1.0836e-02, -2.0695e+00, -4.1903e+00,\n",
       "         -1.0977e+00, -1.4188e+00, -5.0114e+00, -4.0047e+00, -1.7658e+00,\n",
       "         -1.4360e+00, -4.2761e+00, -2.4873e+00, -3.3030e+00, -3.3897e+00,\n",
       "         -1.7317e-02, -1.3109e+00, -6.1550e+00, -9.5949e+00, -7.8768e+00,\n",
       "         -8.0313e+00, -6.4360e+00, -7.9072e+00, -7.4050e+00, -1.3195e+00,\n",
       "         -2.6163e+00, -8.2694e+00, -5.5626e+00, -1.1387e+01, -5.9335e+00,\n",
       "         -8.3580e+00, -3.9072e+00, -5.7580e+00, -1.1882e+01, -1.6020e+00,\n",
       "         -3.7634e+00, -1.0606e+01, -8.9964e+00, -4.6406e+00, -1.5847e+00],\n",
       "        [-2.9744e+00, -6.2627e+00, -3.0020e+00, -2.6644e+00, -3.3550e+00,\n",
       "         -7.6015e+00, -7.8444e-01, -9.1970e-01, -4.3435e+00, -5.5710e+00,\n",
       "         -9.2726e-04, -3.5682e+00, -9.2279e-01, -6.3699e-01, -4.5560e-01,\n",
       "         -7.0615e+00, -8.5670e-01, -1.1793e+00, -4.2575e+00, -6.5069e+00,\n",
       "         -5.9604e+00, -1.3295e+01, -5.8696e+00, -5.0322e-01, -3.6189e+00,\n",
       "         -3.7530e+00, -4.2058e+00, -6.6958e+00, -3.1166e-02, -1.4372e+00,\n",
       "         -2.0432e+00, -1.2213e+01, -7.6816e+00, -2.6541e+00, -5.3634e+00,\n",
       "         -3.7258e+00, -2.4395e+00, -3.0800e+00, -3.9182e+00, -6.9158e+00]]), values=tensor([[-0.4607,  0.4061,  0.2820, -0.2639, -0.2235, -0.2405, -0.1120, -0.4790,\n",
       "          0.0671, -0.1608, -0.4317, -0.1662, -0.2683, -0.3003, -0.1914, -0.0921,\n",
       "         -0.1924, -0.4764, -0.2498,  0.0863,  0.1396,  0.2646,  0.1715,  0.1863,\n",
       "          0.1385,  0.2328,  0.2157,  0.3551,  0.0044,  0.2806,  0.0656,  0.3727,\n",
       "          0.1672,  0.1240,  0.2711,  0.3553,  0.0461,  0.2849,  0.3941,  0.0620],\n",
       "        [-0.2120, -0.1072,  0.1986,  0.2235,  0.3098,  0.2233,  0.1274, -0.3026,\n",
       "         -0.4426,  0.2217, -3.2174, -0.2603, -0.2027, -0.2299, -0.4299, -0.1658,\n",
       "         -0.2485, -0.1000, -0.0840, -0.1694,  0.0781, -0.0698, -0.0570, -0.4302,\n",
       "         -0.1851, -0.0295, -0.2077, -0.0979, -0.6380, -0.2356, -0.0456,  0.2655,\n",
       "          0.0121,  0.0488, -0.0704,  0.0248,  0.3027,  0.3917,  0.2019,  0.4171]]), rewards=tensor([[-0.0000, -0.0000, -0.0000, -0.0000, -0.0000, -0.0000, -0.0000, -0.0000, -0.0000,\n",
       "         -0.0000, -0.0000, -0.0000, -0.0000, -0.0000, -0.0000, -0.0000, -0.0000, -0.0000,\n",
       "         -0.0000, -0.0000, -0.0000, -0.0000, -0.0000, -0.0000, -0.0000, -0.0000, -0.0000,\n",
       "         -0.0000, -0.0000, -0.0000, -0.0000, -0.0000, -0.0000, -0.0000, -0.0000, -0.0000,\n",
       "         -0.0000, -0.0000, -0.0000, 0.8653],\n",
       "        [-0.0000, -0.0000, -0.0000, -0.0000, -0.0000, -0.0000, -0.0000, -0.0000, -0.0000,\n",
       "         -0.0000, -0.0000, -0.0000, -0.0000, -0.0000, -0.0000, -0.0000, -0.0000, -0.0000,\n",
       "         -0.0000, -0.0000, -0.0000, -0.0000, -0.0000, -0.0000, -0.0000, -0.0000, -0.0000,\n",
       "         -0.0000, -0.0000, -0.0000, -0.0000, -0.0000, -0.0000, -0.0000, -0.0000, -0.0000,\n",
       "         -0.0000, -0.0000, -0.0000, 0.0793]]))"
      ]
     },
     "execution_count": 14,
     "metadata": {},
     "output_type": "execute_result"
    }
   ],
   "source": [
    "for batch in trainer.train_dataloader:\n",
    "    batch = batch\n",
    "batch"
   ]
  },
  {
   "cell_type": "code",
   "execution_count": 15,
   "id": "002ac1ca-c198-4a0c-8d18-897f9972dcb6",
   "metadata": {
    "tags": []
   },
   "outputs": [
    {
     "data": {
      "text/plain": [
       "tensor(0.1329, device='cuda:0', grad_fn=<AddBackward0>)"
      ]
     },
     "execution_count": 15,
     "metadata": {},
     "output_type": "execute_result"
    }
   ],
   "source": [
    "loss, stats = trainer.loss(batch)\n",
    "loss"
   ]
  },
  {
   "cell_type": "code",
   "execution_count": 16,
   "id": "b751f19b-2634-48a7-812e-d7282aedfeef",
   "metadata": {
    "tags": []
   },
   "outputs": [
    {
     "data": {
      "text/plain": [
       "tensor([[-0.0000, -0.0000, -0.0000, -0.0000, -0.0000, -0.0000, -0.0000, -0.0000, -0.0000,\n",
       "         -0.0000, -0.0000, -0.0000, -0.0000, -0.0000, -0.0000, -0.0000, -0.0000, -0.0000,\n",
       "         -0.0000, -0.0000, -0.0000, -0.0000, -0.0000, -0.0000, -0.0000, -0.0000, -0.0000,\n",
       "         -0.0000, -0.0000, -0.0000, -0.0000, -0.0000, -0.0000, -0.0000, -0.0000, -0.0000,\n",
       "         -0.0000, -0.0000, -0.0000, 0.8653],\n",
       "        [-0.0000, -0.0000, -0.0000, -0.0000, -0.0000, -0.0000, -0.0000, -0.0000, -0.0000,\n",
       "         -0.0000, -0.0000, -0.0000, -0.0000, -0.0000, -0.0000, -0.0000, -0.0000, -0.0000,\n",
       "         -0.0000, -0.0000, -0.0000, -0.0000, -0.0000, -0.0000, -0.0000, -0.0000, -0.0000,\n",
       "         -0.0000, -0.0000, -0.0000, -0.0000, -0.0000, -0.0000, -0.0000, -0.0000, -0.0000,\n",
       "         -0.0000, -0.0000, -0.0000, 0.0793]])"
      ]
     },
     "execution_count": 16,
     "metadata": {},
     "output_type": "execute_result"
    }
   ],
   "source": [
    "batch.rewards"
   ]
  },
  {
   "cell_type": "code",
   "execution_count": 17,
   "id": "5f994aca-f05f-4cad-b9a8-64b9f195dac3",
   "metadata": {
    "tags": []
   },
   "outputs": [
    {
     "data": {
      "text/plain": [
       "{'losses/total_loss': 0.13293874263763428,\n",
       " 'losses/policy_loss': -2.3841858265427618e-08,\n",
       " 'losses/value_loss': 0.13293877243995667,\n",
       " 'values/mean': tensor(-0.0566, device='cuda:0', grad_fn=<DivBackward0>),\n",
       " 'values/min': tensor(-3.2174, device='cuda:0', grad_fn=<MinBackward1>),\n",
       " 'values/max': tensor(0.4171, device='cuda:0', grad_fn=<MaxBackward1>),\n",
       " 'values/std': tensor(0.4370, device='cuda:0', grad_fn=<SqrtBackward0>),\n",
       " 'values/values_error': tensor(0.2659, device='cuda:0', grad_fn=<DivBackward0>),\n",
       " 'values/clipfrac': tensor(0., device='cuda:0'),\n",
       " 'old_values/mean': tensor(-0.0566, device='cuda:0'),\n",
       " 'old_values/min': tensor(-3.2174, device='cuda:0'),\n",
       " 'old_values/max': tensor(0.4171, device='cuda:0'),\n",
       " 'old_values/std': tensor(0.4370, device='cuda:0'),\n",
       " 'returns/mean': tensor(0.1989, device='cuda:0'),\n",
       " 'returns/min': tensor(-0.2411, device='cuda:0'),\n",
       " 'returns/max': tensor(0.8653, device='cuda:0'),\n",
       " 'returns/std': tensor(0.2925, device='cuda:0'),\n",
       " 'policy/approx_kl': 0.0,\n",
       " 'policy/clipfrac': 0.0,\n",
       " 'ratio': tensor(1., device='cuda:0', grad_fn=<DivBackward0>),\n",
       " 'padding_percentage': tensor(1., device='cuda:0')}"
      ]
     },
     "execution_count": 17,
     "metadata": {},
     "output_type": "execute_result"
    }
   ],
   "source": [
    "stats"
   ]
  },
  {
   "cell_type": "code",
   "execution_count": 18,
   "id": "b651472e-dfac-4ad6-9e7e-4a52dde73d42",
   "metadata": {
    "tags": []
   },
   "outputs": [],
   "source": [
    "query_tensors = batch.query_tensors\n",
    "response_tensors = batch.response_tensors\n",
    "old_logprobs = batch.logprobs\n",
    "old_values = batch.values\n",
    "old_rewards = batch.rewards\n",
    "response_length = old_rewards.shape[1]  # 40"
   ]
  },
  {
   "cell_type": "code",
   "execution_count": 19,
   "id": "bd7a8eeb-1e3a-4f46-96f7-d4a62cec11b9",
   "metadata": {
    "tags": []
   },
   "outputs": [
    {
     "data": {
      "text/plain": [
       "PPOConfig(name='PPOConfig', ppo_epochs=4, num_rollouts=2, chunk_size=2, init_kl_coef=0.05, target=6, horizon=10000, gamma=1, lam=0.95, cliprange=0.2, cliprange_value=0.2, vf_coef=1, scale_reward='ignored', ref_mean=None, ref_std=None, cliprange_reward=10, gen_kwargs={'max_new_tokens': 40, 'top_k': 0, 'top_p': 1.0, 'do_sample': True}, gen_experience_kwargs=None)"
      ]
     },
     "execution_count": 19,
     "metadata": {},
     "output_type": "execute_result"
    }
   ],
   "source": [
    "trainer.config.method"
   ]
  },
  {
   "cell_type": "code",
   "execution_count": 20,
   "id": "382d2689-09d5-4a61-9905-5dfc5a6153c2",
   "metadata": {
    "tags": []
   },
   "outputs": [],
   "source": [
    "# get_advantages_and_returns(old_values, old_rewards, response_length)\n",
    "lastgaelam = 0\n",
    "advantages_reversed = []\n",
    "for t in reversed(range(response_length)):\n",
    "    # Get next token's value\n",
    "    nextvalues = old_values[:, t + 1] if t < response_length - 1 else 0.0\n",
    "    delta = old_rewards[:, t] + trainer.config.method.gamma * \\\n",
    "        nextvalues - old_values[:, t]\n",
    "    lastgaelam = delta + trainer.config.method.gamma * \\\n",
    "        trainer.config.method.lam * lastgaelam\n",
    "    advantages_reversed.append(lastgaelam)"
   ]
  },
  {
   "cell_type": "code",
   "execution_count": 21,
   "id": "a75bf284-31f9-4816-a152-5544eea62b38",
   "metadata": {
    "tags": []
   },
   "outputs": [],
   "source": [
    "advantages = torch.stack(advantages_reversed[::-1], dim=1)"
   ]
  },
  {
   "cell_type": "code",
   "execution_count": 22,
   "id": "c549d174-1d0e-45e9-a7d7-ae8bf3c626cd",
   "metadata": {
    "tags": []
   },
   "outputs": [
    {
     "data": {
      "text/plain": [
       "tensor([[ 0.5445, -0.3393, -0.2265,  0.3362,  0.3114,  0.3457,  0.2286,  0.6270,\n",
       "          0.0851,  0.3294,  0.6319,  0.3858,  0.5135,  0.5743,  0.4898,  0.4111,\n",
       "          0.5383,  0.8656,  0.6726,  0.3542,  0.3168,  0.2019,  0.3104,  0.3112,\n",
       "          0.3779,  0.2985,  0.3322,  0.2030,  0.5828,  0.3228,  0.5661,  0.2726,\n",
       "          0.5033,  0.5753,  0.4507,  0.3857,  0.7315,  0.5187,  0.4311,  0.8034],\n",
       "        [ 0.0823, -0.0236, -0.3469, -0.3913, -0.5028, -0.4381, -0.3602,  0.0734,\n",
       "          0.2247, -0.4628,  3.1330,  0.1851,  0.1343,  0.1699,  0.3894,  0.1319,\n",
       "          0.2259,  0.0815,  0.0689,  0.1625, -0.0895,  0.0614,  0.0512,  0.4468,\n",
       "          0.2123,  0.0596,  0.2504,  0.1480,  0.7243,  0.3388,  0.1566, -0.1626,\n",
       "          0.0956,  0.0620,  0.1907,  0.1005, -0.1866, -0.2902, -0.1056, -0.3378]])"
      ]
     },
     "execution_count": 22,
     "metadata": {},
     "output_type": "execute_result"
    }
   ],
   "source": [
    "advantages"
   ]
  },
  {
   "cell_type": "code",
   "execution_count": 23,
   "id": "c93ad184-adb9-4111-b1a5-2ceb6b3ec2a3",
   "metadata": {
    "tags": []
   },
   "outputs": [
    {
     "data": {
      "text/plain": [
       "tensor([[-0.4607,  0.4061,  0.2820, -0.2639, -0.2235, -0.2405, -0.1120, -0.4790,\n",
       "          0.0671, -0.1608, -0.4317, -0.1662, -0.2683, -0.3003, -0.1914, -0.0921,\n",
       "         -0.1924, -0.4764, -0.2498,  0.0863,  0.1396,  0.2646,  0.1715,  0.1863,\n",
       "          0.1385,  0.2328,  0.2157,  0.3551,  0.0044,  0.2806,  0.0656,  0.3727,\n",
       "          0.1672,  0.1240,  0.2711,  0.3553,  0.0461,  0.2849,  0.3941,  0.0620],\n",
       "        [-0.2120, -0.1072,  0.1986,  0.2235,  0.3098,  0.2233,  0.1274, -0.3026,\n",
       "         -0.4426,  0.2217, -3.2174, -0.2603, -0.2027, -0.2299, -0.4299, -0.1658,\n",
       "         -0.2485, -0.1000, -0.0840, -0.1694,  0.0781, -0.0698, -0.0570, -0.4302,\n",
       "         -0.1851, -0.0295, -0.2077, -0.0979, -0.6380, -0.2356, -0.0456,  0.2655,\n",
       "          0.0121,  0.0488, -0.0704,  0.0248,  0.3027,  0.3917,  0.2019,  0.4171]])"
      ]
     },
     "execution_count": 23,
     "metadata": {},
     "output_type": "execute_result"
    }
   ],
   "source": [
    "old_values"
   ]
  },
  {
   "cell_type": "code",
   "execution_count": 24,
   "id": "2a78277a-22ee-4475-9390-e66e86e87a7b",
   "metadata": {
    "tags": []
   },
   "outputs": [
    {
     "data": {
      "text/plain": [
       "tensor([[ 0.0838,  0.0668,  0.0555,  0.0723,  0.0879,  0.1052,  0.1166,  0.1479,\n",
       "          0.1522,  0.1687,  0.2003,  0.2195,  0.2452,  0.2739,  0.2984,  0.3190,\n",
       "          0.3459,  0.3892,  0.4228,  0.4405,  0.4563,  0.4664,  0.4820,  0.4975,\n",
       "          0.5164,  0.5313,  0.5480,  0.5581,  0.5873,  0.6034,  0.6317,  0.6453,\n",
       "          0.6705,  0.6993,  0.7218,  0.7411,  0.7777,  0.8036,  0.8251,  0.8653],\n",
       "        [-0.1297, -0.1309, -0.1482, -0.1678, -0.1929, -0.2148, -0.2328, -0.2292,\n",
       "         -0.2179, -0.2411, -0.0844, -0.0752, -0.0685, -0.0600, -0.0405, -0.0339,\n",
       "         -0.0226, -0.0185, -0.0151, -0.0070, -0.0114, -0.0084, -0.0058,  0.0165,\n",
       "          0.0272,  0.0301,  0.0427,  0.0501,  0.0863,  0.1032,  0.1110,  0.1029,\n",
       "          0.1077,  0.1108,  0.1203,  0.1253,  0.1160,  0.1015,  0.0962,  0.0793]])"
      ]
     },
     "execution_count": 24,
     "metadata": {},
     "output_type": "execute_result"
    }
   ],
   "source": [
    "returns = advantages + old_values\n",
    "returns"
   ]
  },
  {
   "cell_type": "code",
   "execution_count": 25,
   "id": "2c928946-4b94-4979-95aa-85580ea86a76",
   "metadata": {
    "tags": []
   },
   "outputs": [],
   "source": [
    "from trlx.utils.modeling import whiten\n",
    "advantages = whiten(advantages)"
   ]
  },
  {
   "cell_type": "code",
   "execution_count": 26,
   "id": "ad6c4ae0-c3df-4345-b511-3fae6b43b8eb",
   "metadata": {
    "tags": []
   },
   "outputs": [
    {
     "data": {
      "text/plain": [
       "tensor([[ 0.6413, -1.3197, -1.0693,  0.1791,  0.1240,  0.2002, -0.0596,  0.8243,\n",
       "         -0.3780,  0.1641,  0.8353,  0.2891,  0.5724,  0.7073,  0.5198,  0.3453,\n",
       "          0.6275,  1.3536,  0.9255,  0.2190,  0.1360, -0.1189,  0.1219,  0.1236,\n",
       "          0.2717,  0.0955,  0.1702, -0.1163,  0.7263,  0.1494,  0.6891,  0.0380,\n",
       "          0.5498,  0.7095,  0.4331,  0.2890,  1.0562,  0.5840,  0.3896,  1.2156],\n",
       "        [-0.3842, -0.6192, -1.3364, -1.4350, -1.6823, -1.5389, -1.3661, -0.4039,\n",
       "         -0.0683, -1.5936,  6.3842, -0.1561, -0.2689, -0.1899,  0.2971, -0.2742,\n",
       "         -0.0655, -0.3859, -0.4138, -0.2064, -0.7655, -0.4305, -0.4533,  0.4244,\n",
       "         -0.0958, -0.4345, -0.0113, -0.2385,  1.0401,  0.1848, -0.2193, -0.9275,\n",
       "         -0.3547, -0.4293, -0.1437, -0.3438, -0.9809, -1.2107, -0.8012, -1.3162]])"
      ]
     },
     "execution_count": 26,
     "metadata": {},
     "output_type": "execute_result"
    }
   ],
   "source": [
    "advantages"
   ]
  },
  {
   "cell_type": "code",
   "execution_count": 27,
   "id": "224810d8-bb74-43f6-86f2-f3c3997d0d31",
   "metadata": {
    "tags": []
   },
   "outputs": [
    {
     "data": {
      "text/plain": [
       "tensor([[20670,   257,  1256,   286,   670,  1816,   656,   262,  7110,    11,\n",
       "           475,   356,   991,  1392,   257,  4735,  2126,   644,   284,  1607,\n",
       "           422,   617, 28201,   582,   492, 11246,  3307,  1234,   287,   257,\n",
       "           264, 16406, 26951,   422,   597,   640,   329, 42402,   492, 11246,\n",
       "          6877,  4190,  8188,   492],\n",
       "        [18357,   257,  1200,   286,   257,  1218,  1363,   290,   262,  3173,\n",
       "           286,   262,  2975,  1422,   470,  1107,  4174,   284,   502,  7620,\n",
       "            11,   314,   750,   281,  6672, 16835,   371,  2470,   284,   257,\n",
       "          1295,   884,   355,   428,    11, 19167,  4152,   287,  9131,   357,\n",
       "            40,   423,   281,  6565]], device='cuda:0')"
      ]
     },
     "execution_count": 27,
     "metadata": {},
     "output_type": "execute_result"
    }
   ],
   "source": [
    "tokens = torch.cat((query_tensors, response_tensors), dim=1).to('cuda:0')\n",
    "tokens"
   ]
  },
  {
   "cell_type": "code",
   "execution_count": 28,
   "id": "24360497-8700-4314-9119-f0370fe8c0f4",
   "metadata": {
    "tags": []
   },
   "outputs": [
    {
     "data": {
      "text/plain": [
       "tensor([[1, 1, 1, 1, 1, 1, 1, 1, 1, 1, 1, 1, 1, 1, 1, 1, 1, 1, 1, 1, 1, 1, 1, 1,\n",
       "         1, 1, 1, 1, 1, 1, 1, 1, 1, 1, 1, 1, 1, 1, 1, 1, 1, 1, 1, 1],\n",
       "        [1, 1, 1, 1, 1, 1, 1, 1, 1, 1, 1, 1, 1, 1, 1, 1, 1, 1, 1, 1, 1, 1, 1, 1,\n",
       "         1, 1, 1, 1, 1, 1, 1, 1, 1, 1, 1, 1, 1, 1, 1, 1, 1, 1, 1, 1]],\n",
       "       device='cuda:0')"
      ]
     },
     "execution_count": 28,
     "metadata": {},
     "output_type": "execute_result"
    }
   ],
   "source": [
    "attention_mask = tokens.not_equal(trainer.tokenizer.pad_token_id).long().to('cuda:0')\n",
    "attention_mask"
   ]
  },
  {
   "cell_type": "code",
   "execution_count": 29,
   "id": "255e2edb-ef11-4fb5-99a4-e68c0e33d691",
   "metadata": {
    "tags": []
   },
   "outputs": [],
   "source": [
    "outputs = trainer.model(tokens, attention_mask, return_dict=True)\n",
    "logits = outputs.logits"
   ]
  },
  {
   "cell_type": "code",
   "execution_count": 30,
   "id": "bdab0944-e7fb-47dc-b18f-6318268771e8",
   "metadata": {
    "tags": []
   },
   "outputs": [
    {
     "data": {
      "text/plain": [
       "torch.Size([2, 44, 50257])"
      ]
     },
     "execution_count": 30,
     "metadata": {},
     "output_type": "execute_result"
    }
   ],
   "source": [
    "logits.shape"
   ]
  },
  {
   "cell_type": "code",
   "execution_count": 31,
   "id": "d26eb1cd-fc77-48ae-967e-7630ef33d9a4",
   "metadata": {
    "tags": []
   },
   "outputs": [
    {
     "data": {
      "text/plain": [
       "torch.Size([2, 43])"
      ]
     },
     "execution_count": 31,
     "metadata": {},
     "output_type": "execute_result"
    }
   ],
   "source": [
    "values_pred = outputs.value\n",
    "values_pred = values_pred[:, :-1]\n",
    "values_pred.shape"
   ]
  },
  {
   "cell_type": "code",
   "execution_count": 32,
   "id": "b31eac95-635b-477c-83c3-7103c97b5464",
   "metadata": {
    "tags": []
   },
   "outputs": [
    {
     "data": {
      "text/plain": [
       "torch.Size([2, 43])"
      ]
     },
     "execution_count": 32,
     "metadata": {},
     "output_type": "execute_result"
    }
   ],
   "source": [
    "from trlx.utils.modeling import logprobs_of_labels\n",
    "\n",
    "# Softmax probabilities\n",
    "logprobs = logprobs_of_labels(logits[:, :-1, :], tokens[:, 1:])\n",
    "logprobs.shape"
   ]
  },
  {
   "cell_type": "code",
   "execution_count": 33,
   "id": "34434eea-3eeb-4c07-941f-22c96a99844e",
   "metadata": {
    "tags": []
   },
   "outputs": [],
   "source": [
    "start = query_tensors.shape[1] - 1\n",
    "end = start + response_length\n",
    "logprobs, values_pred, mask = (\n",
    "    logprobs[:, start:end],\n",
    "    values_pred[:, start:end],\n",
    "    attention_mask[:, start:end],\n",
    ")"
   ]
  },
  {
   "cell_type": "code",
   "execution_count": 34,
   "id": "c0f08f93-8f94-4c89-95e6-98d9061af187",
   "metadata": {
    "tags": []
   },
   "outputs": [
    {
     "data": {
      "text/plain": [
       "torch.Size([2, 40])"
      ]
     },
     "execution_count": 34,
     "metadata": {},
     "output_type": "execute_result"
    }
   ],
   "source": [
    "values_pred.shape"
   ]
  },
  {
   "cell_type": "code",
   "execution_count": 35,
   "id": "8dec594e-33bf-4bfe-9d50-e5d04c664413",
   "metadata": {
    "tags": []
   },
   "outputs": [],
   "source": [
    "logprobs=logprobs.to('cuda:0')\n",
    "values=values_pred.to('cuda:0')\n",
    "old_logprobs=old_logprobs.to('cuda:0')\n",
    "old_values=old_values.to('cuda:0')\n",
    "advantages=advantages.to('cuda:0')\n",
    "returns=returns.to('cuda:0')\n",
    "mask=mask.to('cuda:0')\n",
    "\n",
    "loss, stats = trainer.config.method.loss(\n",
    "    logprobs=logprobs,\n",
    "    values=values_pred,\n",
    "    old_logprobs=old_logprobs,\n",
    "    old_values=old_values,\n",
    "    advantages=advantages,\n",
    "    returns=returns,\n",
    "    mask=mask,\n",
    ")"
   ]
  },
  {
   "cell_type": "code",
   "execution_count": 36,
   "id": "24f02a19-61c9-47d2-bf87-7ab3eb56bcdc",
   "metadata": {
    "tags": []
   },
   "outputs": [],
   "source": [
    "values_clipped = torch.clamp(\n",
    "    values_pred,\n",
    "    old_values - trainer.config.method.cliprange_value,\n",
    "    old_values + trainer.config.method.cliprange_value,\n",
    ")\n",
    "n = mask.sum()"
   ]
  },
  {
   "cell_type": "code",
   "execution_count": 37,
   "id": "1be4724b-be60-4a2d-bd64-64511f0bec09",
   "metadata": {
    "tags": []
   },
   "outputs": [],
   "source": [
    "vf_loss1 = (values - returns) ** 2\n",
    "vf_loss2 = (values_clipped - returns) ** 2\n",
    "vf_loss = 0.5 * torch.sum(torch.max(vf_loss1, vf_loss2) * mask) / n\n",
    "vf_clipfrac = torch.sum((vf_loss2 > vf_loss1).float() * mask) / n\n",
    "\n",
    "log_ratio = (logprobs - old_logprobs) * mask\n",
    "ratio = torch.exp(log_ratio)"
   ]
  },
  {
   "cell_type": "code",
   "execution_count": 38,
   "id": "fcaee42c-ea88-48d5-aa20-7f7566a9db21",
   "metadata": {
    "tags": []
   },
   "outputs": [],
   "source": [
    "# Unbiased KL-div estimates (`k3`). Ref: http://joschu.net/blog/kl-approx.html\n",
    "with torch.no_grad():\n",
    "    approx_kl = torch.mean((ratio - 1) - log_ratio)\n",
    "\n",
    "pg_loss1 = -advantages * ratio\n",
    "pg_loss2 = -advantages * torch.clamp(\n",
    "    ratio,\n",
    "    1.0 - trainer.config.method.cliprange,\n",
    "    1.0 + trainer.config.method.cliprange,\n",
    ")\n",
    "pg_loss = torch.sum(torch.max(pg_loss1, pg_loss2) * mask) / n\n",
    "pg_clipfrac = torch.sum((pg_loss2 > pg_loss1).float() * mask) / n"
   ]
  },
  {
   "cell_type": "code",
   "execution_count": 39,
   "id": "638f8787-05bd-45fc-a2ac-596056283968",
   "metadata": {
    "tags": []
   },
   "outputs": [],
   "source": [
    "loss = pg_loss + trainer.config.method.vf_coef * vf_loss"
   ]
  },
  {
   "cell_type": "code",
   "execution_count": 40,
   "id": "376426f9-22d1-44cc-8f3f-41b091ec4798",
   "metadata": {
    "tags": []
   },
   "outputs": [
    {
     "data": {
      "text/plain": [
       "1"
      ]
     },
     "execution_count": 40,
     "metadata": {},
     "output_type": "execute_result"
    }
   ],
   "source": [
    "trainer.config.method.vf_coef"
   ]
  }
 ],
 "metadata": {
  "kernelspec": {
   "display_name": "Python 3 (ipykernel)",
   "language": "python",
   "name": "python3"
  },
  "language_info": {
   "codemirror_mode": {
    "name": "ipython",
    "version": 3
   },
   "file_extension": ".py",
   "mimetype": "text/x-python",
   "name": "python",
   "nbconvert_exporter": "python",
   "pygments_lexer": "ipython3",
   "version": "3.10.8"
  }
 },
 "nbformat": 4,
 "nbformat_minor": 5
}
